{
 "cells": [
  {
   "cell_type": "code",
   "execution_count": 1,
   "id": "92b30f9b",
   "metadata": {},
   "outputs": [],
   "source": [
    "import numpy as np\n",
    "import tensorflow as tf\n",
    "from scipy.stats import random_correlation\n",
    "import matplotlib.pyplot as plt\n",
    "from tqdm import tqdm"
   ]
  },
  {
   "cell_type": "markdown",
   "id": "12d0d94d",
   "metadata": {},
   "source": [
    "## Multidimensional Geometric Brownian Motion"
   ]
  },
  {
   "cell_type": "code",
   "execution_count": 2,
   "id": "5cdc3598",
   "metadata": {},
   "outputs": [],
   "source": [
    "T = 50 # time horizon\n",
    "dt = 1/252 # discretisation\n",
    "n = 10 # number of stocks\n",
    "N = 1000 # sample size on simplex\n",
    "\n",
    "NT = int(T/dt) # time\n",
    "grid = np.linspace(0,T,NT+1) # time grid\n",
    "\n",
    "S0 = 100*np.ones(n) # initial prices\n",
    "mu = 0.07*np.ones(n) # drifts\n",
    "sigma = 0.25*np.ones(n) # volas\n",
    "\n",
    "eig = np.random.uniform(0.1, 1, n) # \n",
    "eig = eig/np.sum(eig)*n # Sum of eigenvalues must equal dimensionality.\n",
    "rho = random_correlation.rvs(eig) # \n",
    "Cov = np.tensordot(sigma, sigma, 0) * rho"
   ]
  },
  {
   "cell_type": "code",
   "execution_count": 3,
   "id": "1463918b",
   "metadata": {},
   "outputs": [
    {
     "data": {
      "image/png": "[encoded data removed]",
      "text/plain": [
       "<Figure size 432x288 with 1 Axes>"
      ]
     },
     "metadata": {
      "needs_background": "light"
     },
     "output_type": "display_data"
    }
   ],
   "source": [
    "def GBMsimulator(seed, S0, mu, sigma, Cov, T, NT):\n",
    "    if seed:\n",
    "        np.random.seed(seed) \n",
    "    A = np.linalg.cholesky(Cov)\n",
    "    dW = np.random.normal(size = (n,NT)) * np.sqrt(dt)\n",
    "    S = np.zeros([n, NT+1])\n",
    "    S[:, 0] = S0\n",
    "    for i in range(NT):    \n",
    "        drift = (mu - 0.5 * sigma**2) * dt\n",
    "        diffusion = np.matmul(A, dW[:,i])\n",
    "        S[:, i+1] = S[:, i]*np.exp(drift + diffusion)\n",
    "    return S.T\n",
    "\n",
    "S = GBMsimulator(None, S0, mu, sigma, Cov, T, NT)\n",
    "plt.plot(grid,S)\n",
    "plt.grid()"
   ]
  },
  {
   "cell_type": "markdown",
   "id": "71857b54",
   "metadata": {},
   "source": [
    "## Cover's Universal Portfolio \n",
    "is as good as the long run yield of the best retrospectively chosen constant rebalanced portfolio."
   ]
  },
  {
   "cell_type": "code",
   "execution_count": 4,
   "id": "1c2bae2a",
   "metadata": {},
   "outputs": [],
   "source": [
    "# normalized logarithmic return of each stocks\n",
    "# R = S[-1]/S[0]\n",
    "# nlr = np.log(R)/T\n",
    "# plt.barh(np.arange(n)+1,nlr)\n",
    "# plt.show()"
   ]
  },
  {
   "cell_type": "code",
   "execution_count": 5,
   "id": "06588322",
   "metadata": {},
   "outputs": [
    {
     "name": "stdout",
     "output_type": "stream",
     "text": [
      "equally weighted:  27.245908451427923\n",
      "best constant rebalanced:  110.20257367715378\n",
      "adaptive rebalanced:  35.31194995488212\n"
     ]
    }
   ],
   "source": [
    "S = GBMsimulator(None, S0, mu, sigma, Cov, T, NT)\n",
    "R = S[-1]/S[0]\n",
    "\n",
    "simplex_uniform = np.random.exponential(scale=1.0, size=[N,n])\n",
    "simplex_uniform = simplex_uniform / np.sum(simplex_uniform,axis=-1,keepdims = True)\n",
    "\n",
    "# equally weighted \n",
    "weight = np.ones(n)/n\n",
    "V = (weight * R).sum()\n",
    "print('equally weighted: ',V)\n",
    "\n",
    "# best constant rebalanced portfolio strategies\n",
    "V = np.sum(simplex_uniform * R, axis=-1)\n",
    "print('best constant rebalanced: ',V.max())\n",
    "\n",
    "#adaptive performance weighted strategy\n",
    "def weight_update(S):\n",
    "    weight_list = [np.ones(n)/n]\n",
    "    weigth = weight_list[0]\n",
    "    for i in range(NT):\n",
    "        Rt = S[i+1]/S[i]\n",
    "        Vt = np.sum(simplex_uniform * Rt, axis=-1)\n",
    "        weight_new = np.mean(simplex_uniform*Vt[:,None],axis=0) / np.mean(Vt)\n",
    "        weight_list.append(weight_new)\n",
    "    return np.array(weight_list)\n",
    "def wealth_update(weights):\n",
    "    Vs = np.ones(NT+1)\n",
    "    for i in range(NT):\n",
    "        Rt = S[i+1]/S[i]\n",
    "        Vs[i+1] = Vs[i] * (weights[i] * Rt).sum()\n",
    "    return Vs\n",
    "\n",
    "weights = weight_update(S)\n",
    "Vs = wealth_update(weights)\n",
    "print('adaptive rebalanced: ',Vs[-1])"
   ]
  },
  {
   "cell_type": "code",
   "execution_count": 10,
   "id": "56129812",
   "metadata": {},
   "outputs": [],
   "source": [
    "def test(trials):\n",
    "    Vconstant = np.zeros(trials)\n",
    "    Vadapted = np.zeros(trials)\n",
    "    Vbest= np.zeros(trials)\n",
    "    for i in tqdm(range(trials)):\n",
    "        S = GBMsimulator(None, S0, mu, sigma, Cov, T, NT)\n",
    "        R = S[-1]/S[0]\n",
    "        \n",
    "        weight = np.ones(n)/n\n",
    "        V = (weight * R).sum()\n",
    "        Vconstant[i] = V\n",
    "        \n",
    "        V = np.sum(simplex_uniform * R, axis=-1)\n",
    "        Vbest[i] = V.max()\n",
    "        \n",
    "        weights = weight_update(S)\n",
    "        Vs = wealth_update(weights)\n",
    "        Vadapted[i] = Vs[-1]\n",
    "        \n",
    "    return Vconstant, Vbest, Vadapted"
   ]
  },
  {
   "cell_type": "code",
   "execution_count": 11,
   "id": "8f0aba65",
   "metadata": {
    "scrolled": true
   },
   "outputs": [
    {
     "name": "stderr",
     "output_type": "stream",
     "text": [
      "100%|█████████████████████████████████████████| 100/100 [00:57<00:00,  1.73it/s]\n"
     ]
    }
   ],
   "source": [
    "Vconstant, Vbest, Vadapted = test(100)"
   ]
  },
  {
   "cell_type": "code",
   "execution_count": 12,
   "id": "22f98b7a",
   "metadata": {},
   "outputs": [
    {
     "data": {
      "text/plain": [
       "<matplotlib.legend.Legend at 0x1749905b0>"
      ]
     },
     "execution_count": 12,
     "metadata": {},
     "output_type": "execute_result"
    },
    {
     "data": {
      "image/png": "[encoded data removed]",
      "text/plain": [
       "<Figure size 432x288 with 1 Axes>"
      ]
     },
     "metadata": {
      "needs_background": "light"
     },
     "output_type": "display_data"
    }
   ],
   "source": [
    "plt.scatter(np.arange(100),np.log(Vconstant),label = 'constant')\n",
    "plt.scatter(np.arange(100),np.log(Vbest),label = 'best')\n",
    "plt.scatter(np.arange(100),np.log(Vadapted),label = 'adapted')\n",
    "plt.legend()"
   ]
  },
  {
   "cell_type": "markdown",
   "id": "dbc6f90a",
   "metadata": {},
   "source": [
    "## Fernholz Stochastic Portfolio Theory\n",
    "where rebalancing rule need not to be constant anymore but may depend on the present state of\n",
    "the stock market"
   ]
  },
  {
   "cell_type": "code",
   "execution_count": 309,
   "id": "cd3e4ff5",
   "metadata": {},
   "outputs": [],
   "source": [
    "# market weights \n",
    "mu = S/np.sum(S,axis=1,keepdims = True)"
   ]
  },
  {
   "cell_type": "markdown",
   "id": "dc8f61ef",
   "metadata": {},
   "source": [
    "## Log-optimal Numeraire Portfolio\n",
    "not model-free but for comparision\n"
   ]
  },
  {
   "cell_type": "code",
   "execution_count": null,
   "id": "f613c30f",
   "metadata": {},
   "outputs": [],
   "source": []
  }
 ],
 "metadata": {
  "kernelspec": {
   "display_name": "Python 3.8.12 64-bit ('deep_hedge': conda)",
   "language": "python",
   "name": "python3812jvsc74a57bd0d42c10dd17494b873eaf240106df0a13a9aa441e372cea07a522242d1d1c2655"
  },
  "language_info": {
   "codemirror_mode": {
    "name": "ipython",
    "version": 3
   },
   "file_extension": ".py",
   "mimetype": "text/x-python",
   "name": "python",
   "nbconvert_exporter": "python",
   "pygments_lexer": "ipython3",
   "version": "3.8.12"
  }
 },
 "nbformat": 4,
 "nbformat_minor": 5
}
