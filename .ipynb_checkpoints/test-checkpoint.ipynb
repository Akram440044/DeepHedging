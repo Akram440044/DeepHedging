{
 "cells": [
  {
   "cell_type": "code",
   "execution_count": 16,
   "id": "loaded-iraqi",
   "metadata": {},
   "outputs": [
    {
     "data": {
      "text/plain": [
       "<module 'utils.utils_efficient' from 'C:\\\\SongyanHou\\\\Study\\\\Codes\\\\DeepHedging\\\\utils\\\\utils_efficient.py'>"
      ]
     },
     "execution_count": 16,
     "metadata": {},
     "output_type": "execute_result"
    }
   ],
   "source": [
    "import numpy as np \n",
    "import tensorflow as tf\n",
    "import matplotlib.pyplot as plt\n",
    "from scipy.stats import norm\n",
    "import utils.utils_efficient as utils_efficient\n",
    "from importlib import reload \n",
    "reload(utils_efficient)"
   ]
  },
  {
   "cell_type": "code",
   "execution_count": 32,
   "id": "spanish-rogers",
   "metadata": {},
   "outputs": [
    {
     "data": {
      "text/plain": [
       "0.015289572851870218"
      ]
     },
     "execution_count": 32,
     "metadata": {},
     "output_type": "execute_result"
    }
   ],
   "source": [
    "T = 0.25 # maturity\n",
    "K1 = 1.1\n",
    "K2 = 1.3\n",
    "sigma = 0.3\n",
    "S0 = 1\n",
    "payoff_function = lambda x : (x-K1) * ((x < K2) & (x > K1))\n",
    "m = 1 \n",
    "Ktrain = 10**5\n",
    "N = 100\n",
    "price_path, time_grid = utils_efficient.simulate_GBM(m,Ktrain,N,T,0,sigma,S0, 'equi')\n",
    "initial_wealth = payoff_function(price_path[:,-1]).mean() ###### EMM\n",
    "initial_wealth"
   ]
  },
  {
   "cell_type": "code",
   "execution_count": 35,
   "id": "tribal-hudson",
   "metadata": {},
   "outputs": [
    {
     "name": "stdout",
     "output_type": "stream",
     "text": [
      "nan\n",
      "nan\n"
     ]
    },
    {
     "data": {
      "text/plain": [
       "(0.015422225605757373, 0.2556624010277682)"
      ]
     },
     "execution_count": 35,
     "metadata": {},
     "output_type": "execute_result"
    }
   ],
   "source": [
    "BS0(T, S0, K1, K2, sigma)"
   ]
  }
 ],
 "metadata": {
  "kernelspec": {
   "display_name": "Python [conda env:deephedge] *",
   "language": "python",
   "name": "conda-env-deephedge-py"
  },
  "language_info": {
   "codemirror_mode": {
    "name": "ipython",
    "version": 3
   },
   "file_extension": ".py",
   "mimetype": "text/x-python",
   "name": "python",
   "nbconvert_exporter": "python",
   "pygments_lexer": "ipython3",
   "version": "3.8.8"
  }
 },
 "nbformat": 4,
 "nbformat_minor": 5
}
