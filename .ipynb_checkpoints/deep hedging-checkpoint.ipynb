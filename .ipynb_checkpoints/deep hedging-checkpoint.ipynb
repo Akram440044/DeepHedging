{
 "cells": [
  {
   "cell_type": "code",
   "execution_count": 34,
   "metadata": {},
   "outputs": [
    {
     "name": "stdout",
     "output_type": "stream",
     "text": [
      "2.3.0\n"
     ]
    },
    {
     "data": {
      "text/plain": [
       "<module 'utils' from 'C:\\\\SongyanHou\\\\Study\\\\Codes\\\\DeepHedging\\\\utils.py'>"
      ]
     },
     "execution_count": 34,
     "metadata": {},
     "output_type": "execute_result"
    }
   ],
   "source": [
    "import numpy as np \n",
    "import tensorflow as tf\n",
    "import matplotlib.pyplot as plt\n",
    "from scipy.stats import norm\n",
    "keras = tf.keras\n",
    "import utils \n",
    "from importlib import reload \n",
    "print(tf.__version__)\n",
    "reload(utils)"
   ]
  },
  {
   "cell_type": "code",
   "execution_count": 35,
   "metadata": {},
   "outputs": [],
   "source": [
    "N = 100 # time disrectization    \n",
    "S0 = 1.0 # initial value of the asset\n",
    "T = 30/365 # maturity\n",
    "dt = T / 100\n",
    "strike = 1.0\n",
    "\n",
    "option_type = 'eurocall'\n",
    "# option_type = 'eurodigitalcall'\n",
    "\n",
    "if option_type == 'eurocall':\n",
    "    payoff_function = lambda x : 0.5*(np.abs(x-strike)+x-strike) # European call option payoff\n",
    "if option_type == 'eurodigitalcall':\n",
    "    payoff_function = lambda x : (x-strike) > 0 # European digital call option payoff"
   ]
  },
  {
   "cell_type": "markdown",
   "metadata": {},
   "source": [
    "### Generate paths\n",
    "\n",
    "#### Black-Scholes\n",
    "$$\n",
    "dS_{t}=\\sigma S_{t}\\,dW_{t}\n",
    "$$"
   ]
  },
  {
   "cell_type": "code",
   "execution_count": 36,
   "metadata": {},
   "outputs": [
    {
     "name": "stdout",
     "output_type": "stream",
     "text": [
      "real premium: 0.02287\n"
     ]
    },
    {
     "data": {
      "image/png": "[encoded data removed]",
      "text/plain": [
       "<Figure size 432x216 with 1 Axes>"
      ]
     },
     "metadata": {
      "needs_background": "light"
     },
     "output_type": "display_data"
    }
   ],
   "source": [
    "m = 1 # dimension of price\n",
    "sigma = 0.2\n",
    "Ktrain = 10**5\n",
    "price_path, time_grid = utils.simulate_GBM(m,Ktrain,N,T,sigma,S0, 'equi')\n",
    "payoff = payoff_function(price_path[:,-1]) \n",
    "delta_output, delta_path, option_path = utils.delta_hedge(price_path,payoff,T,strike,sigma,option_type,time_grid)\n",
    "BS_price,_ = utils.BlackScholes(T, S0, strike, sigma, option_type)\n",
    "print(f\"real premium: {BS_price:{1}.{4}}\")           # real premium\n",
    "\n",
    "for i in range(1):\n",
    "    plt.figure(figsize = [6,3])\n",
    "    plt.plot(time_grid, price_path[i,:,0].T - S0, label = 'price - strike')\n",
    "    plt.plot(time_grid, delta_path[i,:,0].T, label = 'delta')\n",
    "    plt.plot(time_grid, option_path[i,:,0].T, label = 'true')\n",
    "    plt.legend()\n",
    "    plt.grid()\n",
    "    plt.show()"
   ]
  },
  {
   "cell_type": "markdown",
   "metadata": {},
   "source": [
    "#### Heston \n",
    "$$\n",
    "dS_{t}={\\sqrt  {V_{t}}}S_{t}\\,dW_{t}^{S}\n",
    "$$\n",
    "$$\n",
    "dV_{t}=\\kappa (\\theta -V_{t})\\,dt+\\sigma {\\sqrt  {V_{t}}}\\,dW_{t}^{{\\nu }}\n",
    "$$\n",
    "Feller condition\n",
    "$$\n",
    "2\\kappa \\theta >\\sigma ^{2}\n",
    "$$\n",
    "Variance Swap \n",
    "$$\n",
    "S^{2}_{t} = \n",
    "$$\n",
    "\n"
   ]
  },
  {
   "cell_type": "code",
   "execution_count": 37,
   "metadata": {},
   "outputs": [],
   "source": [
    "# import QuantLib as ql\n",
    "# # parameters from \"Deep Hedging\"\n",
    "# kappa = 1  # mean reversion strength\n",
    "# sigma = 2  # vol of vol\n",
    "# rho = -0.7  # corr between asset price and var\n",
    "# theta = 0.04\n",
    "\n",
    "# volatility = np.sqrt(theta)\n",
    "# v0 = theta # historical vols for the stock  \n",
    "# Ktrain = 10**5\n",
    "# print(2*kappa*theta - sigma**2)\n",
    "\n",
    "# price_path, vol_path = utils.simulate_Heston(Ktrain,N,T,rho,kappa,theta,sigma,S0,v0)\n",
    "# payoff = payoff_function(price_path[:,-1]) \n",
    "# path_all = np.concatenate([price_path, vol_path],axis = -1)\n",
    "\n",
    "# time_grid = np.linspace(0,T,N+1)\n",
    "# time_grid = time_grid[:,None]\n",
    "# L = (vol_path - theta) / kappa * (1 - np.exp(-kappa*(T - time_grid))) + theta * (T - time_grid)\n",
    "# vs_path = L\n",
    "# vs_path[:,1:] = vs_path[:,1:] + np.cumsum(vol_path[:,:-1],axis = 1) * dt\n",
    "# path_all = np.concatenate([price_path, vs_path],axis = -1)\n",
    "\n",
    "# plt.figure(figsize = [6,3])\n",
    "# plt.plot(price_path[:5,:,0].T - S0, label = 'price - strike')\n",
    "# plt.legend()\n",
    "# plt.grid()\n",
    "# plt.show()\n",
    "\n",
    "# plt.figure(figsize = [6,3])\n",
    "# plt.plot(vol_path[:5,:,0].T, label = 'volatility')\n",
    "# plt.legend()\n",
    "# plt.grid()\n",
    "# plt.show()"
   ]
  },
  {
   "cell_type": "markdown",
   "metadata": {},
   "source": [
    "### Build the deep hedging dynamic "
   ]
  },
  {
   "cell_type": "markdown",
   "metadata": {},
   "source": [
    "Value process\n",
    "$$\n",
    "V_{t} = \\int_{0}^{t}H_{t}dS_{t} + \\alpha \\int_{0}^{t}(S_{t}dH_{t})^{2} \\cdot \\text{(trans_cost =True)}\n",
    "$$\n",
    "Objective function\n",
    "\\begin{equation}\n",
    "\\begin{split}\n",
    "\\min_{H_{t}}\\quad & E\\bigg[(f(S_{T})-V_{T})^2\\bigg] \\\\\n",
    "+ &\\beta E\\bigg[\\int_{0}^{T}(C_{t} - V_{t})^{2}dt\\bigg] \\cdot \\text{(control_path =True)}\n",
    "\\end{split}\n",
    "\\end{equation}\n",
    "\n",
    "where $(C_{t})_{t\\geq 0}$ is the call option price and $f$ is the payoff function."
   ]
  },
  {
   "cell_type": "code",
   "execution_count": 53,
   "metadata": {},
   "outputs": [],
   "source": [
    "def build_dynamic(m, N, control_path, trans_cost, model_type):\n",
    "    \n",
    "    L = 3 # number of layers in strategy\n",
    "    n = m + 10  # nodes in the first but last layers\n",
    "    Networks = utils.build_network(m, n , L, N)\n",
    "    Network0 = keras.layers.Dense(1, use_bias=False)\n",
    "\n",
    "    price = keras.Input(shape=(N+1,m))   # S_{t}; t=0,..,N+1; (batch, N+1, m)\n",
    "    benchmark_hedge = keras.Input(shape=(N+1,m))   # V_{t}; t=0,..,N+1; (batch, N+1, m)\n",
    "    payoff = keras.Input(shape=(1))\n",
    "    if control_path:\n",
    "        inputs = [price, payoff, benchmark_hedge]\n",
    "    else:\n",
    "        inputs = [price, payoff]\n",
    "    price_difference = price[:,1:,:] - price[:,:-1,:]  # dS_{t}; t=0,..,N; (batch, N, m)\n",
    "#     premium = Network0(tf.ones_like(price[:,0,:1])) # premium; (batch, 1)\n",
    "#     premium = 0\n",
    "#     premium = BS_price / 2\n",
    "#     premium = BS_price \n",
    "\n",
    "    HEDGE = [None]*(N+1)\n",
    "    HEDGE[0] = tf.zeros_like(price[:,0,:])\n",
    "    STRATEGY = [None]*N\n",
    "    for j in range(N):\n",
    "        if model_type == 'Heston':\n",
    "            log_price = tf.math.log(price[:,j,:1])\n",
    "            vola = price[:,j,1:]\n",
    "            I = tf.concat([log_price, vola], axis = -1)\n",
    "        else:\n",
    "            I = tf.math.log(price[:,j,:])\n",
    "        STRATEGY[j] = Networks[j](I) # H_{t} = nn(S_{t}); (batch, m)\n",
    "        \n",
    "        cost = 0\n",
    "        if trans_cost and j > 0: \n",
    "            cost = 0.005*((STRATEGY[j]- STRATEGY[j-1])*price[:,j,:])**2\n",
    "            \n",
    "        HEDGE[j+1] = HEDGE[j] + STRATEGY[j] * price_difference[:,j,:] - cost # dX_{t} = H_{t}dS_{t}; (batch, m)\n",
    "        \n",
    "        \n",
    "    outputs = premium + tf.math.reduce_sum(HEDGE[-1],axis = -1, keepdims = True) # premium + \\int_{0}^{T}H_{t}dS_{t}; (batch, m)\n",
    "    model_hedge = keras.Model(inputs = inputs, outputs=outputs)\n",
    "    \n",
    "#     mse = tf.keras.losses.MeanSquaredError()\n",
    "#     model_hedge.add_loss(mse(outputs, payoff))   \n",
    "\n",
    "#     alpha = 0.99\n",
    "#     loss = premium + 1/(1 - alpha)*tf.nn.relu(payoff - outputs)\n",
    "#     loss = tf.reduce_mean(loss)\n",
    "#     model_hedge.add_loss(loss)  \n",
    "    \n",
    "    p = 1\n",
    "    loss = tf.nn.relu(payoff - outputs)\n",
    "    loss = tf.reduce_mean(loss)\n",
    "    model_hedge.add_loss(loss) \n",
    "    \n",
    "    if control_path:\n",
    "        for j in range(N):\n",
    "            mse = tf.keras.losses.MeanSquaredError()\n",
    "            model_hedge.add_loss(10*mse(HEDGE[j]+premium, benchmark_hedge[:,j]))   \n",
    "    \n",
    "    return model_hedge, Network0, Networks\n"
   ]
  },
  {
   "cell_type": "code",
   "execution_count": 54,
   "metadata": {},
   "outputs": [],
   "source": [
    "m = 1\n",
    "model_hedge, Network0, Networks = build_dynamic(m, N, False, False, 'BS')\n",
    "\n",
    "# m = 2\n",
    "# model_hedge, Network0, Networks = build_dynamic(m, N, False, False, 'Heston')"
   ]
  },
  {
   "cell_type": "markdown",
   "metadata": {},
   "source": [
    "### Train the model"
   ]
  },
  {
   "cell_type": "code",
   "execution_count": 55,
   "metadata": {},
   "outputs": [],
   "source": [
    "control_path = False\n",
    "if not control_path:\n",
    "    option_path = price_path\n",
    "split = int(Ktrain/2)\n",
    "xtrain = [price_path[:split], payoff[:split], option_path[:split]]  # input be price_path\n",
    "ytrain = payoff[:split]*0  # output be payoff\n",
    "xtest = [price_path[split:], payoff[:split], option_path[split:]]  # input be price_path\n",
    "ytest = payoff[split:]*0  # output be payoff"
   ]
  },
  {
   "cell_type": "code",
   "execution_count": 41,
   "metadata": {},
   "outputs": [],
   "source": [
    "# control_path = False\n",
    "# if not control_path:\n",
    "#     option_path = path_all\n",
    "# split = int(Ktrain/2)\n",
    "# xtrain = [path_all[:split], payoff[:split], option_path[:split]]  # input be path_all\n",
    "# ytrain = payoff[:split]*0  # output be payoff\n",
    "# xtest = [path_all[split:], payoff[:split], option_path[split:]]  # input be path_all\n",
    "# ytest = payoff[split:]*0  # output be payoff"
   ]
  },
  {
   "cell_type": "code",
   "execution_count": 56,
   "metadata": {},
   "outputs": [],
   "source": [
    "def zeroloss(y_true, y_predict):\n",
    "    return tf.reduce_sum(y_predict*0)"
   ]
  },
  {
   "cell_type": "code",
   "execution_count": 57,
   "metadata": {
    "scrolled": true
   },
   "outputs": [
    {
     "name": "stdout",
     "output_type": "stream",
     "text": [
      "Epoch 1/20\n",
      "196/196 [==============================] - 13s 68ms/step - loss: 0.0035\n",
      "Epoch 2/20\n",
      "196/196 [==============================] - 14s 70ms/step - loss: 0.0017\n",
      "Epoch 3/20\n",
      "196/196 [==============================] - 14s 71ms/step - loss: 0.0016\n",
      "Epoch 4/20\n",
      "196/196 [==============================] - 15s 75ms/step - loss: 0.0015\n",
      "Epoch 5/20\n",
      "196/196 [==============================] - 17s 85ms/step - loss: 0.0014\n",
      "Epoch 6/20\n",
      "196/196 [==============================] - 17s 87ms/step - loss: 0.0014\n",
      "Epoch 7/20\n",
      "196/196 [==============================] - 20s 103ms/step - loss: 0.0014\n",
      "Epoch 8/20\n",
      "196/196 [==============================] - 17s 85ms/step - loss: 0.0014\n",
      "Epoch 9/20\n",
      "196/196 [==============================] - 17s 87ms/step - loss: 0.0013\n",
      "Epoch 10/20\n",
      "196/196 [==============================] - 18s 94ms/step - loss: 0.0013\n",
      "Epoch 11/20\n",
      "196/196 [==============================] - 18s 91ms/step - loss: 0.0013\n",
      "Epoch 12/20\n",
      "196/196 [==============================] - 18s 91ms/step - loss: 0.0013\n",
      "Epoch 13/20\n",
      "196/196 [==============================] - 18s 92ms/step - loss: 0.0012\n",
      "Epoch 14/20\n",
      "196/196 [==============================] - 18s 90ms/step - loss: 0.0013\n",
      "Epoch 15/20\n",
      "196/196 [==============================] - 17s 87ms/step - loss: 0.0013\n",
      "Epoch 16/20\n",
      "196/196 [==============================] - 17s 89ms/step - loss: 0.0013\n",
      "Epoch 17/20\n",
      "196/196 [==============================] - 18s 92ms/step - loss: 0.0012\n",
      "Epoch 18/20\n",
      "196/196 [==============================] - 17s 85ms/step - loss: 0.0012\n",
      "Epoch 19/20\n",
      "196/196 [==============================] - 18s 91ms/step - loss: 0.0012\n",
      "Epoch 20/20\n",
      "196/196 [==============================] - 18s 94ms/step - loss: 0.0012\n"
     ]
    },
    {
     "data": {
      "text/plain": [
       "<tensorflow.python.keras.callbacks.History at 0x2a611266d60>"
      ]
     },
     "execution_count": 57,
     "metadata": {},
     "output_type": "execute_result"
    }
   ],
   "source": [
    "optimizer = tf.keras.optimizers.Adam(learning_rate=0.005) # specify the optmizer \n",
    "# model_hedge.compile(optimizer = optimizer,loss='mse') # specify the mean square loss \n",
    "model_hedge.compile(optimizer = optimizer,loss=zeroloss) # specify the expected shortfall\n",
    "model_hedge.fit(x=xtrain,y=ytrain, epochs=20,verbose=True,batch_size=256) # train the model "
   ]
  },
  {
   "cell_type": "markdown",
   "metadata": {},
   "source": [
    "### Compared with delta hedging "
   ]
  },
  {
   "cell_type": "code",
   "execution_count": 44,
   "metadata": {},
   "outputs": [],
   "source": [
    "# pi = model_hedge.evaluate(x=xtrain,y=ytrain)"
   ]
  },
  {
   "cell_type": "code",
   "execution_count": 58,
   "metadata": {},
   "outputs": [],
   "source": [
    "hedge_output_train = model_hedge.predict(xtrain) # compute the output (deep replicate payoff) with trained model \n",
    "hedge_output_test = model_hedge.predict(xtest) # compute the output (deep replicate payoff) with trained model"
   ]
  },
  {
   "cell_type": "code",
   "execution_count": 59,
   "metadata": {
    "scrolled": true
   },
   "outputs": [
    {
     "data": {
      "image/png": "[encoded data removed]",
      "text/plain": [
       "<Figure size 1440x360 with 3 Axes>"
      ]
     },
     "metadata": {
      "needs_background": "light"
     },
     "output_type": "display_data"
    }
   ],
   "source": [
    "f,p = plt.subplots(1,3, figsize = [20,5], sharey = True)\n",
    "p[0].scatter(price_path[split:,-1,0], hedge_output_test[:,0], s = 1, alpha = 0.5, label = 'deep hedge test ')   # deep replicate payoff \n",
    "p[1].scatter(price_path[:split,-1,0], hedge_output_train[:,0], s = 1, alpha = 0.5, label = 'deep hedge train')   # deep replicate payoff \n",
    "# p[2].scatter(price_path[:,-1,0], delta_output[:,0], s = 1, alpha = 0.5, label = 'delta hedge')   # delta replicate payoff \n",
    "for i in range(3):\n",
    "    p[i].scatter(price_path[:,-1,0], payoff[:,0], s = 1, alpha = 0.5, label = 'real payoff')        # real payoff\n",
    "    p[i].legend()\n",
    "    p[i].grid()"
   ]
  },
  {
   "cell_type": "code",
   "execution_count": 60,
   "metadata": {},
   "outputs": [
    {
     "name": "stdout",
     "output_type": "stream",
     "text": [
      "deep premium: 0.223\n",
      "real premium: 0.02287\n"
     ]
    }
   ],
   "source": [
    "print(f\"deep premium: {Network0(tf.ones([1,1])).numpy()[0,0]:{1}.{4}}\")         # premium of deep hedge (truncted printing)\n",
    "helper,_ = utils.BlackScholes(T, S0, strike, sigma, option_type)\n",
    "print(f\"real premium: {helper:{1}.{4}}\")           # real premium"
   ]
  },
  {
   "cell_type": "code",
   "execution_count": 16,
   "metadata": {},
   "outputs": [
    {
     "data": {
      "image/png": "[encoded data removed]",
      "text/plain": [
       "<Figure size 432x288 with 1 Axes>"
      ]
     },
     "metadata": {
      "needs_background": "light"
     },
     "output_type": "display_data"
    }
   ],
   "source": [
    "plt.hist(hedge_output_train[:,0] - ytrain[:,0],bins = 100)\n",
    "plt.show()"
   ]
  },
  {
   "cell_type": "code",
   "execution_count": 16,
   "metadata": {
    "scrolled": false
   },
   "outputs": [],
   "source": [
    "# f,p = plt.subplots(1,5,figsize = [20,5])\n",
    "# for i in range(5):\n",
    "#     n = 20*i + 10\n",
    "#     pr = np.linspace(0.5,2,100)[:,None]  # tf.tensor of different price \n",
    "\n",
    "#     he = Networks[n](pr) # the stategy network \n",
    "#     p[i].plot(pr[:,0],he[:,0], label = 'deep hedge') # plot the relation between price and deep strategy\n",
    "\n",
    "#     _,delta = utils.BlackScholes(T - time_grid[n], pr, strike, sigma, option_type)\n",
    "#     p[i].plot(pr, delta, label = 'delta hedge') # plot the relation between price and delta strategy\n",
    "#     p[i].title.set_text(f\"At time: {time_grid[n]:{1}.{4}}\")\n",
    "#     p[i].legend()\n",
    "#     p[i].grid()\n",
    "# plt.show()"
   ]
  },
  {
   "cell_type": "code",
   "execution_count": 17,
   "metadata": {},
   "outputs": [],
   "source": [
    "# Hedge = [None] * N\n",
    "# transaction_cost = 0\n",
    "# for j in range(N):\n",
    "#     Hedge[j] = Networks[j](price_path[:,j,:])\n",
    "#     if j > 0: \n",
    "#         transaction_cost += 0.005*(Hedge[j]*price_path[:,j-1,:] - Hedge[j-1]*price_path[:,j-1,:])**2\n",
    "# print(transaction_cost[:,0].numpy().mean())\n",
    "# plt.hist(transaction_cost[:,0].numpy())"
   ]
  },
  {
   "cell_type": "code",
   "execution_count": null,
   "metadata": {},
   "outputs": [],
   "source": []
  }
 ],
 "metadata": {
  "kernelspec": {
   "display_name": "Python [conda env:deephedge] *",
   "language": "python",
   "name": "conda-env-deephedge-py"
  },
  "language_info": {
   "codemirror_mode": {
    "name": "ipython",
    "version": 3
   },
   "file_extension": ".py",
   "mimetype": "text/x-python",
   "name": "python",
   "nbconvert_exporter": "python",
   "pygments_lexer": "ipython3",
   "version": "3.8.8"
  }
 },
 "nbformat": 4,
 "nbformat_minor": 4
}
