{
 "cells": [
  {
   "cell_type": "code",
   "execution_count": 1,
   "metadata": {},
   "outputs": [
    {
     "name": "stdout",
     "output_type": "stream",
     "text": [
      "2.3.0\n"
     ]
    },
    {
     "data": {
      "text/plain": [
       "<module 'utils' from 'C:\\\\SongyanHou\\\\Study\\\\Codes\\\\DeepHedging\\\\utils.py'>"
      ]
     },
     "execution_count": 1,
     "metadata": {},
     "output_type": "execute_result"
    }
   ],
   "source": [
    "import numpy as np \n",
    "import tensorflow as tf\n",
    "import matplotlib.pyplot as plt\n",
    "from scipy.stats import norm\n",
    "keras = tf.keras\n",
    "import utils \n",
    "from importlib import reload \n",
    "print(tf.__version__)\n",
    "reload(utils)"
   ]
  },
  {
   "cell_type": "code",
   "execution_count": 2,
   "metadata": {},
   "outputs": [],
   "source": [
    "N = 100 # time disrectization    \n",
    "S0 = 1.0 # initial value of the asset\n",
    "T = 0.25 # maturity\n",
    "dt = T / 100\n",
    "strike = 1.1\n",
    "strike_modified = 1.2\n",
    "\n",
    "option_type = 'eurocall'\n",
    "# option_type = 'eurodigitalcall'\n",
    "\n",
    "if option_type == 'eurocall':\n",
    "    payoff_function = lambda x : 0.5*(np.abs(x-strike)+x-strike) # European call option payoff\n",
    "if option_type == 'eurodigitalcall':\n",
    "    payoff_function = lambda x : (x-strike) > 0 # European digital call option payoff\n",
    "payoff_function_modified = lambda x : 0.5*(np.abs(x-strike_modified)+x-strike_modified) # European call option payoff\n",
    "\n"
   ]
  },
  {
   "cell_type": "markdown",
   "metadata": {},
   "source": [
    "### Generate paths\n",
    "\n",
    "#### Black-Scholes\n",
    "$$\n",
    "dS_{t}=\\sigma S_{t}\\,dW_{t}\n",
    "$$"
   ]
  },
  {
   "cell_type": "code",
   "execution_count": 3,
   "metadata": {},
   "outputs": [
    {
     "name": "stdout",
     "output_type": "stream",
     "text": [
      "real premium: 0.008913\n"
     ]
    },
    {
     "data": {
      "image/png": "[encoded data removed]",
      "text/plain": [
       "<Figure size 432x216 with 1 Axes>"
      ]
     },
     "metadata": {
      "needs_background": "light"
     },
     "output_type": "display_data"
    }
   ],
   "source": [
    "m = 1 # dimension of price\n",
    "mu = 0.08\n",
    "sigma = 0.3\n",
    "Ktrain = 10**5\n",
    "price_path, time_grid = utils.simulate_GBM(m,Ktrain,N,T,mu,sigma,S0, 'equi')\n",
    "payoff = payoff_function(price_path[:,-1]) \n",
    "payoff_modified = payoff_function_modified(price_path[:,-1]) \n",
    "delta_output, delta_path, option_path = utils.delta_hedge(price_path,payoff_modified,T,strike_modified,sigma,option_type,time_grid)\n",
    "BS_price,_ = utils.BlackScholes(T, S0, strike_modified, sigma, option_type)\n",
    "initial_wealth = BS_price\n",
    "print(f\"real premium: {BS_price:{1}.{4}}\")           # real premium\n",
    "\n",
    "for i in range(1):\n",
    "    plt.figure(figsize = [6,3])\n",
    "    plt.plot(time_grid, price_path[i,:,0].T - strike_modified, label = 'price - strike')\n",
    "    plt.plot(time_grid, delta_path[i,:,0].T, label = 'delta')\n",
    "    plt.plot(time_grid, option_path[i,:,0].T, label = 'true')\n",
    "    plt.legend()\n",
    "    plt.grid()\n",
    "    plt.show()"
   ]
  },
  {
   "cell_type": "markdown",
   "metadata": {},
   "source": [
    "#### Heston \n",
    "$$\n",
    "dS_{t}={\\sqrt  {V_{t}}}S_{t}\\,dW_{t}^{S}\n",
    "$$\n",
    "$$\n",
    "dV_{t}=\\kappa (\\theta -V_{t})\\,dt+\\sigma {\\sqrt  {V_{t}}}\\,dW_{t}^{{\\nu }}\n",
    "$$\n",
    "Feller condition\n",
    "$$\n",
    "2\\kappa \\theta >\\sigma ^{2}\n",
    "$$\n",
    "Variance Swap \n",
    "$$\n",
    "S^{2}_{t} = \n",
    "$$\n",
    "\n"
   ]
  },
  {
   "cell_type": "code",
   "execution_count": 4,
   "metadata": {},
   "outputs": [],
   "source": [
    "# import QuantLib as ql\n",
    "# # parameters from \"Deep Hedging\"\n",
    "# kappa = 1  # mean reversion strength\n",
    "# sigma = 2  # vol of vol\n",
    "# rho = -0.7  # corr between asset price and var\n",
    "# theta = 0.04\n",
    "\n",
    "# volatility = np.sqrt(theta)\n",
    "# v0 = theta # historical vols for the stock  \n",
    "# Ktrain = 10**5\n",
    "# print(2*kappa*theta - sigma**2)\n",
    "\n",
    "# price_path, vol_path = utils.simulate_Heston(Ktrain,N,T,rho,kappa,theta,sigma,S0,v0)\n",
    "# payoff = payoff_function(price_path[:,-1]) \n",
    "# path_all = np.concatenate([price_path, vol_path],axis = -1)\n",
    "\n",
    "# time_grid = np.linspace(0,T,N+1)\n",
    "# time_grid = time_grid[:,None]\n",
    "# L = (vol_path - theta) / kappa * (1 - np.exp(-kappa*(T - time_grid))) + theta * (T - time_grid)\n",
    "# vs_path = L\n",
    "# vs_path[:,1:] = vs_path[:,1:] + np.cumsum(vol_path[:,:-1],axis = 1) * dt\n",
    "# path_all = np.concatenate([price_path, vs_path],axis = -1)\n",
    "\n",
    "# plt.figure(figsize = [6,3])\n",
    "# plt.plot(price_path[:5,:,0].T - S0, label = 'price - strike')\n",
    "# plt.legend()\n",
    "# plt.grid()\n",
    "# plt.show()\n",
    "\n",
    "# plt.figure(figsize = [6,3])\n",
    "# plt.plot(vol_path[:5,:,0].T, label = 'volatility')\n",
    "# plt.legend()\n",
    "# plt.grid()\n",
    "# plt.show()"
   ]
  },
  {
   "cell_type": "markdown",
   "metadata": {},
   "source": [
    "### Build the deep hedging dynamic "
   ]
  },
  {
   "cell_type": "markdown",
   "metadata": {},
   "source": [
    "Value process\n",
    "$$\n",
    "V_{t} = \\int_{0}^{t}H_{t}dS_{t} + \\alpha \\int_{0}^{t}(S_{t}dH_{t})^{2} \\cdot \\text{(trans_cost =True)}\n",
    "$$\n",
    "Objective function\n",
    "\\begin{equation}\n",
    "\\begin{split}\n",
    "\\min_{H_{t}}\\quad & E\\bigg[(f(S_{T})-V_{T})^2\\bigg] \\\\\n",
    "+ &\\beta E\\bigg[\\int_{0}^{T}(C_{t} - V_{t})^{2}dt\\bigg] \\cdot \\text{(control_path =True)}\n",
    "\\end{split}\n",
    "\\end{equation}\n",
    "\n",
    "where $(C_{t})_{t\\geq 0}$ is the call option price and $f$ is the payoff function."
   ]
  },
  {
   "cell_type": "code",
   "execution_count": 5,
   "metadata": {},
   "outputs": [],
   "source": [
    "def build_dynamic(m, N, control_path, trans_cost, model_type):\n",
    "    \n",
    "    L = 3 # number of layers in strategy\n",
    "    n = m + 10  # nodes in the first but last layers\n",
    "    Networks = utils.build_network(m, n , L, N)\n",
    "    Network0 = keras.layers.Dense(1, use_bias=False)\n",
    "\n",
    "    price = keras.Input(shape=(N+1,m))   # S_{t}; t=0,..,N+1; (batch, N+1, m)\n",
    "    benchmark_hedge = keras.Input(shape=(N+1,m))   # V_{t}; t=0,..,N+1; (batch, N+1, m)\n",
    "    payoff = keras.Input(shape=(1))\n",
    "    if control_path:\n",
    "        inputs = [price, payoff, benchmark_hedge]\n",
    "    else:\n",
    "        inputs = [price, payoff]\n",
    "    price_difference = price[:,1:,:] - price[:,:-1,:]  # dS_{t}; t=0,..,N; (batch, N, m)\n",
    "#     premium = Network0(tf.ones_like(price[:,0,:1])) # premium; (batch, 1)\n",
    "    premium = initial_wealth\n",
    "\n",
    "    HEDGE = [None]*(N+1)\n",
    "    HEDGE[0] = tf.zeros_like(price[:,0,:])\n",
    "    STRATEGY = [None]*N\n",
    "    for j in range(N):\n",
    "        if model_type == 'Heston':\n",
    "            log_price = tf.math.log(price[:,j,:1])\n",
    "            vola = price[:,j,1:]\n",
    "            I = tf.concat([log_price, vola], axis = -1)\n",
    "        else:\n",
    "            I = tf.math.log(price[:,j,:])\n",
    "        STRATEGY[j] = Networks[j](I) # H_{t} = nn(S_{t}); (batch, m)\n",
    "        \n",
    "        cost = 0\n",
    "        if trans_cost and j > 0: \n",
    "            cost = 0.005*((STRATEGY[j]- STRATEGY[j-1])*price[:,j,:])**2\n",
    "            \n",
    "        HEDGE[j+1] = HEDGE[j] + STRATEGY[j] * price_difference[:,j,:] - cost # dX_{t} = H_{t}dS_{t}; (batch, m)\n",
    "        \n",
    "      \n",
    "    outputs = premium + tf.math.reduce_sum(HEDGE[-1],axis = -1, keepdims = True) # premium + \\int_{0}^{T}H_{t}dS_{t}; (batch, m)\n",
    "    \n",
    "\n",
    "    model_hedge = keras.Model(inputs = inputs, outputs=outputs)\n",
    "    \n",
    "#     mse = tf.keras.losses.MeanSquaredError()\n",
    "#     model_hedge.add_loss(mse(outputs, payoff))   \n",
    "\n",
    "#     alpha = 0.99\n",
    "#     loss = premium + 1/(1 - alpha)*tf.nn.relu(payoff - outputs)\n",
    "#     loss = tf.reduce_mean(loss)\n",
    "#     model_hedge.add_loss(loss)  \n",
    "\n",
    "#     p = 1\n",
    "#     loss = tf.nn.relu(payoff - outputs)\n",
    "#     loss = (loss)**p\n",
    "#     loss = tf.clip_by_value(loss,0,10000)\n",
    "#     loss = tf.reduce_mean(loss)\n",
    "#     model_hedge.add_loss(loss) \n",
    "    \n",
    "    loss = tf.nn.relu(payoff - outputs)\n",
    "    loss = tf.math.reduce_max(loss,keepdims = True)\n",
    "    loss = tf.clip_by_value(loss,0,10000)\n",
    "    loss = tf.reduce_mean(loss)\n",
    "    model_hedge.add_loss(loss) \n",
    "    \n",
    "\n",
    "    if control_path:\n",
    "        for j in range(N):\n",
    "            mse = tf.keras.losses.MeanSquaredError()\n",
    "            model_hedge.add_loss(10*mse(HEDGE[j]+premium, benchmark_hedge[:,j]))   \n",
    "    \n",
    "    return model_hedge, Network0, Networks\n"
   ]
  },
  {
   "cell_type": "code",
   "execution_count": 6,
   "metadata": {},
   "outputs": [],
   "source": [
    "m = 1\n",
    "model_hedge, Network0, Networks = build_dynamic(m, N, False, False, 'BS')\n",
    "\n",
    "# m = 2\n",
    "# model_hedge, Network0, Networks = build_dynamic(m, N, False, False, 'Heston')"
   ]
  },
  {
   "cell_type": "markdown",
   "metadata": {},
   "source": [
    "### Train the model"
   ]
  },
  {
   "cell_type": "code",
   "execution_count": 7,
   "metadata": {},
   "outputs": [],
   "source": [
    "def prepare_data(price_path, payoff):    \n",
    "    control_path = False\n",
    "    if not control_path:\n",
    "        option_path = price_path\n",
    "    split = int(Ktrain/2)\n",
    "    xtrain = [price_path[:split], payoff[:split], option_path[:split]]  # input be price_path\n",
    "    ytrain = payoff[:split]*0  # output be payoff\n",
    "    xtest = [price_path[split:], payoff[:split], option_path[split:]]  # input be price_path\n",
    "    ytest = payoff[split:]*0  # output be payoff\n",
    "    return xtrain, ytrain, xtest, ytest"
   ]
  },
  {
   "cell_type": "code",
   "execution_count": 8,
   "metadata": {
    "scrolled": true
   },
   "outputs": [],
   "source": [
    "def zeroloss(y_true, y_predict):\n",
    "    return tf.reduce_sum(y_predict*0)\n",
    "optimizer = tf.keras.optimizers.Adam(learning_rate=0.01) # specify the optmizer \n",
    "# model_hedge.compile(optimizer = optimizer,loss='mse') # specify the mean square loss \n",
    "model_hedge.compile(optimizer = optimizer,loss=zeroloss) # specify the expected shortfall"
   ]
  },
  {
   "cell_type": "markdown",
   "metadata": {},
   "source": [
    "### Hedge the payoff"
   ]
  },
  {
   "cell_type": "code",
   "execution_count": 9,
   "metadata": {
    "scrolled": true
   },
   "outputs": [
    {
     "name": "stdout",
     "output_type": "stream",
     "text": [
      "Epoch 1/50\n",
      "196/196 [==============================] - 6s 28ms/step - loss: 0.1953\n",
      "Epoch 2/50\n",
      "196/196 [==============================] - 6s 28ms/step - loss: 0.1144\n",
      "Epoch 3/50\n",
      "196/196 [==============================] - 6s 29ms/step - loss: 0.0980\n",
      "Epoch 4/50\n",
      "196/196 [==============================] - 6s 29ms/step - loss: 0.0903\n",
      "Epoch 5/50\n",
      "196/196 [==============================] - 6s 29ms/step - loss: 0.0791\n",
      "Epoch 6/50\n",
      "196/196 [==============================] - 6s 29ms/step - loss: 0.0761\n",
      "Epoch 7/50\n",
      "196/196 [==============================] - 6s 29ms/step - loss: 0.0722\n",
      "Epoch 8/50\n",
      "196/196 [==============================] - 6s 29ms/step - loss: 0.0704\n",
      "Epoch 9/50\n",
      "196/196 [==============================] - 6s 29ms/step - loss: 0.0690\n",
      "Epoch 10/50\n",
      "196/196 [==============================] - 6s 29ms/step - loss: 0.0669\n",
      "Epoch 11/50\n",
      "196/196 [==============================] - 6s 29ms/step - loss: 0.0677\n",
      "Epoch 12/50\n",
      "196/196 [==============================] - 6s 29ms/step - loss: 0.0653\n",
      "Epoch 13/50\n",
      "196/196 [==============================] - 6s 31ms/step - loss: 0.0638\n",
      "Epoch 14/50\n",
      "196/196 [==============================] - 6s 32ms/step - loss: 0.0679\n",
      "Epoch 15/50\n",
      "196/196 [==============================] - 6s 32ms/step - loss: 0.0638\n",
      "Epoch 16/50\n",
      "196/196 [==============================] - 6s 33ms/step - loss: 0.0613\n",
      "Epoch 17/50\n",
      "196/196 [==============================] - 7s 33ms/step - loss: 0.0616\n",
      "Epoch 18/50\n",
      "196/196 [==============================] - 7s 34ms/step - loss: 0.0642\n",
      "Epoch 19/50\n",
      "196/196 [==============================] - 7s 35ms/step - loss: 0.0610\n",
      "Epoch 20/50\n",
      "196/196 [==============================] - 7s 35ms/step - loss: 0.0590\n",
      "Epoch 21/50\n",
      "196/196 [==============================] - 7s 35ms/step - loss: 0.0611\n",
      "Epoch 22/50\n",
      "196/196 [==============================] - 7s 35ms/step - loss: 0.0612\n",
      "Epoch 23/50\n",
      "196/196 [==============================] - 7s 35ms/step - loss: 0.0604\n",
      "Epoch 24/50\n",
      "196/196 [==============================] - 7s 35ms/step - loss: 0.0587\n",
      "Epoch 25/50\n",
      "196/196 [==============================] - 7s 35ms/step - loss: 0.0566\n",
      "Epoch 26/50\n",
      "196/196 [==============================] - 7s 35ms/step - loss: 0.0575\n",
      "Epoch 27/50\n",
      "196/196 [==============================] - 7s 35ms/step - loss: 0.0567\n",
      "Epoch 28/50\n",
      "196/196 [==============================] - 7s 35ms/step - loss: 0.0576\n",
      "Epoch 29/50\n",
      "196/196 [==============================] - 7s 35ms/step - loss: 0.0579\n",
      "Epoch 30/50\n",
      "196/196 [==============================] - 7s 35ms/step - loss: 0.0562\n",
      "Epoch 31/50\n",
      "196/196 [==============================] - 7s 35ms/step - loss: 0.0579\n",
      "Epoch 32/50\n",
      "196/196 [==============================] - 7s 35ms/step - loss: 0.0565\n",
      "Epoch 33/50\n",
      "196/196 [==============================] - 7s 35ms/step - loss: 0.0552\n",
      "Epoch 34/50\n",
      "196/196 [==============================] - 7s 35ms/step - loss: 0.0561\n",
      "Epoch 35/50\n",
      "196/196 [==============================] - 7s 35ms/step - loss: 0.0565\n",
      "Epoch 36/50\n",
      "196/196 [==============================] - 7s 35ms/step - loss: 0.0548\n",
      "Epoch 37/50\n",
      "196/196 [==============================] - 7s 35ms/step - loss: 0.0555\n",
      "Epoch 38/50\n",
      "196/196 [==============================] - 7s 35ms/step - loss: 0.0561\n",
      "Epoch 39/50\n",
      "196/196 [==============================] - 7s 35ms/step - loss: 0.0547\n",
      "Epoch 40/50\n",
      "196/196 [==============================] - 7s 35ms/step - loss: 0.0544\n",
      "Epoch 41/50\n",
      "196/196 [==============================] - 7s 35ms/step - loss: 0.0537\n",
      "Epoch 42/50\n",
      "196/196 [==============================] - 7s 35ms/step - loss: 0.0556\n",
      "Epoch 43/50\n",
      "196/196 [==============================] - 7s 35ms/step - loss: 0.0544\n",
      "Epoch 44/50\n",
      "196/196 [==============================] - 7s 35ms/step - loss: 0.0544\n",
      "Epoch 45/50\n",
      "196/196 [==============================] - 7s 35ms/step - loss: 0.0543\n",
      "Epoch 46/50\n",
      "196/196 [==============================] - 7s 35ms/step - loss: 0.0549\n",
      "Epoch 47/50\n",
      "196/196 [==============================] - 7s 35ms/step - loss: 0.0547\n",
      "Epoch 48/50\n",
      "196/196 [==============================] - 7s 35ms/step - loss: 0.0544\n",
      "Epoch 49/50\n",
      "196/196 [==============================] - 7s 35ms/step - loss: 0.0536\n",
      "Epoch 50/50\n",
      "196/196 [==============================] - 7s 35ms/step - loss: 0.0538\n"
     ]
    },
    {
     "data": {
      "text/plain": [
       "<tensorflow.python.keras.callbacks.History at 0x226aab6bc40>"
      ]
     },
     "execution_count": 9,
     "metadata": {},
     "output_type": "execute_result"
    }
   ],
   "source": [
    "xtrain, ytrain, xtest, ytest = prepare_data(price_path, payoff)\n",
    "model_hedge.fit(x=xtrain,y=ytrain, epochs=50,verbose=True,batch_size=256) # train the model "
   ]
  },
  {
   "cell_type": "code",
   "execution_count": 10,
   "metadata": {},
   "outputs": [],
   "source": [
    "hedge_output_train = model_hedge.predict(xtrain) # compute the output (deep replicate payoff) with trained model \n",
    "hedge_output_test = model_hedge.predict(xtest) # compute the output (deep replicate payoff) with trained model"
   ]
  },
  {
   "cell_type": "code",
   "execution_count": 11,
   "metadata": {},
   "outputs": [
    {
     "name": "stdout",
     "output_type": "stream",
     "text": [
      "train:  0.08283105178614725\n",
      "test:  0.08352110985651895\n",
      "best:  0.09999999999999998\n"
     ]
    }
   ],
   "source": [
    "def ploss(payoff, output):\n",
    "    p = 1\n",
    "    loss = tf.reduce_max(tf.nn.relu(payoff - output),keepdims = True)\n",
    "#     loss = (tf.nn.relu(payoff - output))**p\n",
    "    loss = (tf.reduce_mean(loss))\n",
    "    return loss\n",
    "print('train: ',ploss(payoff[:int(Ktrain/2)], hedge_output_train).numpy())\n",
    "print('test: ',ploss(payoff[int(Ktrain/2):], hedge_output_test).numpy())\n",
    "print('best: ',ploss(payoff, payoff_modified).numpy())"
   ]
  },
  {
   "cell_type": "code",
   "execution_count": 12,
   "metadata": {
    "scrolled": true
   },
   "outputs": [
    {
     "data": {
      "image/png": "[encoded data removed]",
      "text/plain": [
       "<Figure size 1440x360 with 3 Axes>"
      ]
     },
     "metadata": {
      "needs_background": "light"
     },
     "output_type": "display_data"
    }
   ],
   "source": [
    "f,p = plt.subplots(1,3, figsize = [20,5], sharey = True)\n",
    "p[0].scatter(price_path[int(Ktrain/2):,-1,0], hedge_output_test[:,0], s = 1, alpha = 0.5, label = 'deep hedge test ')   # deep replicate payoff \n",
    "p[1].scatter(price_path[:int(Ktrain/2),-1,0], hedge_output_train[:,0], s = 1, alpha = 0.5, label = 'deep hedge train')   # deep replicate payoff \n",
    "p[2].scatter(price_path[:,-1,0], delta_output[:,0], s = 1, alpha = 0.5, label = 'delta hedge')   # delta replicate payoff \n",
    "for i in range(3):\n",
    "    p[i].scatter(price_path[:,-1,0], payoff_modified[:,0], s = 1, alpha = 0.5, label = 'modified payoff')\n",
    "    p[i].scatter(price_path[:,-1,0], payoff[:,0], s = 1, alpha = 0.5, label = 'real payoff')        # real payoff\n",
    "    p[i].legend()\n",
    "    p[i].grid()"
   ]
  },
  {
   "cell_type": "markdown",
   "metadata": {},
   "source": [
    "### History"
   ]
  },
  {
   "cell_type": "code",
   "execution_count": null,
   "metadata": {},
   "outputs": [],
   "source": [
    "# print(f\"deep premium: {Network0(tf.ones([1,1])).numpy()[0,0]:{1}.{4}}\")         # premium of deep hedge (truncted printing)\n",
    "# helper,_ = utils.BlackScholes(T, S0, strike, sigma, option_type)\n",
    "# print(f\"real premium: {helper:{1}.{4}}\")           # real premium"
   ]
  },
  {
   "cell_type": "code",
   "execution_count": null,
   "metadata": {},
   "outputs": [],
   "source": [
    "# plt.hist(hedge_output_train[:,0] - ytrain[:,0],bins = 100)\n",
    "# plt.show()"
   ]
  },
  {
   "cell_type": "code",
   "execution_count": null,
   "metadata": {
    "scrolled": false
   },
   "outputs": [],
   "source": [
    "# f,p = plt.subplots(1,5,figsize = [20,5])\n",
    "# for i in range(5):\n",
    "#     n = 20*i + 10\n",
    "#     pr = np.linspace(0.5,2,100)[:,None]  # tf.tensor of different price \n",
    "\n",
    "#     he = Networks[n](pr) # the stategy network \n",
    "#     p[i].plot(pr[:,0],he[:,0], label = 'deep hedge') # plot the relation between price and deep strategy\n",
    "\n",
    "#     _,delta = utils.BlackScholes(T - time_grid[n], pr, strike, sigma, option_type)\n",
    "#     p[i].plot(pr, delta, label = 'delta hedge') # plot the relation between price and delta strategy\n",
    "#     p[i].title.set_text(f\"At time: {time_grid[n]:{1}.{4}}\")\n",
    "#     p[i].legend()\n",
    "#     p[i].grid()\n",
    "# plt.show()"
   ]
  },
  {
   "cell_type": "code",
   "execution_count": null,
   "metadata": {},
   "outputs": [],
   "source": [
    "# Hedge = [None] * N\n",
    "# transaction_cost = 0\n",
    "# for j in range(N):\n",
    "#     Hedge[j] = Networks[j](price_path[:,j,:])\n",
    "#     if j > 0: \n",
    "#         transaction_cost += 0.005*(Hedge[j]*price_path[:,j-1,:] - Hedge[j-1]*price_path[:,j-1,:])**2\n",
    "# print(transaction_cost[:,0].numpy().mean())\n",
    "# plt.hist(transaction_cost[:,0].numpy())"
   ]
  },
  {
   "cell_type": "code",
   "execution_count": null,
   "metadata": {},
   "outputs": [],
   "source": []
  },
  {
   "cell_type": "code",
   "execution_count": null,
   "metadata": {},
   "outputs": [],
   "source": []
  }
 ],
 "metadata": {
  "kernelspec": {
   "display_name": "Python [conda env:deephedge] *",
   "language": "python",
   "name": "conda-env-deephedge-py"
  },
  "language_info": {
   "codemirror_mode": {
    "name": "ipython",
    "version": 3
   },
   "file_extension": ".py",
   "mimetype": "text/x-python",
   "name": "python",
   "nbconvert_exporter": "python",
   "pygments_lexer": "ipython3",
   "version": "3.8.8"
  }
 },
 "nbformat": 4,
 "nbformat_minor": 4
}
