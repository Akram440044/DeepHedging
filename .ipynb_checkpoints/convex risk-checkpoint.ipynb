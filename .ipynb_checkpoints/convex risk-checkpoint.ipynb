{
 "cells": [
  {
   "cell_type": "markdown",
   "id": "lined-recorder",
   "metadata": {},
   "source": [
    "## Convex risk\n",
    "\n",
    "Convex risk for a payoff $X$ has the following cash invariant property \n",
    "$$\n",
    "\\rho(X+c) = \\rho(X)-c\n",
    "$$\n",
    "and the convex risk with trading \n",
    "$$\n",
    "\\pi(X) = \\inf_{\\delta \\in \\mathcal{H}} \\rho(X + (\\delta \\cdot S)_{T} - C_{T}(\\delta))\n",
    "$$\n",
    "Usually it helps if we consider $X = -Z$. \n",
    "\n",
    "$\\rho(-Z)$ is the cash to accept $-Z$ and $\\pi(-Z)$ is the cash to accept $-Z$ with trading. \n",
    "\n",
    "Consider family of convex risk \n",
    "$$\n",
    "\\rho(X) = \\inf_{w\\in\\mathbb{R}}\\{w + \\mathbb{E}[l(-X-w)]\\}\n",
    "$$\n"
   ]
  },
  {
   "cell_type": "markdown",
   "id": "peripheral-invasion",
   "metadata": {},
   "source": [
    "take $l(x) = \\frac{1}{1-\\alpha}x^{+}$\n",
    "\n",
    "$$\n",
    "\\rho(X) = \\inf_{w\\in\\mathbb{R}}\\{w + \\frac{1}{1-\\alpha}\\mathbb{E}[(-X-w)^{+}]\\}\n",
    "$$\n",
    "Then\n",
    "$$\n",
    "\\mathbb{P}[-X > w^{*}] = 1 - \\alpha\n",
    "$$\n",
    "\n",
    "$$\n",
    "w^{*} = q_{\\alpha}(-X) = -q_{1-\\alpha}(X)\n",
    "$$\n",
    "Therefore \n",
    "\\begin{equation}\n",
    "\\begin{split}\n",
    "\\rho(X) &= q_{1-\\alpha}(X) + \\frac{1}{1-\\alpha}\\mathbb{E}[(-X-q_{1-\\alpha}(X))^{+}]\\\\\n",
    "&= \n",
    "\\end{split}\n",
    "\\end{equation}\n",
    "\n",
    "\n",
    "\n",
    "$$\n",
    "\\rho(X)={-\\frac {1}{1 - \\alpha }}\\int _{0}^{1 - \\alpha }\\operatorname {VaR} _{\\gamma }(X)\\,d\\gamma \n",
    "$$\n",
    "\n",
    "$$\n",
    "\\rho(X) = -\\mathbb{E}[X 1_{X < x_{\\alpha}}]\n",
    "$$"
   ]
  }
 ],
 "metadata": {
  "kernelspec": {
   "display_name": "Python [conda env:deephedge] *",
   "language": "python",
   "name": "conda-env-deephedge-py"
  },
  "language_info": {
   "codemirror_mode": {
    "name": "ipython",
    "version": 3
   },
   "file_extension": ".py",
   "mimetype": "text/x-python",
   "name": "python",
   "nbconvert_exporter": "python",
   "pygments_lexer": "ipython3",
   "version": "3.8.8"
  }
 },
 "nbformat": 4,
 "nbformat_minor": 5
}
