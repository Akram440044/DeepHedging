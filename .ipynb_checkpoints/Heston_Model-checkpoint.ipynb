{
 "cells": [
  {
   "cell_type": "markdown",
   "metadata": {
    "colab_type": "text",
    "id": "view-in-github"
   },
   "source": [
    "<a href=\"https://colab.research.google.com/gist/jteichma/4d9c0079dbf4e9c3cdff3fd1befabd23/deep_hedging_bs_conditionalrewards.ipynb\" target=\"_parent\"><img src=\"https://colab.research.google.com/assets/colab-badge.svg\" alt=\"Open In Colab\"/></a>"
   ]
  },
  {
   "cell_type": "markdown",
   "metadata": {
    "id": "e2AxQWQN59kC"
   },
   "source": [
    "# Simulating Stock Prices under the Heston Model"
   ]
  },
  {
   "cell_type": "markdown",
   "metadata": {},
   "source": [
    "## Heston Model\n",
    "\n",
    "### [Formula](https://en.wikipedia.org/wiki/Heston_model)\n",
    "\n",
    "The price of the asset $S_t$ is determined by a stochastic process:\n",
    "\n",
    "<center> $dS_{t}=\\mu S_{t}\\,dt+{\\sqrt  {\\nu_{t}}}S_{t}\\,dW_{t}^{S}$ </center>\n",
    "\n",
    "The instantaneous variance $\\nu_t$ is a CIR process:\n",
    "\n",
    "<center> $d\\nu_{t}=\\kappa (\\theta -\\nu_{t})\\,dt+\\xi {\\sqrt  {\\nu_{t}}}\\,dW_{t}^{{\\nu }}$ </center>\n",
    "\n",
    "where $W_{t}^{S},W_{t}^{\\nu }$ are Wiener processes (continuous random walks) with correlation $\\rho$.\n",
    "\n",
    "The parameters in the above equations represent the following:\n",
    "- $\\mu$ is the rate of return of the asset.\n",
    "- $\\theta$ is the long variance, or long run average price variance; as $t$ tends to infinity, the expected value of $\\nu_t$ tends to $\\theta$.\n",
    "- $\\kappa$ is the rate at which $\\nu_t$ reverts to $\\theta$.\n",
    "- $\\xi$ is the volatility of the volatility, or 'vol of vol', and determines the variance of $\\nu_t$.\n",
    "\n",
    "If $2\\kappa \\theta >\\xi ^{2}$ (Feller condition), then the process $\\nu_t$ is strictly positive.\n",
    "\n",
    "\n",
    "### Discretization\n",
    "Forward Euler for Heston model\n",
    "\n",
    "<center> $\\nu_{t} = \\nu_{t-1} + \\kappa (\\theta -\\nu_{t-1})\\frac{T}{N} + \\xi{\\sqrt{|\\nu_{t-1}|}}\\sqrt{\\frac{T}{N}} Z_{t}^{\\nu}$ </center>\n",
    "\n",
    "<center> $\\log(S_t)= \\log(S_{t-1}) -\\frac{\\nu_{t}^2}{2} \\frac{T}{N} + \\nu_{t} \\sqrt{\\frac{T}{N}} Z_{t}^{S}$ </center>\n",
    "\n",
    "\n",
    "### Implementation Decisions (to be made)\n",
    "- Initialization - does it matter in our case?\n",
    "- Parameter tuning - maybe it doesn't matter in our case either\n",
    "- What to do when v < 0? abs, trunc? Do we apply it to all v's in the formula?\n",
    "\n",
    "### Some References\n",
    "- https://www.degruyter.com/document/doi/10.1515/math-2017-0058/html#:~:text=The%20main%20parameters%20of%20interest,increases%20the%20prices%20of%20options\n",
    "- https://www.quantstart.com/articles/Heston-Stochastic-Volatility-Model-with-Euler-Discretisation-in-C/\n",
    "- https://arxiv.org/pdf/1502.02963.pdf\n",
    "- https://www.valpo.edu/mathematics-statistics/files/2015/07/Estimating-Option-Prices-with-Heston%E2%80%99s--Stochastic-Volatility-Model.pdf\n",
    "- Heston code (Michele mentioned it in the last meeting): https://github.com/daleroberts/heston/blob/master/heston.r"
   ]
  },
  {
   "cell_type": "code",
   "execution_count": 39,
   "metadata": {},
   "outputs": [],
   "source": [
    "import numpy as np\n",
    "import matplotlib.pyplot as plt"
   ]
  },
  {
   "cell_type": "code",
   "execution_count": 70,
   "metadata": {},
   "outputs": [],
   "source": [
    "## Dimensions\n",
    "m = 1           # dimention of output\n",
    "Ktrain = 10000  # number of training models\n",
    "\n",
    "N = 364        # time disrectization\n",
    "T = 1           # maturity\n",
    "\n",
    "## Parameters\n",
    "corr = -0.75     # correlation between the two process\n",
    "kappa = 0.1     # kappa: reversion strength\n",
    "theta = 0.2     # theta: long-term volatility\n",
    "xi = 0.1        # xi: volatility of volatility\n",
    "\n",
    "\n",
    "## Initialization - could have other values\n",
    "S0 = 100 * np.ones((Ktrain,m))\n",
    "v0 = theta * np.ones((Ktrain,m))\n",
    "S = [S0]\n",
    "v = [v0]\n",
    "\n",
    "## Simulation - generate volatility and stock price from day 0 to day N\n",
    "\n",
    "v_curr = v0; S_curr = S0\n",
    "\n",
    "for i in range(N):\n",
    "    \n",
    "    # Simulate standard normal random variables\n",
    "    Z1_i = np.random.normal(0,1,(Ktrain,m))\n",
    "    Z2_i = np.random.normal(0,1,(Ktrain,m))\n",
    "    \n",
    "    # Generate correlated Brownian motions\n",
    "    WS_curr = np.sqrt(T/N)*Z1_i\n",
    "    Wv_curr = np.sqrt(T/N)*(corr*Z1_i + np.sqrt(1-corr**2)*Z2_i)\n",
    "    \n",
    "    # Calculate volatility and stock price\n",
    "    # Adjustment: np.abs(v_curr) for np.sqrt() in the last term\n",
    "    v_new = v_curr + kappa*(theta-v_curr)*T/N + xi*np.sqrt(np.abs(v_curr))*Wv_curr\n",
    "    S_new = np.exp(np.log(S_curr) - v_new**2/2*T/N + v_new*WS_curr)\n",
    "    \n",
    "    v_curr = v_new; S_curr = S_new\n",
    "    \n",
    "    # Append the results to the arrays of each day's value\n",
    "    v += [v_new]; S += [S_new]\n",
    "    "
   ]
  },
  {
   "cell_type": "code",
   "execution_count": 71,
   "metadata": {},
   "outputs": [],
   "source": [
    "price_path = np.swapaxes(np.array(S)[:,:,0],0,1)\n",
    "vol_path = np.swapaxes(np.array(v)[:,:,0],0,1)"
   ]
  },
  {
   "cell_type": "code",
   "execution_count": 73,
   "metadata": {},
   "outputs": [
    {
     "data": {
      "text/plain": [
       "(array([   8.,  173.,  884., 2150., 2880., 2324., 1171.,  335.,   65.,\n",
       "          10.]),\n",
       " array([ 29.07563452,  43.61351378,  58.15139304,  72.6892723 ,\n",
       "         87.22715156, 101.76503082, 116.30291008, 130.84078934,\n",
       "        145.3786686 , 159.91654786, 174.45442712]),\n",
       " <BarContainer object of 10 artists>)"
      ]
     },
     "execution_count": 73,
     "metadata": {},
     "output_type": "execute_result"
    },
    {
     "data": {
      "image/png": "[encoded data removed]",
      "text/plain": [
       "<Figure size 432x288 with 1 Axes>"
      ]
     },
     "metadata": {
      "needs_background": "light"
     },
     "output_type": "display_data"
    }
   ],
   "source": [
    "plt.hist(price_path[:,-1])"
   ]
  },
  {
   "cell_type": "code",
   "execution_count": 3,
   "metadata": {},
   "outputs": [
    {
     "name": "stdout",
     "output_type": "stream",
     "text": [
      "0.9736524915789709\n",
      "0.19869749780746856\n"
     ]
    },
    {
     "data": {
      "text/plain": [
       "(array([3.0000e+00, 2.1000e+01, 1.5800e+02, 7.2600e+02, 2.3060e+03,\n",
       "        5.8570e+03, 1.0759e+04, 1.5938e+04, 1.8680e+04, 1.7022e+04,\n",
       "        1.2457e+04, 7.7250e+03, 4.3400e+03, 2.1740e+03, 1.0070e+03,\n",
       "        4.7300e+02, 1.9100e+02, 8.7000e+01, 3.9000e+01, 2.0000e+01,\n",
       "        1.1000e+01, 4.0000e+00, 0.0000e+00, 1.0000e+00, 1.0000e+00]),\n",
       " array([0.18497177, 0.27389178, 0.3628118 , 0.45173181, 0.54065182,\n",
       "        0.62957184, 0.71849185, 0.80741187, 0.89633188, 0.98525189,\n",
       "        1.07417191, 1.16309192, 1.25201193, 1.34093195, 1.42985196,\n",
       "        1.51877198, 1.60769199, 1.696612  , 1.78553202, 1.87445203,\n",
       "        1.96337205, 2.05229206, 2.14121207, 2.23013209, 2.3190521 ,\n",
       "        2.40797211]),\n",
       " <BarContainer object of 25 artists>)"
      ]
     },
     "execution_count": 3,
     "metadata": {},
     "output_type": "execute_result"
    },
    {
     "data": {
      "image/png": "[encoded data removed]",
      "text/plain": [
       "<Figure size 432x288 with 1 Axes>"
      ]
     },
     "metadata": {
      "needs_background": "light"
     },
     "output_type": "display_data"
    }
   ],
   "source": [
    "print(np.mean(S[N]))\n",
    "print(np.std(S[N]))\n",
    "plt.hist(S[N], bins = 25)"
   ]
  },
  {
   "cell_type": "markdown",
   "metadata": {},
   "source": [
    "## Comparison - Constant Volatility"
   ]
  },
  {
   "cell_type": "code",
   "execution_count": 4,
   "metadata": {},
   "outputs": [],
   "source": [
    "## Dimensions\n",
    "m = 1           # dimention of output\n",
    "Ktrain = 10**5  # number of training models\n",
    "\n",
    "N = 100         # time disrectization\n",
    "T = 1           # maturity\n",
    "\n",
    "## Parameters\n",
    "corr = -0.3     # correlation between the two process\n",
    "kappa = 0.7     # kappa: mean reversion rate\n",
    "theta = 0.2     # theta: long-term volatility\n",
    "xi = 0.4        # xi: volatility of volatility\n",
    "\n",
    "\n",
    "## Initialization - could have other values\n",
    "S0 = 1 * np.ones((Ktrain,m))\n",
    "v0 = theta * np.ones((Ktrain,m))\n",
    "S = [S0]\n",
    "v = [v0]\n",
    "\n",
    "## Simulation\n",
    "# generate volatility and stock price from day 0 to day N\n",
    "\n",
    "v_curr = v0; S_curr = S0\n",
    "\n",
    "for i in range(N):\n",
    "    \n",
    "    # Simulate standard normal random variables\n",
    "    Z1_i = np.random.normal(0,1,(Ktrain,m))\n",
    "    WS_curr = np.sqrt(T/N)*Z1_i\n",
    "    S_new = np.exp(np.log(S_curr) - v0**2/2*T/N + v0*WS_curr)\n",
    "    S_curr = S_new\n",
    "    \n",
    "    # Append the results to the arrays of each day's value\n",
    "    S += [S_new]\n",
    "    \n"
   ]
  },
  {
   "cell_type": "code",
   "execution_count": 5,
   "metadata": {},
   "outputs": [
    {
     "name": "stdout",
     "output_type": "stream",
     "text": [
      "0.9995654951401842\n",
      "0.20132038091651966\n"
     ]
    },
    {
     "data": {
      "text/plain": [
       "(array([3.0000e+00, 4.8000e+01, 4.3700e+02, 2.0110e+03, 5.4670e+03,\n",
       "        1.0009e+04, 1.4007e+04, 1.5682e+04, 1.4973e+04, 1.2335e+04,\n",
       "        9.2590e+03, 6.4000e+03, 3.9330e+03, 2.4080e+03, 1.3430e+03,\n",
       "        8.2200e+02, 4.3700e+02, 1.9900e+02, 1.2600e+02, 5.4000e+01,\n",
       "        2.6000e+01, 1.7000e+01, 1.0000e+00, 2.0000e+00, 1.0000e+00]),\n",
       " array([0.3590734 , 0.43527257, 0.51147174, 0.58767091, 0.66387008,\n",
       "        0.74006924, 0.81626841, 0.89246758, 0.96866675, 1.04486592,\n",
       "        1.12106508, 1.19726425, 1.27346342, 1.34966259, 1.42586176,\n",
       "        1.50206093, 1.57826009, 1.65445926, 1.73065843, 1.8068576 ,\n",
       "        1.88305677, 1.95925593, 2.0354551 , 2.11165427, 2.18785344,\n",
       "        2.26405261]),\n",
       " <BarContainer object of 25 artists>)"
      ]
     },
     "execution_count": 5,
     "metadata": {},
     "output_type": "execute_result"
    },
    {
     "data": {
      "image/png": "[encoded data removed]",
      "text/plain": [
       "<Figure size 432x288 with 1 Axes>"
      ]
     },
     "metadata": {
      "needs_background": "light"
     },
     "output_type": "display_data"
    }
   ],
   "source": [
    "print(np.mean(S[N]))\n",
    "print(np.std(S[N]))\n",
    "plt.hist(S[N], bins = 25)"
   ]
  },
  {
   "cell_type": "markdown",
   "metadata": {
    "id": "e2AxQWQN59kC"
   },
   "source": [
    "# The Greeks"
   ]
  },
  {
   "cell_type": "markdown",
   "metadata": {},
   "source": [
    "### Main Reference\n",
    "\n",
    "**Valuing European Option Using the Heston Model in QuantLib Python**\n",
    "\n",
    "http://gouthamanbalaraman.com/blog/valuing-european-option-heston-model-quantLib.html\n",
    "\n",
    "- kappa = 0.1   mean reversion strength \n",
    "- sigma = 0.1   vol of volatility \n",
    "- rho = -0.75   correlation between the asset price and its variance\n",
    "- vol = 0.2     vol of the underlying stock (known to be 20%)\n",
    "- v0 = vol^2 = 0.04   the spot variance \n",
    "- theta = v0    the mean reversion variance\n",
    "\n",
    "### Some Other References\n",
    "\n",
    "- QuantLib: setting up QuantLib-Python and pricing an option: https://www.quantopia.net/quantlib-setting-up-quantlib-python-and-pricing-an-option/\n",
    "- Introducing QuantLib: Black-Scholes and the Greeks: https://mhittesdorf.wordpress.com/2013/07/29/introducing-quantlib-black-scholes-and-the-greeks/\n",
    "- QuantLib, the Greeks and other useful option-related values: https://quantcorner.wordpress.com/2011/02/06/quantlib-the-greeks-and-other-useful-option-related-values/\n",
    "- Heston Model: Formula, Assumptions, Limitations: https://blog.quantinsti.com/heston-model/"
   ]
  },
  {
   "cell_type": "code",
   "execution_count": 6,
   "metadata": {},
   "outputs": [],
   "source": [
    "#!pip install QuantLib-Python"
   ]
  },
  {
   "cell_type": "code",
   "execution_count": 2,
   "metadata": {},
   "outputs": [],
   "source": [
    "import QuantLib as ql"
   ]
  },
  {
   "cell_type": "code",
   "execution_count": 66,
   "metadata": {},
   "outputs": [],
   "source": [
    "# option parameters\n",
    "strike_price = 100.00\n",
    "option_type = ql.Option.Call\n",
    "maturity_date = ql.Date(31, 12, 2020)\n",
    "day_count = ql.Actual365Fixed()\n",
    "calendar = ql.UnitedStates()\n",
    "\n",
    "# construct the European Option\n",
    "payoff = ql.PlainVanillaPayoff(option_type, strike_price)\n",
    "exercise = ql.EuropeanExercise(maturity_date)\n",
    "european_option = ql.VanillaOption(payoff, exercise)\n",
    "\n",
    "# parameters for Heston\n",
    "kappa = 0.1  # mean reversion strength\n",
    "sigma = 0.1  # vol of vol\n",
    "rho = -0.75  # corr between asset price and var\n",
    "vol = 0.20   # historical vols for the stock\n",
    "v0 = vol*vol # spot variance\n",
    "theta = v0   # mean reversion variance"
   ]
  },
  {
   "cell_type": "code",
   "execution_count": 67,
   "metadata": {},
   "outputs": [],
   "source": [
    "calculation_date = ql.Date(1, 10, 2020)\n",
    "v0 = 0.04\n",
    "spot_price = 100.00\n",
    "\n",
    "ql.Settings.instance().evaluationDate = calculation_date\n",
    "\n",
    "# construct the yield curve\n",
    "dividend_rate =  0\n",
    "risk_free_rate = 0\n",
    "flat_ts = ql.YieldTermStructureHandle(\n",
    "    ql.FlatForward(calculation_date, risk_free_rate, day_count)\n",
    ")\n",
    "dividend_yield = ql.YieldTermStructureHandle(\n",
    "    ql.FlatForward(calculation_date, dividend_rate, day_count)\n",
    ")\n",
    "\n",
    "# set the spot price\n",
    "spot_handle = ql.QuoteHandle(\n",
    "    ql.SimpleQuote(spot_price)\n",
    ")\n",
    "\n",
    "# calculate option price\n",
    "heston_process = ql.HestonProcess(\n",
    "flat_ts, dividend_yield, spot_handle,\n",
    "v0, kappa, theta, sigma, rho\n",
    ")"
   ]
  },
  {
   "cell_type": "code",
   "execution_count": 79,
   "metadata": {},
   "outputs": [
    {
     "data": {
      "text/html": [
       "<div>\n",
       "<style scoped>\n",
       "    .dataframe tbody tr th:only-of-type {\n",
       "        vertical-align: middle;\n",
       "    }\n",
       "\n",
       "    .dataframe tbody tr th {\n",
       "        vertical-align: top;\n",
       "    }\n",
       "\n",
       "    .dataframe thead th {\n",
       "        text-align: right;\n",
       "    }\n",
       "</style>\n",
       "<table border=\"1\" class=\"dataframe\">\n",
       "  <thead>\n",
       "    <tr style=\"text-align: right;\">\n",
       "      <th></th>\n",
       "      <th>0.000</th>\n",
       "      <th>0.125</th>\n",
       "      <th>0.250</th>\n",
       "      <th>0.375</th>\n",
       "      <th>0.500</th>\n",
       "      <th>0.625</th>\n",
       "      <th>0.750</th>\n",
       "      <th>0.875</th>\n",
       "      <th>1.000</th>\n",
       "    </tr>\n",
       "  </thead>\n",
       "  <tbody>\n",
       "    <tr>\n",
       "      <th>0</th>\n",
       "      <td>100.0</td>\n",
       "      <td>94.136648</td>\n",
       "      <td>87.621447</td>\n",
       "      <td>83.818712</td>\n",
       "      <td>80.007576</td>\n",
       "      <td>78.528320</td>\n",
       "      <td>73.457248</td>\n",
       "      <td>79.993305</td>\n",
       "      <td>62.053199</td>\n",
       "    </tr>\n",
       "    <tr>\n",
       "      <th>1</th>\n",
       "      <td>100.0</td>\n",
       "      <td>98.580658</td>\n",
       "      <td>100.951519</td>\n",
       "      <td>111.052836</td>\n",
       "      <td>115.880406</td>\n",
       "      <td>127.261144</td>\n",
       "      <td>117.985740</td>\n",
       "      <td>128.160168</td>\n",
       "      <td>132.263265</td>\n",
       "    </tr>\n",
       "    <tr>\n",
       "      <th>2</th>\n",
       "      <td>100.0</td>\n",
       "      <td>102.269172</td>\n",
       "      <td>100.859616</td>\n",
       "      <td>98.376570</td>\n",
       "      <td>109.151875</td>\n",
       "      <td>112.919059</td>\n",
       "      <td>113.699105</td>\n",
       "      <td>126.367913</td>\n",
       "      <td>136.046340</td>\n",
       "    </tr>\n",
       "    <tr>\n",
       "      <th>3</th>\n",
       "      <td>100.0</td>\n",
       "      <td>104.352438</td>\n",
       "      <td>102.748286</td>\n",
       "      <td>106.388900</td>\n",
       "      <td>106.615081</td>\n",
       "      <td>107.848964</td>\n",
       "      <td>106.637925</td>\n",
       "      <td>106.738832</td>\n",
       "      <td>116.212397</td>\n",
       "    </tr>\n",
       "    <tr>\n",
       "      <th>4</th>\n",
       "      <td>100.0</td>\n",
       "      <td>103.218029</td>\n",
       "      <td>109.068338</td>\n",
       "      <td>112.607814</td>\n",
       "      <td>101.940598</td>\n",
       "      <td>105.635059</td>\n",
       "      <td>107.016840</td>\n",
       "      <td>124.992486</td>\n",
       "      <td>128.018840</td>\n",
       "    </tr>\n",
       "  </tbody>\n",
       "</table>\n",
       "</div>"
      ],
      "text/plain": [
       "   0.000       0.125       0.250       0.375       0.500       0.625  \\\n",
       "0  100.0   94.136648   87.621447   83.818712   80.007576   78.528320   \n",
       "1  100.0   98.580658  100.951519  111.052836  115.880406  127.261144   \n",
       "2  100.0  102.269172  100.859616   98.376570  109.151875  112.919059   \n",
       "3  100.0  104.352438  102.748286  106.388900  106.615081  107.848964   \n",
       "4  100.0  103.218029  109.068338  112.607814  101.940598  105.635059   \n",
       "\n",
       "        0.750       0.875       1.000  \n",
       "0   73.457248   79.993305   62.053199  \n",
       "1  117.985740  128.160168  132.263265  \n",
       "2  113.699105  126.367913  136.046340  \n",
       "3  106.637925  106.738832  116.212397  \n",
       "4  107.016840  124.992486  128.018840  "
      ]
     },
     "execution_count": 79,
     "metadata": {},
     "output_type": "execute_result"
    }
   ],
   "source": [
    "import QuantLib as ql\n",
    "import numpy as np\n",
    "import pandas as pd\n",
    "from matplotlib import pyplot as plt\n",
    "from mpl_toolkits.mplot3d import Axes3D\n",
    "\n",
    "# Utility function to pull out spot and vol paths as Pandas dataframes\n",
    "def generate_multi_paths_df(sequence, num_paths):\n",
    "    spot_paths = []\n",
    "    vol_paths = []\n",
    "\n",
    "    for i in range(num_paths):\n",
    "        sample_path = seq.next()\n",
    "        values = sample_path.value()\n",
    "\n",
    "        spot, vol = values\n",
    "\n",
    "        spot_paths.append([x for x in spot])\n",
    "        vol_paths.append([x for x in vol])\n",
    "\n",
    "    df_spot = pd.DataFrame(spot_paths, columns=[spot.time(x) for x in range(len(spot))])\n",
    "    df_vol = pd.DataFrame(vol_paths, columns=[spot.time(x) for x in range(len(spot))])\n",
    "\n",
    "    return df_spot, df_vol\n",
    "\n",
    "\n",
    "\n",
    "timestep = 8\n",
    "length = 1\n",
    "times = ql.TimeGrid(length, timestep)\n",
    "dimension = heston_process.factors()\n",
    "\n",
    "rng = ql.GaussianRandomSequenceGenerator(ql.UniformRandomSequenceGenerator(dimension * timestep, ql.UniformRandomGenerator()))\n",
    "seq = ql.GaussianMultiPathGenerator(heston_process, list(times), rng, False)\n",
    "\n",
    "df_spot, df_vol = generate_multi_paths_df(seq, 10000)\n",
    "df_spot.head()"
   ]
  },
  {
   "cell_type": "code",
   "execution_count": 81,
   "metadata": {},
   "outputs": [
    {
     "data": {
      "text/plain": [
       "(array([  0.,   0.,   0.,   0.,   0.,   0.,   0.,   2.,   9.,  25.,  50.,\n",
       "         87., 177., 253., 418., 570., 725., 789., 942., 996., 972., 937.,\n",
       "        857., 684., 538., 355., 248., 166.,  91.,  57.,  18.,  15.,  10.,\n",
       "          5.,   2.,   1.,   0.,   1.,   0.,   0.,   0.,   0.,   0.,   0.,\n",
       "          0.,   0.,   0.,   0.,   0.,   0.]),\n",
       " array([  0.,   5.,  10.,  15.,  20.,  25.,  30.,  35.,  40.,  45.,  50.,\n",
       "         55.,  60.,  65.,  70.,  75.,  80.,  85.,  90.,  95., 100., 105.,\n",
       "        110., 115., 120., 125., 130., 135., 140., 145., 150., 155., 160.,\n",
       "        165., 170., 175., 180., 185., 190., 195., 200., 205., 210., 215.,\n",
       "        220., 225., 230., 235., 240., 245., 250.]),\n",
       " <BarContainer object of 50 artists>)"
      ]
     },
     "execution_count": 81,
     "metadata": {},
     "output_type": "execute_result"
    },
    {
     "data": {
      "image/png": "[encoded data removed]",
      "text/plain": [
       "<Figure size 432x288 with 1 Axes>"
      ]
     },
     "metadata": {
      "needs_background": "light"
     },
     "output_type": "display_data"
    }
   ],
   "source": [
    "plt.hist(price_path[:,-1], bins=np.linspace(0, 250, 51))\n",
    "plt.hist(df_spot[1.0], bins=np.linspace(0, 250, 51))"
   ]
  },
  {
   "cell_type": "code",
   "execution_count": 80,
   "metadata": {},
   "outputs": [
    {
     "ename": "KeyError",
     "evalue": "2.0",
     "output_type": "error",
     "traceback": [
      "\u001b[1;31m---------------------------------------------------------------------------\u001b[0m",
      "\u001b[1;31mKeyError\u001b[0m                                  Traceback (most recent call last)",
      "\u001b[1;32mC:\\SongyanHou\\Programs\\Anaconda3\\envs\\deephedge\\lib\\site-packages\\pandas\\core\\indexes\\base.py\u001b[0m in \u001b[0;36mget_loc\u001b[1;34m(self, key, method, tolerance)\u001b[0m\n\u001b[0;32m   3079\u001b[0m             \u001b[1;32mtry\u001b[0m\u001b[1;33m:\u001b[0m\u001b[1;33m\u001b[0m\u001b[1;33m\u001b[0m\u001b[0m\n\u001b[1;32m-> 3080\u001b[1;33m                 \u001b[1;32mreturn\u001b[0m \u001b[0mself\u001b[0m\u001b[1;33m.\u001b[0m\u001b[0m_engine\u001b[0m\u001b[1;33m.\u001b[0m\u001b[0mget_loc\u001b[0m\u001b[1;33m(\u001b[0m\u001b[0mcasted_key\u001b[0m\u001b[1;33m)\u001b[0m\u001b[1;33m\u001b[0m\u001b[1;33m\u001b[0m\u001b[0m\n\u001b[0m\u001b[0;32m   3081\u001b[0m             \u001b[1;32mexcept\u001b[0m \u001b[0mKeyError\u001b[0m \u001b[1;32mas\u001b[0m \u001b[0merr\u001b[0m\u001b[1;33m:\u001b[0m\u001b[1;33m\u001b[0m\u001b[1;33m\u001b[0m\u001b[0m\n",
      "\u001b[1;32mpandas\\_libs\\index.pyx\u001b[0m in \u001b[0;36mpandas._libs.index.IndexEngine.get_loc\u001b[1;34m()\u001b[0m\n",
      "\u001b[1;32mpandas\\_libs\\index.pyx\u001b[0m in \u001b[0;36mpandas._libs.index.IndexEngine.get_loc\u001b[1;34m()\u001b[0m\n",
      "\u001b[1;32mpandas\\_libs\\hashtable_class_helper.pxi\u001b[0m in \u001b[0;36mpandas._libs.hashtable.Float64HashTable.get_item\u001b[1;34m()\u001b[0m\n",
      "\u001b[1;32mpandas\\_libs\\hashtable_class_helper.pxi\u001b[0m in \u001b[0;36mpandas._libs.hashtable.Float64HashTable.get_item\u001b[1;34m()\u001b[0m\n",
      "\u001b[1;31mKeyError\u001b[0m: 2.0",
      "\nThe above exception was the direct cause of the following exception:\n",
      "\u001b[1;31mKeyError\u001b[0m                                  Traceback (most recent call last)",
      "\u001b[1;32m<ipython-input-80-523f3a55266a>\u001b[0m in \u001b[0;36m<module>\u001b[1;34m\u001b[0m\n\u001b[0;32m      7\u001b[0m \u001b[1;33m\u001b[0m\u001b[0m\n\u001b[0;32m      8\u001b[0m \u001b[0mplt\u001b[0m\u001b[1;33m.\u001b[0m\u001b[0msubplot\u001b[0m\u001b[1;33m(\u001b[0m\u001b[1;36m2\u001b[0m\u001b[1;33m,\u001b[0m \u001b[1;36m2\u001b[0m\u001b[1;33m,\u001b[0m \u001b[1;36m2\u001b[0m\u001b[1;33m)\u001b[0m\u001b[1;33m\u001b[0m\u001b[1;33m\u001b[0m\u001b[0m\n\u001b[1;32m----> 9\u001b[1;33m \u001b[0mplt\u001b[0m\u001b[1;33m.\u001b[0m\u001b[0mhist\u001b[0m\u001b[1;33m(\u001b[0m\u001b[0mdf_spot\u001b[0m\u001b[1;33m[\u001b[0m\u001b[1;36m2.0\u001b[0m\u001b[1;33m]\u001b[0m\u001b[1;33m,\u001b[0m \u001b[0mbins\u001b[0m\u001b[1;33m=\u001b[0m\u001b[0mnp\u001b[0m\u001b[1;33m.\u001b[0m\u001b[0mlinspace\u001b[0m\u001b[1;33m(\u001b[0m\u001b[1;36m0\u001b[0m\u001b[1;33m,\u001b[0m \u001b[1;36m250\u001b[0m\u001b[1;33m,\u001b[0m \u001b[1;36m51\u001b[0m\u001b[1;33m)\u001b[0m\u001b[1;33m)\u001b[0m\u001b[1;33m\u001b[0m\u001b[1;33m\u001b[0m\u001b[0m\n\u001b[0m\u001b[0;32m     10\u001b[0m \u001b[0mplt\u001b[0m\u001b[1;33m.\u001b[0m\u001b[0mtitle\u001b[0m\u001b[1;33m(\u001b[0m\u001b[1;34m\"Spot, t=2Y\"\u001b[0m\u001b[1;33m)\u001b[0m\u001b[1;33m\u001b[0m\u001b[1;33m\u001b[0m\u001b[0m\n\u001b[0;32m     11\u001b[0m \u001b[1;33m\u001b[0m\u001b[0m\n",
      "\u001b[1;32mC:\\SongyanHou\\Programs\\Anaconda3\\envs\\deephedge\\lib\\site-packages\\pandas\\core\\frame.py\u001b[0m in \u001b[0;36m__getitem__\u001b[1;34m(self, key)\u001b[0m\n\u001b[0;32m   3022\u001b[0m             \u001b[1;32mif\u001b[0m \u001b[0mself\u001b[0m\u001b[1;33m.\u001b[0m\u001b[0mcolumns\u001b[0m\u001b[1;33m.\u001b[0m\u001b[0mnlevels\u001b[0m \u001b[1;33m>\u001b[0m \u001b[1;36m1\u001b[0m\u001b[1;33m:\u001b[0m\u001b[1;33m\u001b[0m\u001b[1;33m\u001b[0m\u001b[0m\n\u001b[0;32m   3023\u001b[0m                 \u001b[1;32mreturn\u001b[0m \u001b[0mself\u001b[0m\u001b[1;33m.\u001b[0m\u001b[0m_getitem_multilevel\u001b[0m\u001b[1;33m(\u001b[0m\u001b[0mkey\u001b[0m\u001b[1;33m)\u001b[0m\u001b[1;33m\u001b[0m\u001b[1;33m\u001b[0m\u001b[0m\n\u001b[1;32m-> 3024\u001b[1;33m             \u001b[0mindexer\u001b[0m \u001b[1;33m=\u001b[0m \u001b[0mself\u001b[0m\u001b[1;33m.\u001b[0m\u001b[0mcolumns\u001b[0m\u001b[1;33m.\u001b[0m\u001b[0mget_loc\u001b[0m\u001b[1;33m(\u001b[0m\u001b[0mkey\u001b[0m\u001b[1;33m)\u001b[0m\u001b[1;33m\u001b[0m\u001b[1;33m\u001b[0m\u001b[0m\n\u001b[0m\u001b[0;32m   3025\u001b[0m             \u001b[1;32mif\u001b[0m \u001b[0mis_integer\u001b[0m\u001b[1;33m(\u001b[0m\u001b[0mindexer\u001b[0m\u001b[1;33m)\u001b[0m\u001b[1;33m:\u001b[0m\u001b[1;33m\u001b[0m\u001b[1;33m\u001b[0m\u001b[0m\n\u001b[0;32m   3026\u001b[0m                 \u001b[0mindexer\u001b[0m \u001b[1;33m=\u001b[0m \u001b[1;33m[\u001b[0m\u001b[0mindexer\u001b[0m\u001b[1;33m]\u001b[0m\u001b[1;33m\u001b[0m\u001b[1;33m\u001b[0m\u001b[0m\n",
      "\u001b[1;32mC:\\SongyanHou\\Programs\\Anaconda3\\envs\\deephedge\\lib\\site-packages\\pandas\\core\\indexes\\numeric.py\u001b[0m in \u001b[0;36mget_loc\u001b[1;34m(self, key, method, tolerance)\u001b[0m\n\u001b[0;32m    393\u001b[0m             \u001b[1;32mreturn\u001b[0m \u001b[0mnan_idxs\u001b[0m\u001b[1;33m\u001b[0m\u001b[1;33m\u001b[0m\u001b[0m\n\u001b[0;32m    394\u001b[0m \u001b[1;33m\u001b[0m\u001b[0m\n\u001b[1;32m--> 395\u001b[1;33m         \u001b[1;32mreturn\u001b[0m \u001b[0msuper\u001b[0m\u001b[1;33m(\u001b[0m\u001b[1;33m)\u001b[0m\u001b[1;33m.\u001b[0m\u001b[0mget_loc\u001b[0m\u001b[1;33m(\u001b[0m\u001b[0mkey\u001b[0m\u001b[1;33m,\u001b[0m \u001b[0mmethod\u001b[0m\u001b[1;33m=\u001b[0m\u001b[0mmethod\u001b[0m\u001b[1;33m,\u001b[0m \u001b[0mtolerance\u001b[0m\u001b[1;33m=\u001b[0m\u001b[0mtolerance\u001b[0m\u001b[1;33m)\u001b[0m\u001b[1;33m\u001b[0m\u001b[1;33m\u001b[0m\u001b[0m\n\u001b[0m\u001b[0;32m    396\u001b[0m \u001b[1;33m\u001b[0m\u001b[0m\n\u001b[0;32m    397\u001b[0m     \u001b[1;31m# ----------------------------------------------------------------\u001b[0m\u001b[1;33m\u001b[0m\u001b[1;33m\u001b[0m\u001b[1;33m\u001b[0m\u001b[0m\n",
      "\u001b[1;32mC:\\SongyanHou\\Programs\\Anaconda3\\envs\\deephedge\\lib\\site-packages\\pandas\\core\\indexes\\base.py\u001b[0m in \u001b[0;36mget_loc\u001b[1;34m(self, key, method, tolerance)\u001b[0m\n\u001b[0;32m   3080\u001b[0m                 \u001b[1;32mreturn\u001b[0m \u001b[0mself\u001b[0m\u001b[1;33m.\u001b[0m\u001b[0m_engine\u001b[0m\u001b[1;33m.\u001b[0m\u001b[0mget_loc\u001b[0m\u001b[1;33m(\u001b[0m\u001b[0mcasted_key\u001b[0m\u001b[1;33m)\u001b[0m\u001b[1;33m\u001b[0m\u001b[1;33m\u001b[0m\u001b[0m\n\u001b[0;32m   3081\u001b[0m             \u001b[1;32mexcept\u001b[0m \u001b[0mKeyError\u001b[0m \u001b[1;32mas\u001b[0m \u001b[0merr\u001b[0m\u001b[1;33m:\u001b[0m\u001b[1;33m\u001b[0m\u001b[1;33m\u001b[0m\u001b[0m\n\u001b[1;32m-> 3082\u001b[1;33m                 \u001b[1;32mraise\u001b[0m \u001b[0mKeyError\u001b[0m\u001b[1;33m(\u001b[0m\u001b[0mkey\u001b[0m\u001b[1;33m)\u001b[0m \u001b[1;32mfrom\u001b[0m \u001b[0merr\u001b[0m\u001b[1;33m\u001b[0m\u001b[1;33m\u001b[0m\u001b[0m\n\u001b[0m\u001b[0;32m   3083\u001b[0m \u001b[1;33m\u001b[0m\u001b[0m\n\u001b[0;32m   3084\u001b[0m         \u001b[1;32mif\u001b[0m \u001b[0mtolerance\u001b[0m \u001b[1;32mis\u001b[0m \u001b[1;32mnot\u001b[0m \u001b[1;32mNone\u001b[0m\u001b[1;33m:\u001b[0m\u001b[1;33m\u001b[0m\u001b[1;33m\u001b[0m\u001b[0m\n",
      "\u001b[1;31mKeyError\u001b[0m: 2.0"
     ]
    },
    {
     "data": {
      "image/png": "[encoded data removed]",
      "text/plain": [
       "<Figure size 1440x720 with 2 Axes>"
      ]
     },
     "metadata": {
      "needs_background": "light"
     },
     "output_type": "display_data"
    }
   ],
   "source": [
    "# Plot the first ten paths for spot and vol, and the distribution of the final path step across all paths\n",
    "plt.figure(figsize=(20, 10))\n",
    "\n",
    "plt.subplot(2, 2, 1)\n",
    "plt.plot(df_spot.iloc[0:10].transpose())\n",
    "plt.title(\"Sample Spot Paths\")\n",
    "\n",
    "plt.subplot(2, 2, 2)\n",
    "plt.hist(df_spot[1.0], bins=np.linspace(0, 250, 51))\n",
    "plt.title(\"Spot, t=2Y\")\n",
    "\n",
    "plt.subplot(2, 2, 3)\n",
    "plt.plot(np.sqrt(df_vol.iloc[0:10]).transpose())\n",
    "plt.title(\"Sample Vol Paths\")\n",
    "\n",
    "plt.subplot(2, 2, 4)\n",
    "plt.hist(np.sqrt(df_vol[1.0]), bins=np.linspace(0, 0.8, 17))\n",
    "plt.title(\"Instantaneous Vol, t=2Y\")"
   ]
  },
  {
   "cell_type": "code",
   "execution_count": 6,
   "metadata": {},
   "outputs": [],
   "source": [
    "def heston_value(calculation_date, v0, spot_price):\n",
    "    # set the evaluation date\n",
    "    ql.Settings.instance().evaluationDate = calculation_date\n",
    "\n",
    "    # construct the yield curve\n",
    "    dividend_rate =  0\n",
    "    risk_free_rate = 0\n",
    "    flat_ts = ql.YieldTermStructureHandle(\n",
    "        ql.FlatForward(calculation_date, risk_free_rate, day_count)\n",
    "    )\n",
    "    dividend_yield = ql.YieldTermStructureHandle(\n",
    "        ql.FlatForward(calculation_date, dividend_rate, day_count)\n",
    "    )\n",
    "\n",
    "    # set the spot price\n",
    "    spot_handle = ql.QuoteHandle(\n",
    "        ql.SimpleQuote(spot_price)\n",
    "    )\n",
    "    \n",
    "    # calculate option price\n",
    "    heston_process = ql.HestonProcess(\n",
    "    flat_ts, dividend_yield, spot_handle,\n",
    "    v0, kappa, theta, sigma, rho\n",
    "    )\n",
    "    \n",
    "    \n",
    "    \n",
    "\n",
    "    engine = ql.AnalyticHestonEngine(ql.HestonModel(heston_process),0.01, 1000)\n",
    "    european_option.setPricingEngine(engine)\n",
    "    h_price = european_option.NPV()\n",
    "    \n",
    "    return h_price"
   ]
  },
  {
   "cell_type": "markdown",
   "metadata": {},
   "source": [
    "### Calculate the Greeks numerically\n",
    "Use central finite difference"
   ]
  },
  {
   "cell_type": "code",
   "execution_count": 10,
   "metadata": {},
   "outputs": [
    {
     "name": "stdout",
     "output_type": "stream",
     "text": [
      "3.9643095229387697\n"
     ]
    },
    {
     "data": {
      "text/plain": [
       "[2.152885079854798, 196.48164768210563]"
      ]
     },
     "execution_count": 10,
     "metadata": {},
     "output_type": "execute_result"
    }
   ],
   "source": [
    "calculation_date = ql.Date(1, 10, 2020)\n",
    "v0 = 0.04\n",
    "spot_price = 100.00\n",
    "price = heston_value(calculation_date, v0, spot_price)\n",
    "print(price)\n",
    "\n",
    "\n",
    "v0_delta = 0.001\n",
    "spot_delta = 1\n",
    "\n",
    "def calc_greeks(calculation_date, v0, spot_price):\n",
    "\n",
    "    v0_plus  = v0 + v0_delta\n",
    "    v0_minus = v0 - v0_delta\n",
    "    spot_price_plus  = spot_price + spot_delta\n",
    "    spot_price_minus = spot_price - spot_delta\n",
    "    \n",
    "    p_curr = heston_value(calculation_date, v0, spot_price)\n",
    "    \n",
    "    p_theta_plus  = heston_value(calculation_date, v0_plus,  spot_price)\n",
    "    p_theta_minus = heston_value(calculation_date, v0_minus, spot_price)\n",
    "    \n",
    "    p_delta_plus  = heston_value(calculation_date, v0, spot_price_plus)\n",
    "    p_delta_minus = heston_value(calculation_date, v0, spot_price_minus)\n",
    "    \n",
    "    delta = (p_delta_plus - p_delta_minus) / spot_delta * 2\n",
    "    theta = (p_theta_plus - p_theta_minus) / v0_delta * 2\n",
    "    \n",
    "    return [delta, theta]\n",
    "\n",
    "calc_greeks(calculation_date, v0, spot_price)"
   ]
  },
  {
   "cell_type": "code",
   "execution_count": null,
   "metadata": {},
   "outputs": [],
   "source": []
  }
 ],
 "metadata": {
  "colab": {
   "collapsed_sections": [],
   "include_colab_link": true,
   "name": "deep_hedging_bs_conditionalrewards.ipynb",
   "provenance": []
  },
  "kernelspec": {
   "display_name": "Python 3",
   "language": "python",
   "name": "python3"
  },
  "language_info": {
   "codemirror_mode": {
    "name": "ipython",
    "version": 3
   },
   "file_extension": ".py",
   "mimetype": "text/x-python",
   "name": "python",
   "nbconvert_exporter": "python",
   "pygments_lexer": "ipython3",
   "version": "3.8.8"
  }
 },
 "nbformat": 4,
 "nbformat_minor": 1
}
