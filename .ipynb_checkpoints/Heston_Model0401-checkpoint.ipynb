{
 "cells": [
  {
   "cell_type": "markdown",
   "metadata": {},
   "source": [
    "## Heston Model\n",
    "\n",
    "### [Formula](https://en.wikipedia.org/wiki/Heston_model)\n",
    "\n",
    "The price of the asset $S_t$ is determined by a stochastic process:\n",
    "\n",
    "<center> $dS_{t}=\\mu S_{t}\\,dt+{\\sqrt  {\\nu_{t}}}S_{t}\\,dW_{t}^{S}$ </center>\n",
    "\n",
    "The instantaneous variance $\\nu_t$ is a CIR process:\n",
    "\n",
    "<center> $d\\nu_{t}=\\kappa (\\theta -\\nu_{t})\\,dt+\\xi {\\sqrt  {\\nu_{t}}}\\,dW_{t}^{{\\nu }}$ </center>\n",
    "\n",
    "where $W_{t}^{S},W_{t}^{\\nu }$ are Wiener processes (continuous random walks) with correlation $\\rho$.\n",
    "\n",
    "The parameters in the above equations represent the following:\n",
    "- $\\mu$ is the rate of return of the asset.\n",
    "- $\\theta$ is the long variance, or long run average price variance; as $t$ tends to infinity, the expected value of $\\nu_t$ tends to $\\theta$.\n",
    "- $\\kappa$ is the rate at which $\\nu_t$ reverts to $\\theta$.\n",
    "- $\\xi$ is the volatility of the volatility, or 'vol of vol', and determines the variance of $\\nu_t$.\n",
    "\n",
    "If $2\\kappa \\theta >\\xi ^{2}$ (Feller condition), then the process $\\nu_t$ is strictly positive.\n",
    "\n",
    "\n",
    "### Discretization\n",
    "Forward Euler for Heston model\n",
    "\n",
    "<center> $\\nu_{t} = \\nu_{t-1} + \\kappa (\\theta -\\nu_{t-1})\\frac{T}{N} + \\xi{\\sqrt{|\\nu_{t-1}|}}\\sqrt{\\frac{T}{N}} Z_{t}^{\\nu}$ </center>\n",
    "\n",
    "<center> $\\log(S_t)= \\log(S_{t-1}) -\\frac{\\nu_{t}^2}{2} \\frac{T}{N} + \\nu_{t} \\sqrt{\\frac{T}{N}} Z_{t}^{S}$ </center>\n",
    "\n",
    "\n",
    "### Implementation Decisions (to be made)\n",
    "- Initialization - does it matter in our case?\n",
    "- Parameter tuning - maybe it doesn't matter in our case either\n",
    "- What to do when v < 0? abs, trunc? Do we apply it to all v's in the formula?\n",
    "\n",
    "### Some References\n",
    "- https://www.degruyter.com/document/doi/10.1515/math-2017-0058/html#:~:text=The%20main%20parameters%20of%20interest,increases%20the%20prices%20of%20options\n",
    "- https://www.quantstart.com/articles/Heston-Stochastic-Volatility-Model-with-Euler-Discretisation-in-C/\n",
    "- https://arxiv.org/pdf/1502.02963.pdf\n",
    "- https://www.valpo.edu/mathematics-statistics/files/2015/07/Estimating-Option-Prices-with-Heston%E2%80%99s--Stochastic-Volatility-Model.pdf\n",
    "- Heston code (Michele mentioned it in the last meeting): https://github.com/daleroberts/heston/blob/master/heston.r"
   ]
  },
  {
   "cell_type": "code",
   "execution_count": 1,
   "metadata": {},
   "outputs": [
    {
     "ename": "NameError",
     "evalue": "name 'kappa' is not defined",
     "output_type": "error",
     "traceback": [
      "\u001b[1;31m---------------------------------------------------------------------------\u001b[0m",
      "\u001b[1;31mNameError\u001b[0m                                 Traceback (most recent call last)",
      "\u001b[1;32m<ipython-input-1-d3fa9714c09c>\u001b[0m in \u001b[0;36m<module>\u001b[1;34m\u001b[0m\n\u001b[1;32m----> 1\u001b[1;33m \u001b[1;36m2\u001b[0m\u001b[1;33m*\u001b[0m\u001b[0mkappa\u001b[0m\u001b[1;33m*\u001b[0m\u001b[0mtheta\u001b[0m \u001b[1;33m-\u001b[0m \u001b[0msigma\u001b[0m\u001b[1;33m**\u001b[0m\u001b[1;36m2\u001b[0m\u001b[1;33m\u001b[0m\u001b[1;33m\u001b[0m\u001b[0m\n\u001b[0m",
      "\u001b[1;31mNameError\u001b[0m: name 'kappa' is not defined"
     ]
    }
   ],
   "source": [
    "2*kappa*theta - sigma**2"
   ]
  },
  {
   "cell_type": "code",
   "execution_count": null,
   "metadata": {},
   "outputs": [],
   "source": [
    "import numpy as np\n",
    "import matplotlib.pyplot as plt\n",
    "import utils \n",
    "## Dimensions\n",
    "m = 1           # dimention of output\n",
    "Ktrain = 1000  # number of training models\n",
    "N = 1000        # time disrectization\n",
    "T = 1           # maturity\n",
    "## Parameters\n",
    "rho = -0.75     # correlation between the two process\n",
    "kappa = 0.1     # kappa: reversion strength\n",
    "theta = 0.2     # theta: long-term volatility\n",
    "sigma = 0.1        # xi: volatility of volatility\n",
    "## Initialization - could have other values\n",
    "S0 = 100 * np.ones((Ktrain,m))\n",
    "v0 = theta * np.ones((Ktrain,m))\n",
    "price_path, vol_path = utils.stimulate_Heston(m,Ktrain,N,T,rho,kappa,theta,sigma,S0,v0)"
   ]
  },
  {
   "cell_type": "code",
   "execution_count": null,
   "metadata": {},
   "outputs": [],
   "source": [
    "plt.hist(price_path[:,-1])"
   ]
  },
  {
   "cell_type": "markdown",
   "metadata": {
    "id": "e2AxQWQN59kC"
   },
   "source": [
    "# The Greeks"
   ]
  },
  {
   "cell_type": "markdown",
   "metadata": {},
   "source": [
    "### Main Reference\n",
    "\n",
    "**Valuing European Option Using the Heston Model in QuantLib Python**\n",
    "\n",
    "http://gouthamanbalaraman.com/blog/valuing-european-option-heston-model-quantLib.html\n",
    "\n",
    "- kappa = 0.1   mean reversion strength \n",
    "- sigma = 0.1   vol of volatility \n",
    "- rho = -0.75   correlation between the asset price and its variance\n",
    "- vol = 0.2     vol of the underlying stock (known to be 20%)\n",
    "- v0 = vol^2 = 0.04   the spot variance \n",
    "- theta = v0    the mean reversion variance\n",
    "\n",
    "### Some Other References\n",
    "\n",
    "- QuantLib: setting up QuantLib-Python and pricing an option: https://www.quantopia.net/quantlib-setting-up-quantlib-python-and-pricing-an-option/\n",
    "- Introducing QuantLib: Black-Scholes and the Greeks: https://mhittesdorf.wordpress.com/2013/07/29/introducing-quantlib-black-scholes-and-the-greeks/\n",
    "- QuantLib, the Greeks and other useful option-related values: https://quantcorner.wordpress.com/2011/02/06/quantlib-the-greeks-and-other-useful-option-related-values/\n",
    "- Heston Model: Formula, Assumptions, Limitations: https://blog.quantinsti.com/heston-model/"
   ]
  },
  {
   "cell_type": "code",
   "execution_count": 80,
   "metadata": {},
   "outputs": [],
   "source": [
    "import QuantLib as ql\n",
    "# option parameters\n",
    "strike_price = 100.00\n",
    "option_type = ql.Option.Call\n",
    "maturity_date = ql.Date(31, 12, 2020)\n",
    "day_count = ql.Actual365Fixed()\n",
    "calendar = ql.UnitedStates()\n",
    "\n",
    "# construct the European Option\n",
    "payoff = ql.PlainVanillaPayoff(option_type, strike_price)\n",
    "exercise = ql.EuropeanExercise(maturity_date)\n",
    "european_option = ql.VanillaOption(payoff, exercise)\n",
    "\n",
    "# parameters for Heston\n",
    "kappa = 1  # mean reversion strength\n",
    "sigma = 2  # vol of vol\n",
    "rho = -0.7  # corr between asset price and var\n",
    "v0 = 0.04   # historical vols for the stock\n",
    "theta = 0.04   # mean reversion variance\n"
   ]
  },
  {
   "cell_type": "code",
   "execution_count": 81,
   "metadata": {},
   "outputs": [
    {
     "data": {
      "text/plain": [
       "[<matplotlib.lines.Line2D at 0x1f7ff807cd0>,\n",
       " <matplotlib.lines.Line2D at 0x1f7ff807d90>,\n",
       " <matplotlib.lines.Line2D at 0x1f7ff807e50>,\n",
       " <matplotlib.lines.Line2D at 0x1f7ff807f10>,\n",
       " <matplotlib.lines.Line2D at 0x1f7ff807fd0>,\n",
       " <matplotlib.lines.Line2D at 0x1f7ff8150d0>,\n",
       " <matplotlib.lines.Line2D at 0x1f7ff815190>,\n",
       " <matplotlib.lines.Line2D at 0x1f7ff815250>,\n",
       " <matplotlib.lines.Line2D at 0x1f7ff815310>,\n",
       " <matplotlib.lines.Line2D at 0x1f7ff8153d0>]"
      ]
     },
     "execution_count": 81,
     "metadata": {},
     "output_type": "execute_result"
    },
    {
     "data": {
      "image/png": "[encoded data removed]",
      "text/plain": [
       "<Figure size 432x288 with 1 Axes>"
      ]
     },
     "metadata": {
      "needs_background": "light"
     },
     "output_type": "display_data"
    }
   ],
   "source": [
    "day_count = ql.Actual365Fixed()\n",
    "\n",
    "calculation_date = ql.Date(1, 1, 2020)\n",
    "spot_price = 100.00\n",
    "# ql.Settings.instance().evaluationDate = calculation_date\n",
    "\n",
    "# construct the yield curve\n",
    "dividend_rate =  0\n",
    "risk_free_rate = 0\n",
    "flat_ts = ql.YieldTermStructureHandle(\n",
    "    ql.FlatForward(calculation_date, risk_free_rate, day_count)\n",
    ")\n",
    "\n",
    "dividend_yield = ql.YieldTermStructureHandle(\n",
    "    ql.FlatForward(calculation_date, dividend_rate, day_count)\n",
    ")\n",
    "\n",
    "# set the spot price\n",
    "spot_handle = ql.QuoteHandle(\n",
    "    ql.SimpleQuote(spot_price)\n",
    ")\n",
    "\n",
    "# calculate option price\n",
    "heston_process = ql.HestonProcess(\n",
    "flat_ts, dividend_yield, spot_handle,\n",
    "v0, kappa, theta, sigma, rho\n",
    ")\n",
    "\n",
    "\n",
    "timestep = 100\n",
    "length = 1\n",
    "times = ql.TimeGrid(length, timestep)\n",
    "dimension = heston_process.factors()\n",
    "numPaths = 10\n",
    "\n",
    "rng = ql.UniformRandomSequenceGenerator(dimension * timestep, ql.UniformRandomGenerator())\n",
    "sequenceGenerator = ql.GaussianRandomSequenceGenerator(rng)\n",
    "pathGenerator = ql.GaussianMultiPathGenerator(heston_process, list(times), sequenceGenerator, False)\n",
    "\n",
    "# paths[0] will contain spot paths, paths[1] will contain vol paths\n",
    "paths = [[] for i in range(dimension)]\n",
    "for i in range(numPaths):\n",
    "    samplePath = pathGenerator.next()\n",
    "    values = samplePath.value()\n",
    "    spot = values[0]\n",
    "\n",
    "    for j in range(dimension):\n",
    "        paths[j].append([x for x in values[j]])\n",
    "        \n",
    "import numpy as np\n",
    "import matplotlib.pyplot as plt\n",
    "paths_np = np.array(paths)\n",
    "# plt.plot(paths_np[0,:,:].T)\n",
    "plt.plot(paths_np[1,:,:].T)       "
   ]
  },
  {
   "cell_type": "code",
   "execution_count": 64,
   "metadata": {},
   "outputs": [
    {
     "data": {
      "text/plain": [
       "[<matplotlib.lines.Line2D at 0x1f7ff30a250>,\n",
       " <matplotlib.lines.Line2D at 0x1f7ff30a310>,\n",
       " <matplotlib.lines.Line2D at 0x1f7ff30a3d0>,\n",
       " <matplotlib.lines.Line2D at 0x1f7ff30a490>,\n",
       " <matplotlib.lines.Line2D at 0x1f7ff30a550>,\n",
       " <matplotlib.lines.Line2D at 0x1f7ff30a610>,\n",
       " <matplotlib.lines.Line2D at 0x1f7ff30a6d0>,\n",
       " <matplotlib.lines.Line2D at 0x1f7ff30a790>,\n",
       " <matplotlib.lines.Line2D at 0x1f7ff30a850>,\n",
       " <matplotlib.lines.Line2D at 0x1f7ff30a910>]"
      ]
     },
     "execution_count": 64,
     "metadata": {},
     "output_type": "execute_result"
    },
    {
     "data": {
      "image/png": "[encoded data removed]",
      "text/plain": [
       "<Figure size 432x288 with 1 Axes>"
      ]
     },
     "metadata": {
      "needs_background": "light"
     },
     "output_type": "display_data"
    }
   ],
   "source": []
  },
  {
   "cell_type": "code",
   "execution_count": 39,
   "metadata": {},
   "outputs": [],
   "source": [
    "\n",
    "def heston_value(calculation_date, v0, spot_price):\n",
    "    # set the evaluation date\n",
    "    ql.Settings.instance().evaluationDate = calculation_date\n",
    "\n",
    "    # construct the yield curve\n",
    "    dividend_rate =  0\n",
    "    risk_free_rate = 0\n",
    "    flat_ts = ql.YieldTermStructureHandle(\n",
    "        ql.FlatForward(calculation_date, risk_free_rate, day_count)\n",
    "    )\n",
    "    dividend_yield = ql.YieldTermStructureHandle(\n",
    "        ql.FlatForward(calculation_date, dividend_rate, day_count)\n",
    "    )\n",
    "\n",
    "    # set the spot price\n",
    "    spot_handle = ql.QuoteHandle(\n",
    "        ql.SimpleQuote(spot_price)\n",
    "    )\n",
    "    \n",
    "    # calculate option price\n",
    "    heston_process = ql.HestonProcess(\n",
    "    flat_ts, dividend_yield, spot_handle,\n",
    "    v0, kappa, theta, sigma, rho\n",
    "    )\n",
    "\n",
    "    engine = ql.AnalyticHestonEngine(ql.HestonModel(heston_process),0.01, 1000)\n",
    "    european_option.setPricingEngine(engine)\n",
    "    h_price = european_option.NPV()\n",
    "    \n",
    "    return h_price"
   ]
  },
  {
   "cell_type": "markdown",
   "metadata": {},
   "source": [
    "### Calculate the Greeks numerically\n",
    "Use central finite difference"
   ]
  },
  {
   "cell_type": "code",
   "execution_count": 42,
   "metadata": {},
   "outputs": [],
   "source": [
    "import numpy as np\n",
    "import matplotlib.pyplot as plt\n",
    "price = np.linspace(50,150,100)\n",
    "DELTA = price*0\n",
    "VEGA = price*0\n",
    "PRICE = price*0\n",
    "for i,p in enumerate(price): \n",
    "    p, delta, vega = calc_greeks(calculation_date, v0, p)\n",
    "    PRICE[i] = p \n",
    "    DELTA[i] = delta\n",
    "    VEGA[i] = vega\n",
    "\n",
    "def smooth(PRICE):\n",
    "    PRICE2 = PRICE*1\n",
    "    for i,p in enumerate(PRICE):\n",
    "        if i > 0 and i < 99:\n",
    "            PRICE2[i] = PRICE[i-1]/3 + PRICE[i]/3 + PRICE[i+1]/3\n",
    "    return PRICE2\n"
   ]
  },
  {
   "cell_type": "code",
   "execution_count": 43,
   "metadata": {},
   "outputs": [
    {
     "data": {
      "text/plain": [
       "[<matplotlib.lines.Line2D at 0x1f7fef9b7f0>]"
      ]
     },
     "execution_count": 43,
     "metadata": {},
     "output_type": "execute_result"
    },
    {
     "data": {
      "image/png": "[encoded data removed]",
      "text/plain": [
       "<Figure size 432x288 with 1 Axes>"
      ]
     },
     "metadata": {
      "needs_background": "light"
     },
     "output_type": "display_data"
    }
   ],
   "source": [
    "plt.plot(price,PRICE)"
   ]
  },
  {
   "cell_type": "code",
   "execution_count": 44,
   "metadata": {},
   "outputs": [
    {
     "data": {
      "text/plain": [
       "[<matplotlib.lines.Line2D at 0x1f7fefeba60>]"
      ]
     },
     "execution_count": 44,
     "metadata": {},
     "output_type": "execute_result"
    },
    {
     "data": {
      "image/png": "[encoded data removed]",
      "text/plain": [
       "<Figure size 432x288 with 1 Axes>"
      ]
     },
     "metadata": {
      "needs_background": "light"
     },
     "output_type": "display_data"
    }
   ],
   "source": [
    "# dd = DELTA*1\n",
    "# for i in range(10):\n",
    "#     dd = smooth(dd)\n",
    "plt.plot(price,DELTA)\n",
    "# plt.plot(price,dd)"
   ]
  },
  {
   "cell_type": "code",
   "execution_count": 45,
   "metadata": {},
   "outputs": [
    {
     "data": {
      "text/plain": [
       "[<matplotlib.lines.Line2D at 0x1f7fdddf880>]"
      ]
     },
     "execution_count": 45,
     "metadata": {},
     "output_type": "execute_result"
    },
    {
     "data": {
      "image/png": "[encoded data removed]",
      "text/plain": [
       "<Figure size 432x288 with 1 Axes>"
      ]
     },
     "metadata": {
      "needs_background": "light"
     },
     "output_type": "display_data"
    }
   ],
   "source": [
    "# vv = VEGA*1\n",
    "# for i in range(10):\n",
    "#     vv = smooth(vv)\n",
    "plt.plot(price,VEGA)\n",
    "# plt.plot(price,vv)"
   ]
  },
  {
   "cell_type": "code",
   "execution_count": 40,
   "metadata": {},
   "outputs": [
    {
     "name": "stdout",
     "output_type": "stream",
     "text": [
      "7.6374942371858126\n"
     ]
    },
    {
     "data": {
      "text/plain": [
       "[7.6374942371858126, 2.3053300580551763, 387.0507122122149]"
      ]
     },
     "execution_count": 40,
     "metadata": {},
     "output_type": "execute_result"
    }
   ],
   "source": [
    "calculation_date = ql.Date(1, 1, 2020)\n",
    "v0 = 0.04\n",
    "spot_price = 100.00\n",
    "price = heston_value(calculation_date, v0, spot_price)\n",
    "print(price)\n",
    "\n",
    "\n",
    "v0_delta = 0.001\n",
    "spot_delta = 1\n",
    "\n",
    "def calc_greeks(calculation_date, v0, spot_price):\n",
    "\n",
    "    v0_plus  = v0 + v0_delta\n",
    "    v0_minus = v0 - v0_delta\n",
    "    spot_price_plus  = spot_price + spot_delta\n",
    "    spot_price_minus = spot_price - spot_delta\n",
    "    \n",
    "    p_curr = heston_value(calculation_date, v0, spot_price)\n",
    "    \n",
    "    p_vega_plus  = heston_value(calculation_date, v0_plus,  spot_price)\n",
    "    p_vega_minus = heston_value(calculation_date, v0_minus, spot_price)\n",
    "    \n",
    "    p_delta_plus  = heston_value(calculation_date, v0, spot_price_plus)\n",
    "    p_delta_minus = heston_value(calculation_date, v0, spot_price_minus)\n",
    "    \n",
    "    delta = (p_delta_plus - p_delta_minus) / spot_delta * 2\n",
    "    vega = (p_vega_plus - p_vega_minus) / v0_delta * 2\n",
    "    \n",
    "    return [p_curr, delta, vega]\n",
    "\n",
    "calc_greeks(calculation_date, v0, spot_price)"
   ]
  },
  {
   "cell_type": "code",
   "execution_count": null,
   "metadata": {},
   "outputs": [],
   "source": []
  }
 ],
 "metadata": {
  "colab": {
   "collapsed_sections": [],
   "include_colab_link": true,
   "name": "deep_hedging_bs_conditionalrewards.ipynb",
   "provenance": []
  },
  "kernelspec": {
   "display_name": "Python 3",
   "language": "python",
   "name": "python3"
  },
  "language_info": {
   "codemirror_mode": {
    "name": "ipython",
    "version": 3
   },
   "file_extension": ".py",
   "mimetype": "text/x-python",
   "name": "python",
   "nbconvert_exporter": "python",
   "pygments_lexer": "ipython3",
   "version": "3.8.8"
  }
 },
 "nbformat": 4,
 "nbformat_minor": 1
}
