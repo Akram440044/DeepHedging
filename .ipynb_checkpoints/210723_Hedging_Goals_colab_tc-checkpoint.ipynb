{
 "cells": [
  {
   "cell_type": "markdown",
   "metadata": {
    "id": "rj4OPchVM3eJ"
   },
   "source": [
    "# Hedging Goals\n",
    "\n",
    "## Packages"
   ]
  },
  {
   "cell_type": "code",
   "execution_count": 1,
   "metadata": {
    "executionInfo": {
     "elapsed": 2363,
     "status": "ok",
     "timestamp": 1627051361275,
     "user": {
      "displayName": "Thomas Krabichler",
      "photoUrl": "",
      "userId": "11825618390445075503"
     },
     "user_tz": -120
    },
    "id": "-VLP5g2MM3eN"
   },
   "outputs": [],
   "source": [
    "from datetime import datetime\n",
    "import matplotlib.pyplot as plt\n",
    "plt.style.use('seaborn-whitegrid')\n",
    "import numpy as np\n",
    "import pandas as pd\n",
    "from scipy.optimize import fsolve\n",
    "from scipy.optimize import root\n",
    "from scipy.stats import beta\n",
    "from scipy.stats import norm\n",
    "import tensorflow as tf\n",
    "from tensorflow.keras import initializers, optimizers\n",
    "import tensorflow.keras.backend as K\n",
    "from tensorflow.keras.backend import constant, zeros_like\n",
    "from tensorflow.keras.constraints import max_norm\n",
    "from tensorflow.keras.layers import Add, add, Concatenate, Dense, Dot, Input, Lambda, Layer, maximum, minimum, Multiply, Subtract, subtract\n",
    "from tensorflow.keras.models import model_from_json, load_model, Model, Sequential\n",
    "from tensorflow.keras.utils import plot_model"
   ]
  },
  {
   "cell_type": "code",
   "execution_count": 2,
   "metadata": {
    "colab": {
     "base_uri": "https://localhost:8080/"
    },
    "executionInfo": {
     "elapsed": 15,
     "status": "ok",
     "timestamp": 1627051361277,
     "user": {
      "displayName": "Thomas Krabichler",
      "photoUrl": "",
      "userId": "11825618390445075503"
     },
     "user_tz": -120
    },
    "id": "hU66f-RCOsdW",
    "outputId": "892581b9-4b66-489e-8634-82004fb3dd9a"
   },
   "outputs": [
    {
     "name": "stdout",
     "output_type": "stream",
     "text": [
      "10:38:27\n"
     ]
    }
   ],
   "source": [
    "print(datetime.now().time().strftime(\"%H:%M:%S\"))"
   ]
  },
  {
   "cell_type": "markdown",
   "metadata": {
    "id": "eYkEf2gVOEaF"
   },
   "source": [
    "## Connect to Google Directory"
   ]
  },
  {
   "cell_type": "code",
   "execution_count": 3,
   "metadata": {
    "colab": {
     "base_uri": "https://localhost:8080/"
    },
    "executionInfo": {
     "elapsed": 8,
     "status": "ok",
     "timestamp": 1627051361277,
     "user": {
      "displayName": "Thomas Krabichler",
      "photoUrl": "",
      "userId": "11825618390445075503"
     },
     "user_tz": -120
    },
    "id": "WaamnOhpOD3Z",
    "outputId": "ff982984-2c37-4a42-8913-80a46bcd6f32"
   },
   "outputs": [],
   "source": [
    "# from google.colab import drive\n",
    "# drive.mount('/content/gdrive')\n",
    "# images_dir='/content/gdrive/My Drive/graphics/Hedging_Goals/'\n",
    "\n",
    "images_dir = 'C:\\SongyanHou\\Study\\Codes\\DeepHedging\\graphics\\Hedging_Goals'"
   ]
  },
  {
   "cell_type": "code",
   "execution_count": 4,
   "metadata": {
    "colab": {
     "base_uri": "https://localhost:8080/"
    },
    "executionInfo": {
     "elapsed": 7,
     "status": "ok",
     "timestamp": 1627051361277,
     "user": {
      "displayName": "Thomas Krabichler",
      "photoUrl": "",
      "userId": "11825618390445075503"
     },
     "user_tz": -120
    },
    "id": "JYXvydN7M3eO",
    "outputId": "2ed55956-9e1f-413e-9f70-60b40b07ec20"
   },
   "outputs": [
    {
     "name": "stdout",
     "output_type": "stream",
     "text": [
      "10:38:27\n"
     ]
    }
   ],
   "source": [
    "print(datetime.now().time().strftime(\"%H:%M:%S\"))"
   ]
  },
  {
   "cell_type": "markdown",
   "metadata": {
    "id": "WedcalYBM3eP"
   },
   "source": [
    "## Scenario Parameters"
   ]
  },
  {
   "cell_type": "code",
   "execution_count": 5,
   "metadata": {
    "executionInfo": {
     "elapsed": 6,
     "status": "ok",
     "timestamp": 1627051361278,
     "user": {
      "displayName": "Thomas Krabichler",
      "photoUrl": "",
      "userId": "11825618390445075503"
     },
     "user_tz": -120
    },
    "id": "U1EiqxyvM3eP"
   },
   "outputs": [],
   "source": [
    "dt=1/52\n",
    "maturity=10\n",
    "nScenarios=10**4\n",
    "nTest=10**4\n",
    "mu=0.08\n",
    "r=0.01\n",
    "sigma=0.30\n",
    "S0=100.\n",
    "strike=100.\n",
    "tc=0.005\n",
    "h0=0.\n",
    "w0=70.\n",
    "target=1/maturity*np.log(100/w0)\n",
    "lmbda=0.1"
   ]
  },
  {
   "cell_type": "code",
   "execution_count": 6,
   "metadata": {
    "executionInfo": {
     "elapsed": 6,
     "status": "ok",
     "timestamp": 1627051361278,
     "user": {
      "displayName": "Thomas Krabichler",
      "photoUrl": "",
      "userId": "11825618390445075503"
     },
     "user_tz": -120
    },
    "id": "QPjKWICzM3eP"
   },
   "outputs": [],
   "source": [
    "N=int(maturity/dt)"
   ]
  },
  {
   "cell_type": "code",
   "execution_count": 7,
   "metadata": {
    "colab": {
     "base_uri": "https://localhost:8080/"
    },
    "executionInfo": {
     "elapsed": 6,
     "status": "ok",
     "timestamp": 1627051361278,
     "user": {
      "displayName": "Thomas Krabichler",
      "photoUrl": "",
      "userId": "11825618390445075503"
     },
     "user_tz": -120
    },
    "id": "vKjbL-OZM3eQ",
    "outputId": "6e1b62f9-df35-40f4-8e88-4efc6834c8b0"
   },
   "outputs": [
    {
     "name": "stdout",
     "output_type": "stream",
     "text": [
      "10:38:27\n"
     ]
    }
   ],
   "source": [
    "print(datetime.now().time().strftime(\"%H:%M:%S\"))"
   ]
  },
  {
   "cell_type": "markdown",
   "metadata": {
    "id": "-eXnGzGQM3eQ"
   },
   "source": [
    "## Configuration of the Neural Networks"
   ]
  },
  {
   "cell_type": "code",
   "execution_count": 8,
   "metadata": {
    "executionInfo": {
     "elapsed": 1481,
     "status": "ok",
     "timestamp": 1627051362755,
     "user": {
      "displayName": "Thomas Krabichler",
      "photoUrl": "",
      "userId": "11825618390445075503"
     },
     "user_tz": -120
    },
    "id": "J1mVk_mGM3eQ"
   },
   "outputs": [],
   "source": [
    "nodes=10\n",
    "depth=2\n",
    "layers=[]\n",
    "for k in range(N):\n",
    "    l=0\n",
    "    while l<depth:\n",
    "        layer=Dense(nodes,activation='sigmoid',trainable=True,\n",
    "            kernel_initializer='random_normal',bias_initializer='random_normal',\n",
    "            name=str(k*(depth+1)+l))\n",
    "        layers=layers+[layer]\n",
    "        l+=1\n",
    "    layer=Dense(1,activation='sigmoid',trainable=True,\n",
    "        kernel_initializer='random_normal',bias_initializer='random_normal',\n",
    "        name=str(k*(depth+1)+l))\n",
    "    layers=layers+[layer]"
   ]
  },
  {
   "cell_type": "code",
   "execution_count": 9,
   "metadata": {
    "colab": {
     "base_uri": "https://localhost:8080/"
    },
    "executionInfo": {
     "elapsed": 16,
     "status": "ok",
     "timestamp": 1627051362759,
     "user": {
      "displayName": "Thomas Krabichler",
      "photoUrl": "",
      "userId": "11825618390445075503"
     },
     "user_tz": -120
    },
    "id": "GsJt73NwM3eQ",
    "outputId": "b1dba5e5-516d-4f2c-cfc5-8c52827e90fd"
   },
   "outputs": [
    {
     "name": "stdout",
     "output_type": "stream",
     "text": [
      "10:38:28\n"
     ]
    }
   ],
   "source": [
    "print(datetime.now().time().strftime(\"%H:%M:%S\"))"
   ]
  },
  {
   "cell_type": "markdown",
   "metadata": {
    "id": "u3GfHZ-bM3eR"
   },
   "source": [
    "## Tensor Operations"
   ]
  },
  {
   "cell_type": "code",
   "execution_count": 10,
   "metadata": {
    "executionInfo": {
     "elapsed": 8,
     "status": "ok",
     "timestamp": 1627051362759,
     "user": {
      "displayName": "Thomas Krabichler",
      "photoUrl": "",
      "userId": "11825618390445075503"
     },
     "user_tz": -120
    },
    "id": "kCKevrd-M3eR"
   },
   "outputs": [],
   "source": [
    "import sys\n",
    "#print(sys.getrecursionlimit())\n",
    "sys.setrecursionlimit(4000)"
   ]
  },
  {
   "cell_type": "code",
   "execution_count": 11,
   "metadata": {
    "executionInfo": {
     "elapsed": 32940,
     "status": "ok",
     "timestamp": 1627051395693,
     "user": {
      "displayName": "Thomas Krabichler",
      "photoUrl": "",
      "userId": "11825618390445075503"
     },
     "user_tz": -120
    },
    "id": "dZ4uwgP5M3eR"
   },
   "outputs": [],
   "source": [
    "wealth=Input(shape=(1,))\n",
    "hedge=Input(shape=(1,))\n",
    "price=Input(shape=(1,))\n",
    "inputs=[wealth,hedge,price]\n",
    "outputs=[]\n",
    "depot=Multiply()([hedge,price])\n",
    "bank_account=Subtract()([wealth,depot])\n",
    "for k in range(N):\n",
    "    moneyness=Lambda(lambda x:x/strike)(price)\n",
    "    NN_input=Concatenate()([hedge,moneyness])\n",
    "    hedge_new=layers[k*(depth+1)](NN_input)\n",
    "    for l in range(depth):\n",
    "        hedge_new=layers[k*(depth+1)+l+1](hedge_new)\n",
    "    hedge_delta=Subtract()([hedge_new,hedge])\n",
    "    hedge_delta_abs=Lambda(lambda x:K.abs(x))(hedge_delta)\n",
    "    cost=Multiply()([hedge_delta_abs,price])\n",
    "    cost=Lambda(lambda x:tc*x)(cost)\n",
    "    face_amount=Multiply()([hedge_delta,price])\n",
    "    cost=Add()([cost,face_amount])                  ?????????\n",
    "    bank_account=Subtract()([bank_account,cost])\n",
    "    hedge=hedge_new\n",
    "    rtrn=Input(shape=(1,))\n",
    "    price=Multiply()([price,rtrn])\n",
    "    depot=Multiply()([hedge,price])\n",
    "    bank_account=Lambda(lambda x:x*np.exp(r*dt))(bank_account)\n",
    "    wealth=Add()([depot,bank_account])\n",
    "    inputs=inputs+[rtrn]\n",
    "    outputs=outputs+[hedge_new]\n",
    "hedge_abs=Lambda(lambda x:K.abs(x))(hedge)\n",
    "cost=Multiply()([hedge_abs,price])\n",
    "cost=Lambda(lambda x:tc*x)(cost)\n",
    "wealth=Subtract()([wealth,cost])\n",
    "outputs=[wealth]+outputs\n",
    "outputs=Concatenate()(outputs)             # a list of wealth at different time \n",
    "model=Model(inputs=inputs,outputs=outputs)"
   ]
  },
  {
   "cell_type": "code",
   "execution_count": 12,
   "metadata": {
    "colab": {
     "base_uri": "https://localhost:8080/"
    },
    "executionInfo": {
     "elapsed": 11,
     "status": "ok",
     "timestamp": 1627051395695,
     "user": {
      "displayName": "Thomas Krabichler",
      "photoUrl": "",
      "userId": "11825618390445075503"
     },
     "user_tz": -120
    },
    "id": "oMlj6iv1M3eR",
    "outputId": "02cf6e6a-a856-4019-87ee-625080aea3b7"
   },
   "outputs": [
    {
     "name": "stdout",
     "output_type": "stream",
     "text": [
      "10:38:47\n"
     ]
    }
   ],
   "source": [
    "print(datetime.now().time().strftime(\"%H:%M:%S\"))"
   ]
  },
  {
   "cell_type": "markdown",
   "metadata": {
    "id": "DoimzYryM3eS"
   },
   "source": [
    "## Scenarios\n",
    "\n",
    "### Training Data"
   ]
  },
  {
   "cell_type": "code",
   "execution_count": 13,
   "metadata": {
    "executionInfo": {
     "elapsed": 502,
     "status": "ok",
     "timestamp": 1627051396187,
     "user": {
      "displayName": "Thomas Krabichler",
      "photoUrl": "",
      "userId": "11825618390445075503"
     },
     "user_tz": -120
    },
    "id": "yTRk2LukM3eS"
   },
   "outputs": [],
   "source": [
    "x_train=([w0*np.ones(nScenarios)]+[h0*np.ones(nScenarios)]+[S0*np.ones(nScenarios)]+[np.exp((mu-1/2*sigma**2)*dt+sigma*np.sqrt(dt)*np.random.normal(0,1,nScenarios)) for k in range(N)])\n",
    "S_T_train=x_train[2]\n",
    "for k in range(N):\n",
    "    S_T_train=S_T_train*x_train[k+3]\n",
    "y_train=np.zeros((nScenarios,N+1))\n",
    "y_train[:,0]=w0*np.exp(target*maturity)*np.ones(nScenarios)"
   ]
  },
  {
   "cell_type": "markdown",
   "metadata": {
    "id": "u12ZwsySM3eS"
   },
   "source": [
    "### Validation Data"
   ]
  },
  {
   "cell_type": "code",
   "execution_count": 14,
   "metadata": {
    "executionInfo": {
     "elapsed": 305,
     "status": "ok",
     "timestamp": 1627051396492,
     "user": {
      "displayName": "Thomas Krabichler",
      "photoUrl": "",
      "userId": "11825618390445075503"
     },
     "user_tz": -120
    },
    "id": "ue-RdYrxM3eS"
   },
   "outputs": [],
   "source": [
    "x_test=([w0*np.ones(nTest)]+[h0*np.ones(nTest)]+[S0*np.ones(nTest)]+[np.exp((mu-1/2*sigma**2)*dt+sigma*np.sqrt(dt)*np.random.normal(0,1,nTest)) for k in range(N)])\n",
    "S_T_test=x_test[2]\n",
    "for k in range(N):\n",
    "    S_T_test=S_T_test*x_test[k+3]\n",
    "y_test=np.zeros((nTest,N+1))\n",
    "y_test[:,0]=w0*np.exp(target*maturity)*np.ones(nTest)"
   ]
  },
  {
   "cell_type": "code",
   "execution_count": 15,
   "metadata": {
    "colab": {
     "base_uri": "https://localhost:8080/"
    },
    "executionInfo": {
     "elapsed": 5,
     "status": "ok",
     "timestamp": 1627051396742,
     "user": {
      "displayName": "Thomas Krabichler",
      "photoUrl": "",
      "userId": "11825618390445075503"
     },
     "user_tz": -120
    },
    "id": "i3w855N-M3eS",
    "outputId": "3344ed39-a3a8-44bf-b783-8f719402abd3"
   },
   "outputs": [
    {
     "name": "stdout",
     "output_type": "stream",
     "text": [
      "10:38:47\n"
     ]
    }
   ],
   "source": [
    "print(datetime.now().time().strftime(\"%H:%M:%S\"))"
   ]
  },
  {
   "cell_type": "markdown",
   "metadata": {
    "id": "33E-8dzoM3eS"
   },
   "source": [
    "## Loss Function and Optimiser"
   ]
  },
  {
   "cell_type": "code",
   "execution_count": 16,
   "metadata": {
    "executionInfo": {
     "elapsed": 5,
     "status": "ok",
     "timestamp": 1627051396743,
     "user": {
      "displayName": "Thomas Krabichler",
      "photoUrl": "",
      "userId": "11825618390445075503"
     },
     "user_tz": -120
    },
    "id": "YdiIczQWM3eT"
   },
   "outputs": [],
   "source": [
    "# loss function\n",
    "plan=[1,1.5,2,5]\n",
    "p=plan[3]\n",
    "def custom_loss(y_true,y_pred):\n",
    "    return K.mean(K.pow(K.softplus(y_true[:,0]-y_pred[:,0]),p)+lmbda*K.maximum(y_pred[:,0]-y_true[:,0],0))\n",
    "\n",
    "## soft plus and penalty"
   ]
  },
  {
   "cell_type": "code",
   "execution_count": 17,
   "metadata": {
    "executionInfo": {
     "elapsed": 4,
     "status": "ok",
     "timestamp": 1627051396743,
     "user": {
      "displayName": "Thomas Krabichler",
      "photoUrl": "",
      "userId": "11825618390445075503"
     },
     "user_tz": -120
    },
    "id": "rvpMPUHUM3eT"
   },
   "outputs": [],
   "source": [
    "# config optimiser\n",
    "batch_size=64\n",
    "epochs=500\n",
    "use_adam=True\n",
    "if (use_adam==True):\n",
    "    model.compile(optimizer='adam',loss=custom_loss)\n",
    "else:\n",
    "    lr=0.05\n",
    "    optimiser=optimizers.Adam(learning_rate=lr)\n",
    "    model.compile(optimizer=optimiser,loss=custom_loss)"
   ]
  },
  {
   "cell_type": "code",
   "execution_count": 18,
   "metadata": {
    "colab": {
     "base_uri": "https://localhost:8080/"
    },
    "executionInfo": {
     "elapsed": 4,
     "status": "ok",
     "timestamp": 1627051396743,
     "user": {
      "displayName": "Thomas Krabichler",
      "photoUrl": "",
      "userId": "11825618390445075503"
     },
     "user_tz": -120
    },
    "id": "c0s6hUPdM3eT",
    "outputId": "5585758b-3b33-423a-df41-8bcc010a5891"
   },
   "outputs": [
    {
     "name": "stdout",
     "output_type": "stream",
     "text": [
      "10:38:47\n"
     ]
    }
   ],
   "source": [
    "print(datetime.now().time().strftime(\"%H:%M:%S\"))"
   ]
  },
  {
   "cell_type": "markdown",
   "metadata": {
    "id": "q9vrXnF4M3eT"
   },
   "source": [
    "## Benchmark"
   ]
  },
  {
   "cell_type": "code",
   "execution_count": 19,
   "metadata": {
    "colab": {
     "base_uri": "https://localhost:8080/",
     "height": 362
    },
    "executionInfo": {
     "elapsed": 11486,
     "status": "ok",
     "timestamp": 1627051408227,
     "user": {
      "displayName": "Thomas Krabichler",
      "photoUrl": "",
      "userId": "11825618390445075503"
     },
     "user_tz": -120
    },
    "id": "xevuKg0oM3eT",
    "outputId": "d73ebc3e-bd7f-4f74-a370-366389f92192"
   },
   "outputs": [
    {
     "name": "stderr",
     "output_type": "stream",
     "text": [
      "<ipython-input-19-43ddda90895b>:4: RuntimeWarning: invalid value encountered in log\n",
      "  return (np.log(spot_price/strike)+(rf-1/2*vola**2)*time_to_mat)/(vola*np.sqrt(time_to_mat))\n",
      "<ipython-input-19-43ddda90895b>:17: RuntimeWarning: invalid value encountered in power\n",
      "  output=output-(strike/spot_price)**alpha_p*np.exp(alpha_p*(alpha_p+1)*(vola**2/2-rf)*time_to_mat)*\\\n"
     ]
    },
    {
     "data": {
      "image/png": "[encoded data removed]",
      "text/plain": [
       "<Figure size 432x288 with 1 Axes>"
      ]
     },
     "metadata": {},
     "output_type": "display_data"
    },
    {
     "name": "stdout",
     "output_type": "stream",
     "text": [
      "empirical minimal loss: 4303614.44\n"
     ]
    }
   ],
   "source": [
    "alpha=(mu-r)/sigma**2\n",
    "\n",
    "def d2(spot_price,strike,rf,vola,time_to_mat):\n",
    "    return (np.log(spot_price/strike)+(rf-1/2*vola**2)*time_to_mat)/(vola*np.sqrt(time_to_mat))\n",
    "\n",
    "def efficient_hedge(spot_price,strike,rf,vola,time_to_mat,desired_payoff,p):\n",
    "    if (time_to_mat==0):\n",
    "        if (spot_price>=strike):\n",
    "            aux=1e16\n",
    "        else:\n",
    "            aux=-1e16\n",
    "    else:\n",
    "        aux=d2(spot_price,strike,rf,vola,time_to_mat)\n",
    "    output=norm.cdf(aux)\n",
    "    if (p>1):\n",
    "        alpha_p=alpha/(p-1)\n",
    "        output=output-(strike/spot_price)**alpha_p*np.exp(alpha_p*(alpha_p+1)*(vola**2/2-rf)*time_to_mat)*\\\n",
    "            norm.cdf(aux-alpha_p*vola*np.sqrt(time_to_mat))\n",
    "    output=np.exp(-rf*time_to_mat)*desired_payoff*output\n",
    "    return output\n",
    "\n",
    "vec_efficient_hedge=np.vectorize(efficient_hedge,excluded=['strike','rf','vola','time_to_mat','desired_payoff','p'])\n",
    "\n",
    "def strike_func(L):\n",
    "    return efficient_hedge(S0,L,r,sigma,maturity,w0*np.exp(target*maturity),p)-w0\n",
    "L=root(strike_func,strike,method='lm').x\n",
    "\n",
    "suitable_window_max=max(S_T_train)\n",
    "S_grid=np.linspace(1,suitable_window_max,1000)\n",
    "payoff_grid=vec_efficient_hedge(S_grid,L,r,sigma,0,w0*np.exp(target*maturity),p)\n",
    "\n",
    "plt.plot(S_grid,payoff_grid,color='black')\n",
    "plt.axhline(w0*np.exp(target*maturity),color='red')\n",
    "plt.ylim(0,200)\n",
    "plt.title('Payoff Diagram of Efficient Hedge')\n",
    "plt.xlabel('Performance of Underlying')\n",
    "plt.ylabel('Payoff')\n",
    "plt.savefig(f'{images_dir}/01_analytic_solution.pdf')\n",
    "plt.show()\n",
    "\n",
    "benchmark=np.reshape(vec_efficient_hedge(S_T_train,L,r,sigma,0,w0*np.exp(target*maturity),p),(-1,1))\n",
    "minimal_loss=np.mean(np.power(np.maximum(y_train[:,0]-benchmark,0),p))\n",
    "print('empirical minimal loss: {:.2f}'.format(minimal_loss))"
   ]
  },
  {
   "cell_type": "markdown",
   "metadata": {
    "id": "5ixUEg3MM3eU"
   },
   "source": [
    "## Training"
   ]
  },
  {
   "cell_type": "code",
   "execution_count": 20,
   "metadata": {
    "colab": {
     "base_uri": "https://localhost:8080/",
     "height": 1000
    },
    "executionInfo": {
     "elapsed": 628673,
     "status": "ok",
     "timestamp": 1627061188718,
     "user": {
      "displayName": "Thomas Krabichler",
      "photoUrl": "",
      "userId": "11825618390445075503"
     },
     "user_tz": -120
    },
    "id": "PzO8iddLM3eU",
    "outputId": "36c8df9f-d703-4d1a-8be5-015bab526d75",
    "scrolled": true
   },
   "outputs": [
    {
     "name": "stdout",
     "output_type": "stream",
     "text": [
      "Epoch 1/500\n",
      "WARNING:tensorflow:AutoGraph could not transform <function custom_loss at 0x00000226CE5F7CA0> and will run it as-is.\n",
      "Please report this to the TensorFlow team. When filing the bug, set the verbosity to 10 (on Linux, `export AUTOGRAPH_VERBOSITY=10`) and attach the full output.\n",
      "Cause: module 'gast' has no attribute 'Index'\n",
      "To silence this warning, decorate the function with @tf.autograph.experimental.do_not_convert\n",
      "WARNING: AutoGraph could not transform <function custom_loss at 0x00000226CE5F7CA0> and will run it as-is.\n",
      "Please report this to the TensorFlow team. When filing the bug, set the verbosity to 10 (on Linux, `export AUTOGRAPH_VERBOSITY=10`) and attach the full output.\n",
      "Cause: module 'gast' has no attribute 'Index'\n",
      "To silence this warning, decorate the function with @tf.autograph.experimental.do_not_convert\n",
      "157/157 - 10s - loss: 163259392.0000\n",
      "Epoch 2/500\n",
      "157/157 - 10s - loss: 124423504.0000\n",
      "Epoch 3/500\n",
      "157/157 - 11s - loss: 99582208.0000\n",
      "Epoch 4/500\n",
      "157/157 - 12s - loss: 79171928.0000\n",
      "Epoch 5/500\n",
      "157/157 - 12s - loss: 62745588.0000\n",
      "Epoch 6/500\n",
      "157/157 - 12s - loss: 49960100.0000\n",
      "Epoch 7/500\n",
      "157/157 - 12s - loss: 40214436.0000\n",
      "Epoch 8/500\n",
      "157/157 - 12s - loss: 32814134.0000\n",
      "Epoch 9/500\n",
      "157/157 - 12s - loss: 27233664.0000\n",
      "Epoch 10/500\n",
      "157/157 - 12s - loss: 22975456.0000\n",
      "Epoch 11/500\n",
      "157/157 - 12s - loss: 19710836.0000\n",
      "Epoch 12/500\n",
      "157/157 - 12s - loss: 17171674.0000\n",
      "Epoch 13/500\n",
      "157/157 - 12s - loss: 15167580.0000\n",
      "Epoch 14/500\n",
      "157/157 - 12s - loss: 13568100.0000\n",
      "Epoch 15/500\n",
      "157/157 - 12s - loss: 12270019.0000\n",
      "Epoch 16/500\n",
      "157/157 - 14s - loss: 11207618.0000\n",
      "Epoch 17/500\n",
      "157/157 - 13s - loss: 10327419.0000\n",
      "Epoch 18/500\n",
      "157/157 - 13s - loss: 9586334.0000\n",
      "Epoch 19/500\n",
      "157/157 - 13s - loss: 8959296.0000\n",
      "Epoch 20/500\n",
      "157/157 - 12s - loss: 8423653.0000\n",
      "Epoch 21/500\n",
      "157/157 - 12s - loss: 7963706.0000\n",
      "Epoch 22/500\n",
      "157/157 - 12s - loss: 7568815.5000\n",
      "Epoch 23/500\n",
      "157/157 - 12s - loss: 7226042.0000\n",
      "Epoch 24/500\n",
      "157/157 - 12s - loss: 6926124.5000\n",
      "Epoch 25/500\n",
      "157/157 - 12s - loss: 6664393.5000\n",
      "Epoch 26/500\n",
      "157/157 - 12s - loss: 6434731.5000\n",
      "Epoch 27/500\n",
      "157/157 - 12s - loss: 6231518.0000\n",
      "Epoch 28/500\n",
      "157/157 - 12s - loss: 6053941.0000\n",
      "Epoch 29/500\n",
      "157/157 - 12s - loss: 5895746.0000\n",
      "Epoch 30/500\n",
      "157/157 - 12s - loss: 5757320.0000\n",
      "Epoch 31/500\n",
      "157/157 - 12s - loss: 5634236.5000\n",
      "Epoch 32/500\n",
      "157/157 - 12s - loss: 5525308.5000\n",
      "Epoch 33/500\n",
      "157/157 - 12s - loss: 5429650.0000\n",
      "Epoch 34/500\n",
      "157/157 - 12s - loss: 5344912.0000\n",
      "Epoch 35/500\n",
      "157/157 - 12s - loss: 5270733.0000\n",
      "Epoch 36/500\n",
      "157/157 - 12s - loss: 5204309.0000\n",
      "Epoch 37/500\n",
      "157/157 - 12s - loss: 5146789.5000\n",
      "Epoch 38/500\n",
      "157/157 - 12s - loss: 5096002.0000\n",
      "Epoch 39/500\n",
      "157/157 - 12s - loss: 5051021.5000\n",
      "Epoch 40/500\n",
      "157/157 - 12s - loss: 5012198.0000\n",
      "Epoch 41/500\n",
      "157/157 - 13s - loss: 4978803.5000\n",
      "Epoch 42/500\n",
      "157/157 - 14s - loss: 4949339.5000\n",
      "Epoch 43/500\n",
      "157/157 - 12s - loss: 4924171.5000\n",
      "Epoch 44/500\n",
      "157/157 - 12s - loss: 4902870.5000\n",
      "Epoch 45/500\n",
      "157/157 - 13s - loss: 4884225.0000\n",
      "Epoch 46/500\n",
      "157/157 - 12s - loss: 4868433.0000\n",
      "Epoch 47/500\n",
      "157/157 - 12s - loss: 4855129.5000\n",
      "Epoch 48/500\n",
      "157/157 - 12s - loss: 4844625.5000\n",
      "Epoch 49/500\n",
      "157/157 - 12s - loss: 4835507.5000\n",
      "Epoch 50/500\n",
      "157/157 - 12s - loss: 4827282.5000\n",
      "Epoch 51/500\n",
      "157/157 - 12s - loss: 4821145.5000\n",
      "Epoch 52/500\n",
      "157/157 - 12s - loss: 4816047.0000\n",
      "Epoch 53/500\n",
      "157/157 - 12s - loss: 4811841.0000\n",
      "Epoch 54/500\n",
      "157/157 - 12s - loss: 4809274.0000\n",
      "Epoch 55/500\n",
      "157/157 - 12s - loss: 4806636.0000\n",
      "Epoch 56/500\n",
      "157/157 - 12s - loss: 4804629.0000\n",
      "Epoch 57/500\n",
      "157/157 - 12s - loss: 4802343.5000\n",
      "Epoch 58/500\n",
      "157/157 - 12s - loss: 4801590.5000\n",
      "Epoch 59/500\n",
      "157/157 - 12s - loss: 4800286.5000\n",
      "Epoch 60/500\n",
      "157/157 - 12s - loss: 4800727.5000\n",
      "Epoch 61/500\n",
      "157/157 - 12s - loss: 4799703.5000\n",
      "Epoch 62/500\n",
      "157/157 - 12s - loss: 4798317.0000\n",
      "Epoch 63/500\n",
      "157/157 - 12s - loss: 4798943.0000\n",
      "Epoch 64/500\n",
      "157/157 - 12s - loss: 4799307.0000\n",
      "Epoch 65/500\n",
      "157/157 - 12s - loss: 4798332.5000\n",
      "Epoch 66/500\n",
      "157/157 - 13s - loss: 4797994.0000\n",
      "Epoch 67/500\n",
      "157/157 - 12s - loss: 4798407.5000\n",
      "Epoch 68/500\n",
      "157/157 - 12s - loss: 4797093.0000\n",
      "Epoch 69/500\n",
      "157/157 - 12s - loss: 4797872.0000\n",
      "Epoch 70/500\n",
      "157/157 - 12s - loss: 4797711.0000\n",
      "Epoch 71/500\n",
      "157/157 - 12s - loss: 4797258.0000\n",
      "Epoch 72/500\n",
      "157/157 - 12s - loss: 4797259.0000\n",
      "Epoch 73/500\n",
      "157/157 - 13s - loss: 4795690.0000\n",
      "Epoch 74/500\n",
      "157/157 - 12s - loss: 4796511.0000\n",
      "Epoch 75/500\n",
      "157/157 - 12s - loss: 4795570.0000\n",
      "Epoch 76/500\n",
      "157/157 - 12s - loss: 4795284.5000\n",
      "Epoch 77/500\n",
      "157/157 - 12s - loss: 4795561.0000\n",
      "Epoch 78/500\n",
      "157/157 - 13s - loss: 4794623.0000\n",
      "Epoch 79/500\n",
      "157/157 - 12s - loss: 4794067.0000\n",
      "Epoch 80/500\n",
      "157/157 - 12s - loss: 4793504.0000\n",
      "Epoch 81/500\n",
      "157/157 - 12s - loss: 4793469.5000\n",
      "Epoch 82/500\n",
      "157/157 - 12s - loss: 4793505.0000\n",
      "Epoch 83/500\n",
      "157/157 - 12s - loss: 4792649.0000\n",
      "Epoch 84/500\n",
      "157/157 - 12s - loss: 4792474.5000\n",
      "Epoch 85/500\n",
      "157/157 - 12s - loss: 4791624.5000\n",
      "Epoch 86/500\n",
      "157/157 - 12s - loss: 4792037.5000\n",
      "Epoch 87/500\n",
      "157/157 - 12s - loss: 4790988.0000\n",
      "Epoch 88/500\n",
      "157/157 - 12s - loss: 4788486.0000\n",
      "Epoch 89/500\n",
      "157/157 - 12s - loss: 4789741.5000\n",
      "Epoch 90/500\n",
      "157/157 - 12s - loss: 4790137.0000\n",
      "Epoch 91/500\n",
      "157/157 - 12s - loss: 4788657.5000\n",
      "Epoch 92/500\n",
      "157/157 - 12s - loss: 4788374.5000\n",
      "Epoch 93/500\n",
      "157/157 - 12s - loss: 4787785.5000\n",
      "Epoch 94/500\n",
      "157/157 - 12s - loss: 4787137.5000\n",
      "Epoch 95/500\n",
      "157/157 - 12s - loss: 4785830.5000\n",
      "Epoch 96/500\n",
      "157/157 - 12s - loss: 4786240.0000\n",
      "Epoch 97/500\n",
      "157/157 - 12s - loss: 4785639.5000\n",
      "Epoch 98/500\n",
      "157/157 - 12s - loss: 4785853.0000\n",
      "Epoch 99/500\n",
      "157/157 - 12s - loss: 4783775.5000\n",
      "Epoch 100/500\n",
      "157/157 - 12s - loss: 4782869.0000\n",
      "Epoch 101/500\n",
      "157/157 - 13s - loss: 4783131.0000\n",
      "Epoch 102/500\n",
      "157/157 - 12s - loss: 4783318.0000\n",
      "Epoch 103/500\n",
      "157/157 - 12s - loss: 4782378.5000\n",
      "Epoch 104/500\n",
      "157/157 - 13s - loss: 4782545.5000\n",
      "Epoch 105/500\n",
      "157/157 - 15s - loss: 4781370.0000\n",
      "Epoch 106/500\n",
      "157/157 - 14s - loss: 4781086.0000\n",
      "Epoch 107/500\n",
      "157/157 - 14s - loss: 4780147.5000\n",
      "Epoch 108/500\n",
      "157/157 - 14s - loss: 4778331.5000\n",
      "Epoch 109/500\n",
      "157/157 - 14s - loss: 4779321.5000\n",
      "Epoch 110/500\n",
      "157/157 - 14s - loss: 4779506.5000\n",
      "Epoch 111/500\n",
      "157/157 - 15s - loss: 4778902.0000\n",
      "Epoch 112/500\n",
      "157/157 - 15s - loss: 4778822.0000\n",
      "Epoch 113/500\n",
      "157/157 - 14s - loss: 4777213.0000\n",
      "Epoch 114/500\n",
      "157/157 - 14s - loss: 4776936.0000\n",
      "Epoch 115/500\n",
      "157/157 - 14s - loss: 4776518.5000\n",
      "Epoch 116/500\n",
      "157/157 - 14s - loss: 4775702.0000\n",
      "Epoch 117/500\n",
      "157/157 - 13s - loss: 4774825.0000\n",
      "Epoch 118/500\n",
      "157/157 - 12s - loss: 4773515.0000\n",
      "Epoch 119/500\n",
      "157/157 - 12s - loss: 4774365.0000\n",
      "Epoch 120/500\n",
      "157/157 - 12s - loss: 4773166.0000\n",
      "Epoch 121/500\n",
      "157/157 - 12s - loss: 4773486.5000\n",
      "Epoch 122/500\n",
      "157/157 - 12s - loss: 4772379.5000\n",
      "Epoch 123/500\n",
      "157/157 - 12s - loss: 4771290.5000\n",
      "Epoch 124/500\n",
      "157/157 - 12s - loss: 4770981.0000\n",
      "Epoch 125/500\n",
      "157/157 - 12s - loss: 4771576.0000\n",
      "Epoch 126/500\n",
      "157/157 - 13s - loss: 4771551.0000\n",
      "Epoch 127/500\n",
      "157/157 - 12s - loss: 4771580.5000\n",
      "Epoch 128/500\n",
      "157/157 - 12s - loss: 4770065.5000\n",
      "Epoch 129/500\n",
      "157/157 - 12s - loss: 4770810.5000\n",
      "Epoch 130/500\n",
      "157/157 - 12s - loss: 4769078.5000\n",
      "Epoch 131/500\n",
      "157/157 - 12s - loss: 4768761.5000\n",
      "Epoch 132/500\n",
      "157/157 - 12s - loss: 4768337.5000\n",
      "Epoch 133/500\n",
      "157/157 - 12s - loss: 4768085.0000\n",
      "Epoch 134/500\n",
      "157/157 - 12s - loss: 4767178.5000\n",
      "Epoch 135/500\n",
      "157/157 - 12s - loss: 4766286.5000\n",
      "Epoch 136/500\n",
      "157/157 - 13s - loss: 4765816.5000\n",
      "Epoch 137/500\n",
      "157/157 - 12s - loss: 4765833.5000\n",
      "Epoch 138/500\n",
      "157/157 - 12s - loss: 4765711.5000\n",
      "Epoch 139/500\n",
      "157/157 - 12s - loss: 4764007.0000\n",
      "Epoch 140/500\n",
      "157/157 - 13s - loss: 4764189.5000\n",
      "Epoch 141/500\n",
      "157/157 - 13s - loss: 4763692.0000\n",
      "Epoch 142/500\n",
      "157/157 - 12s - loss: 4762768.0000\n",
      "Epoch 143/500\n",
      "157/157 - 12s - loss: 4762084.0000\n",
      "Epoch 144/500\n",
      "157/157 - 12s - loss: 4762092.5000\n",
      "Epoch 145/500\n",
      "157/157 - 12s - loss: 4762352.5000\n",
      "Epoch 146/500\n",
      "157/157 - 12s - loss: 4761596.5000\n",
      "Epoch 147/500\n",
      "157/157 - 12s - loss: 4760687.0000\n",
      "Epoch 148/500\n",
      "157/157 - 12s - loss: 4759506.0000\n",
      "Epoch 149/500\n",
      "157/157 - 12s - loss: 4759685.5000\n",
      "Epoch 150/500\n",
      "157/157 - 12s - loss: 4759922.0000\n",
      "Epoch 151/500\n",
      "157/157 - 12s - loss: 4757755.5000\n",
      "Epoch 152/500\n",
      "157/157 - 12s - loss: 4757969.5000\n",
      "Epoch 153/500\n"
     ]
    },
    {
     "name": "stdout",
     "output_type": "stream",
     "text": [
      "157/157 - 12s - loss: 4757991.0000\n",
      "Epoch 154/500\n",
      "157/157 - 12s - loss: 4756745.5000\n",
      "Epoch 155/500\n",
      "157/157 - 12s - loss: 4757654.0000\n",
      "Epoch 156/500\n",
      "157/157 - 12s - loss: 4756858.5000\n",
      "Epoch 157/500\n",
      "157/157 - 13s - loss: 4756695.0000\n",
      "Epoch 158/500\n",
      "157/157 - 12s - loss: 4755716.5000\n",
      "Epoch 159/500\n",
      "157/157 - 12s - loss: 4755949.0000\n",
      "Epoch 160/500\n",
      "157/157 - 12s - loss: 4755237.0000\n",
      "Epoch 161/500\n",
      "157/157 - 12s - loss: 4754016.5000\n",
      "Epoch 162/500\n",
      "157/157 - 12s - loss: 4753335.0000\n",
      "Epoch 163/500\n",
      "157/157 - 12s - loss: 4752946.0000\n",
      "Epoch 164/500\n",
      "157/157 - 12s - loss: 4752814.5000\n",
      "Epoch 165/500\n",
      "157/157 - 12s - loss: 4752570.0000\n",
      "Epoch 166/500\n",
      "157/157 - 12s - loss: 4752347.0000\n",
      "Epoch 167/500\n",
      "157/157 - 12s - loss: 4751871.0000\n",
      "Epoch 168/500\n",
      "157/157 - 12s - loss: 4750957.5000\n",
      "Epoch 169/500\n",
      "157/157 - 12s - loss: 4750332.0000\n",
      "Epoch 170/500\n",
      "157/157 - 12s - loss: 4750348.0000\n",
      "Epoch 171/500\n",
      "157/157 - 12s - loss: 4749884.5000\n",
      "Epoch 172/500\n",
      "157/157 - 12s - loss: 4749336.5000\n",
      "Epoch 173/500\n",
      "157/157 - 12s - loss: 4748994.5000\n",
      "Epoch 174/500\n",
      "157/157 - 12s - loss: 4746918.5000\n",
      "Epoch 175/500\n",
      "157/157 - 12s - loss: 4747037.5000\n",
      "Epoch 176/500\n",
      "157/157 - 12s - loss: 4746857.5000\n",
      "Epoch 177/500\n",
      "157/157 - 12s - loss: 4746380.0000\n",
      "Epoch 178/500\n",
      "157/157 - 12s - loss: 4745623.0000\n",
      "Epoch 179/500\n",
      "157/157 - 12s - loss: 4745575.0000\n",
      "Epoch 180/500\n",
      "157/157 - 12s - loss: 4745917.5000\n",
      "Epoch 181/500\n",
      "157/157 - 12s - loss: 4744326.0000\n",
      "Epoch 182/500\n",
      "157/157 - 12s - loss: 4744248.0000\n",
      "Epoch 183/500\n",
      "157/157 - 12s - loss: 4745083.5000\n",
      "Epoch 184/500\n",
      "157/157 - 12s - loss: 4743402.5000\n",
      "Epoch 185/500\n",
      "157/157 - 12s - loss: 4743320.0000\n",
      "Epoch 186/500\n",
      "157/157 - 12s - loss: 4743743.0000\n",
      "Epoch 187/500\n",
      "157/157 - 12s - loss: 4742086.0000\n",
      "Epoch 188/500\n",
      "157/157 - 12s - loss: 4740467.5000\n",
      "Epoch 189/500\n",
      "157/157 - 12s - loss: 4741561.0000\n",
      "Epoch 190/500\n",
      "157/157 - 12s - loss: 4741897.0000\n",
      "Epoch 191/500\n",
      "157/157 - 12s - loss: 4739494.0000\n",
      "Epoch 192/500\n",
      "157/157 - 12s - loss: 4740096.0000\n",
      "Epoch 193/500\n",
      "157/157 - 12s - loss: 4739694.0000\n",
      "Epoch 194/500\n",
      "157/157 - 12s - loss: 4740183.0000\n",
      "Epoch 195/500\n",
      "157/157 - 12s - loss: 4738459.5000\n",
      "Epoch 196/500\n",
      "157/157 - 13s - loss: 4738205.0000\n",
      "Epoch 197/500\n",
      "157/157 - 13s - loss: 4738060.5000\n",
      "Epoch 198/500\n",
      "157/157 - 12s - loss: 4737670.5000\n",
      "Epoch 199/500\n",
      "157/157 - 12s - loss: 4737401.0000\n",
      "Epoch 200/500\n",
      "157/157 - 12s - loss: 4736669.5000\n",
      "Epoch 201/500\n",
      "157/157 - 12s - loss: 4736243.5000\n",
      "Epoch 202/500\n",
      "157/157 - 12s - loss: 4735580.5000\n",
      "Epoch 203/500\n",
      "157/157 - 12s - loss: 4735018.0000\n",
      "Epoch 204/500\n",
      "157/157 - 12s - loss: 4734680.0000\n",
      "Epoch 205/500\n",
      "157/157 - 14s - loss: 4734744.0000\n",
      "Epoch 206/500\n",
      "157/157 - 15s - loss: 4734565.0000\n",
      "Epoch 207/500\n",
      "157/157 - 15s - loss: 4734163.5000\n",
      "Epoch 208/500\n",
      "157/157 - 13s - loss: 4731679.5000\n",
      "Epoch 209/500\n",
      "157/157 - 14s - loss: 4731813.0000\n",
      "Epoch 210/500\n",
      "157/157 - 13s - loss: 4731845.5000\n",
      "Epoch 211/500\n",
      "157/157 - 14s - loss: 4730961.5000\n",
      "Epoch 212/500\n",
      "157/157 - 16s - loss: 4731274.0000\n",
      "Epoch 213/500\n",
      "157/157 - 16s - loss: 4730381.5000\n",
      "Epoch 214/500\n",
      "157/157 - 16s - loss: 4730038.5000\n",
      "Epoch 215/500\n",
      "157/157 - 13s - loss: 4728844.0000\n",
      "Epoch 216/500\n",
      "157/157 - 14s - loss: 4729157.0000\n",
      "Epoch 217/500\n",
      "157/157 - 14s - loss: 4728584.5000\n",
      "Epoch 218/500\n",
      "157/157 - 14s - loss: 4727970.5000\n",
      "Epoch 219/500\n",
      "157/157 - 14s - loss: 4728509.0000\n",
      "Epoch 220/500\n",
      "157/157 - 14s - loss: 4727080.5000\n",
      "Epoch 221/500\n",
      "157/157 - 15s - loss: 4726914.0000\n",
      "Epoch 222/500\n",
      "157/157 - 17s - loss: 4726290.0000\n",
      "Epoch 223/500\n",
      "157/157 - 14s - loss: 4724987.0000\n",
      "Epoch 224/500\n",
      "157/157 - 13s - loss: 4726279.0000\n",
      "Epoch 225/500\n",
      "157/157 - 19s - loss: 4725177.0000\n",
      "Epoch 226/500\n",
      "157/157 - 21s - loss: 4725380.5000\n",
      "Epoch 227/500\n",
      "157/157 - 30s - loss: 4723803.5000\n",
      "Epoch 228/500\n",
      "157/157 - 31s - loss: 4723052.0000\n",
      "Epoch 229/500\n",
      "157/157 - 32s - loss: 4723480.5000\n",
      "Epoch 230/500\n",
      "157/157 - 31s - loss: 4723047.5000\n",
      "Epoch 231/500\n",
      "157/157 - 28s - loss: 4722098.0000\n",
      "Epoch 232/500\n",
      "157/157 - 31s - loss: 4723351.0000\n",
      "Epoch 233/500\n",
      "157/157 - 26s - loss: 4720590.0000\n",
      "Epoch 234/500\n",
      "157/157 - 27s - loss: 4722280.5000\n",
      "Epoch 235/500\n",
      "157/157 - 14s - loss: 4720245.5000\n",
      "Epoch 236/500\n",
      "157/157 - 13s - loss: 4720380.0000\n",
      "Epoch 237/500\n",
      "157/157 - 13s - loss: 4720402.5000\n",
      "Epoch 238/500\n",
      "157/157 - 13s - loss: 4719947.5000\n",
      "Epoch 239/500\n",
      "157/157 - 13s - loss: 4718692.5000\n",
      "Epoch 240/500\n",
      "157/157 - 13s - loss: 4718289.0000\n",
      "Epoch 241/500\n",
      "157/157 - 14s - loss: 4719583.0000\n",
      "Epoch 242/500\n",
      "157/157 - 15s - loss: 4717441.5000\n",
      "Epoch 243/500\n",
      "157/157 - 14s - loss: 4717908.5000\n",
      "Epoch 244/500\n",
      "157/157 - 15s - loss: 4717340.0000\n",
      "Epoch 245/500\n",
      "157/157 - 14s - loss: 4717466.5000\n",
      "Epoch 246/500\n",
      "157/157 - 15s - loss: 4715992.5000\n",
      "Epoch 247/500\n",
      "157/157 - 14s - loss: 4714610.5000\n",
      "Epoch 248/500\n",
      "157/157 - 13s - loss: 4715629.5000\n",
      "Epoch 249/500\n",
      "157/157 - 14s - loss: 4715020.0000\n",
      "Epoch 250/500\n",
      "157/157 - 13s - loss: 4714563.0000\n",
      "Epoch 251/500\n",
      "157/157 - 13s - loss: 4713614.0000\n",
      "Epoch 252/500\n",
      "157/157 - 12s - loss: 4714951.0000\n",
      "Epoch 253/500\n",
      "157/157 - 12s - loss: 4712169.0000\n",
      "Epoch 254/500\n",
      "157/157 - 12s - loss: 4712148.0000\n",
      "Epoch 255/500\n",
      "157/157 - 12s - loss: 4711497.0000\n",
      "Epoch 256/500\n",
      "157/157 - 12s - loss: 4711982.5000\n",
      "Epoch 257/500\n",
      "157/157 - 12s - loss: 4710855.0000\n",
      "Epoch 258/500\n",
      "157/157 - 12s - loss: 4710816.5000\n",
      "Epoch 259/500\n",
      "157/157 - 12s - loss: 4710716.5000\n",
      "Epoch 260/500\n",
      "157/157 - 12s - loss: 4709873.5000\n",
      "Epoch 261/500\n",
      "157/157 - 12s - loss: 4709387.5000\n",
      "Epoch 262/500\n",
      "157/157 - 12s - loss: 4708819.0000\n",
      "Epoch 263/500\n",
      "157/157 - 12s - loss: 4708398.5000\n",
      "Epoch 264/500\n",
      "157/157 - 12s - loss: 4707345.5000\n",
      "Epoch 265/500\n",
      "157/157 - 12s - loss: 4708570.5000\n",
      "Epoch 266/500\n",
      "157/157 - 12s - loss: 4707068.5000\n",
      "Epoch 267/500\n",
      "157/157 - 12s - loss: 4707407.5000\n",
      "Epoch 268/500\n",
      "157/157 - 12s - loss: 4704595.0000\n",
      "Epoch 269/500\n",
      "157/157 - 12s - loss: 4707215.0000\n",
      "Epoch 270/500\n",
      "157/157 - 12s - loss: 4705370.5000\n",
      "Epoch 271/500\n",
      "157/157 - 12s - loss: 4704446.5000\n",
      "Epoch 272/500\n",
      "157/157 - 12s - loss: 4704736.5000\n",
      "Epoch 273/500\n",
      "157/157 - 12s - loss: 4704238.5000\n",
      "Epoch 274/500\n",
      "157/157 - 12s - loss: 4702182.5000\n",
      "Epoch 275/500\n",
      "157/157 - 12s - loss: 4704276.5000\n",
      "Epoch 276/500\n",
      "157/157 - 12s - loss: 4701950.5000\n",
      "Epoch 277/500\n",
      "157/157 - 12s - loss: 4703519.5000\n",
      "Epoch 278/500\n",
      "157/157 - 12s - loss: 4702741.5000\n",
      "Epoch 279/500\n",
      "157/157 - 12s - loss: 4703006.0000\n",
      "Epoch 280/500\n",
      "157/157 - 12s - loss: 4701887.0000\n",
      "Epoch 281/500\n",
      "157/157 - 12s - loss: 4700865.5000\n",
      "Epoch 282/500\n",
      "157/157 - 12s - loss: 4700757.0000\n",
      "Epoch 283/500\n",
      "157/157 - 12s - loss: 4701250.5000\n",
      "Epoch 284/500\n",
      "157/157 - 12s - loss: 4699676.5000\n",
      "Epoch 285/500\n",
      "157/157 - 12s - loss: 4698738.5000\n",
      "Epoch 286/500\n",
      "157/157 - 12s - loss: 4698943.0000\n",
      "Epoch 287/500\n",
      "157/157 - 12s - loss: 4697609.0000\n",
      "Epoch 288/500\n",
      "157/157 - 12s - loss: 4698459.0000\n",
      "Epoch 289/500\n",
      "157/157 - 12s - loss: 4697957.5000\n",
      "Epoch 290/500\n",
      "157/157 - 12s - loss: 4697943.0000\n",
      "Epoch 291/500\n",
      "157/157 - 12s - loss: 4696344.5000\n",
      "Epoch 292/500\n",
      "157/157 - 12s - loss: 4695912.5000\n",
      "Epoch 293/500\n",
      "157/157 - 12s - loss: 4696497.0000\n",
      "Epoch 294/500\n",
      "157/157 - 12s - loss: 4696293.0000\n",
      "Epoch 295/500\n",
      "157/157 - 12s - loss: 4694968.5000\n",
      "Epoch 296/500\n",
      "157/157 - 12s - loss: 4693510.5000\n",
      "Epoch 297/500\n",
      "157/157 - 12s - loss: 4693260.0000\n",
      "Epoch 298/500\n",
      "157/157 - 12s - loss: 4693053.0000\n",
      "Epoch 299/500\n",
      "157/157 - 12s - loss: 4693344.5000\n",
      "Epoch 300/500\n",
      "157/157 - 12s - loss: 4692875.0000\n",
      "Epoch 301/500\n",
      "157/157 - 12s - loss: 4692958.0000\n",
      "Epoch 302/500\n",
      "157/157 - 12s - loss: 4692066.5000\n",
      "Epoch 303/500\n",
      "157/157 - 12s - loss: 4690907.5000\n",
      "Epoch 304/500\n",
      "157/157 - 12s - loss: 4690968.5000\n",
      "Epoch 305/500\n",
      "157/157 - 12s - loss: 4690868.0000\n",
      "Epoch 306/500\n",
      "157/157 - 12s - loss: 4690646.5000\n",
      "Epoch 307/500\n",
      "157/157 - 12s - loss: 4690666.0000\n",
      "Epoch 308/500\n",
      "157/157 - 12s - loss: 4689486.0000\n",
      "Epoch 309/500\n",
      "157/157 - 12s - loss: 4688163.0000\n",
      "Epoch 310/500\n",
      "157/157 - 12s - loss: 4688719.5000\n",
      "Epoch 311/500\n",
      "157/157 - 12s - loss: 4688568.5000\n",
      "Epoch 312/500\n",
      "157/157 - 12s - loss: 4688931.0000\n",
      "Epoch 313/500\n",
      "157/157 - 12s - loss: 4687902.5000\n",
      "Epoch 314/500\n",
      "157/157 - 12s - loss: 4686756.0000\n",
      "Epoch 315/500\n",
      "157/157 - 12s - loss: 4686933.0000\n",
      "Epoch 316/500\n",
      "157/157 - 12s - loss: 4686237.5000\n",
      "Epoch 317/500\n",
      "157/157 - 12s - loss: 4685217.0000\n",
      "Epoch 318/500\n",
      "157/157 - 12s - loss: 4685447.5000\n",
      "Epoch 319/500\n",
      "157/157 - 12s - loss: 4684787.0000\n",
      "Epoch 320/500\n",
      "157/157 - 12s - loss: 4686207.5000\n"
     ]
    },
    {
     "name": "stdout",
     "output_type": "stream",
     "text": [
      "Epoch 321/500\n",
      "157/157 - 12s - loss: 4684127.0000\n",
      "Epoch 322/500\n",
      "157/157 - 12s - loss: 4685083.0000\n",
      "Epoch 323/500\n",
      "157/157 - 12s - loss: 4684280.0000\n",
      "Epoch 324/500\n",
      "157/157 - 12s - loss: 4682995.5000\n",
      "Epoch 325/500\n",
      "157/157 - 12s - loss: 4682207.0000\n",
      "Epoch 326/500\n",
      "157/157 - 12s - loss: 4682647.0000\n",
      "Epoch 327/500\n",
      "157/157 - 12s - loss: 4681304.0000\n",
      "Epoch 328/500\n",
      "157/157 - 12s - loss: 4682168.5000\n",
      "Epoch 329/500\n",
      "157/157 - 12s - loss: 4681371.0000\n",
      "Epoch 330/500\n",
      "157/157 - 12s - loss: 4680361.5000\n",
      "Epoch 331/500\n",
      "157/157 - 12s - loss: 4682053.5000\n",
      "Epoch 332/500\n",
      "157/157 - 12s - loss: 4680563.5000\n",
      "Epoch 333/500\n",
      "157/157 - 12s - loss: 4679755.0000\n",
      "Epoch 334/500\n",
      "157/157 - 12s - loss: 4680098.0000\n",
      "Epoch 335/500\n",
      "157/157 - 12s - loss: 4679065.5000\n",
      "Epoch 336/500\n",
      "157/157 - 12s - loss: 4678095.5000\n",
      "Epoch 337/500\n",
      "157/157 - 12s - loss: 4678371.5000\n",
      "Epoch 338/500\n",
      "157/157 - 12s - loss: 4678254.5000\n",
      "Epoch 339/500\n",
      "157/157 - 12s - loss: 4678694.5000\n",
      "Epoch 340/500\n",
      "157/157 - 12s - loss: 4675984.0000\n",
      "Epoch 341/500\n",
      "157/157 - 12s - loss: 4677358.5000\n",
      "Epoch 342/500\n",
      "157/157 - 12s - loss: 4676219.5000\n",
      "Epoch 343/500\n",
      "157/157 - 12s - loss: 4675954.5000\n",
      "Epoch 344/500\n",
      "157/157 - 12s - loss: 4676472.0000\n",
      "Epoch 345/500\n",
      "157/157 - 12s - loss: 4676233.0000\n",
      "Epoch 346/500\n",
      "157/157 - 12s - loss: 4674836.5000\n",
      "Epoch 347/500\n",
      "157/157 - 12s - loss: 4673632.0000\n",
      "Epoch 348/500\n",
      "157/157 - 12s - loss: 4673696.0000\n",
      "Epoch 349/500\n",
      "157/157 - 12s - loss: 4673630.0000\n",
      "Epoch 350/500\n",
      "157/157 - 12s - loss: 4674355.0000\n",
      "Epoch 351/500\n",
      "157/157 - 12s - loss: 4672936.5000\n",
      "Epoch 352/500\n",
      "157/157 - 12s - loss: 4672392.0000\n",
      "Epoch 353/500\n",
      "157/157 - 12s - loss: 4672355.0000\n",
      "Epoch 354/500\n",
      "157/157 - 12s - loss: 4671773.5000\n",
      "Epoch 355/500\n",
      "157/157 - 12s - loss: 4673543.5000\n",
      "Epoch 356/500\n",
      "157/157 - 12s - loss: 4672284.5000\n",
      "Epoch 357/500\n",
      "157/157 - 12s - loss: 4670974.0000\n",
      "Epoch 358/500\n",
      "157/157 - 12s - loss: 4670761.0000\n",
      "Epoch 359/500\n",
      "157/157 - 12s - loss: 4670735.5000\n",
      "Epoch 360/500\n",
      "157/157 - 12s - loss: 4670294.5000\n",
      "Epoch 361/500\n",
      "157/157 - 12s - loss: 4670801.5000\n",
      "Epoch 362/500\n",
      "157/157 - 12s - loss: 4670835.0000\n",
      "Epoch 363/500\n",
      "157/157 - 12s - loss: 4669098.5000\n",
      "Epoch 364/500\n",
      "157/157 - 12s - loss: 4668030.0000\n",
      "Epoch 365/500\n",
      "157/157 - 12s - loss: 4669208.0000\n",
      "Epoch 366/500\n",
      "157/157 - 12s - loss: 4669247.0000\n",
      "Epoch 367/500\n",
      "157/157 - 12s - loss: 4667149.0000\n",
      "Epoch 368/500\n",
      "157/157 - 12s - loss: 4667541.5000\n",
      "Epoch 369/500\n",
      "157/157 - 12s - loss: 4667598.0000\n",
      "Epoch 370/500\n",
      "157/157 - 12s - loss: 4667307.5000\n",
      "Epoch 371/500\n",
      "157/157 - 12s - loss: 4665787.5000\n",
      "Epoch 372/500\n",
      "157/157 - 12s - loss: 4667689.0000\n",
      "Epoch 373/500\n",
      "157/157 - 12s - loss: 4665056.0000\n",
      "Epoch 374/500\n",
      "157/157 - 12s - loss: 4665135.0000\n",
      "Epoch 375/500\n",
      "157/157 - 12s - loss: 4664907.5000\n",
      "Epoch 376/500\n",
      "157/157 - 12s - loss: 4663805.0000\n",
      "Epoch 377/500\n",
      "157/157 - 12s - loss: 4665078.0000\n",
      "Epoch 378/500\n",
      "157/157 - 12s - loss: 4664503.0000\n",
      "Epoch 379/500\n",
      "157/157 - 12s - loss: 4663725.5000\n",
      "Epoch 380/500\n",
      "157/157 - 12s - loss: 4664453.0000\n",
      "Epoch 381/500\n",
      "157/157 - 12s - loss: 4663711.0000\n",
      "Epoch 382/500\n",
      "157/157 - 12s - loss: 4662977.5000\n",
      "Epoch 383/500\n",
      "157/157 - 12s - loss: 4663264.0000\n",
      "Epoch 384/500\n",
      "157/157 - 12s - loss: 4661932.0000\n",
      "Epoch 385/500\n",
      "157/157 - 12s - loss: 4661560.5000\n",
      "Epoch 386/500\n",
      "157/157 - 12s - loss: 4661104.5000\n",
      "Epoch 387/500\n",
      "157/157 - 12s - loss: 4661604.5000\n",
      "Epoch 388/500\n",
      "157/157 - 12s - loss: 4661729.5000\n",
      "Epoch 389/500\n",
      "157/157 - 12s - loss: 4660136.0000\n",
      "Epoch 390/500\n",
      "157/157 - 12s - loss: 4659857.5000\n",
      "Epoch 391/500\n",
      "157/157 - 12s - loss: 4659511.5000\n",
      "Epoch 392/500\n",
      "157/157 - 12s - loss: 4660050.5000\n",
      "Epoch 393/500\n",
      "157/157 - 12s - loss: 4660218.5000\n",
      "Epoch 394/500\n",
      "157/157 - 12s - loss: 4659671.5000\n",
      "Epoch 395/500\n",
      "157/157 - 12s - loss: 4658118.0000\n",
      "Epoch 396/500\n",
      "157/157 - 12s - loss: 4659021.5000\n",
      "Epoch 397/500\n",
      "157/157 - 12s - loss: 4658659.5000\n",
      "Epoch 398/500\n",
      "157/157 - 12s - loss: 4657149.0000\n",
      "Epoch 399/500\n",
      "157/157 - 12s - loss: 4658613.5000\n",
      "Epoch 400/500\n",
      "157/157 - 12s - loss: 4657088.5000\n",
      "Epoch 401/500\n",
      "157/157 - 12s - loss: 4656942.0000\n",
      "Epoch 402/500\n",
      "157/157 - 12s - loss: 4656095.0000\n",
      "Epoch 403/500\n",
      "157/157 - 12s - loss: 4655784.0000\n",
      "Epoch 404/500\n",
      "157/157 - 12s - loss: 4656402.0000\n",
      "Epoch 405/500\n",
      "157/157 - 12s - loss: 4655200.5000\n",
      "Epoch 406/500\n",
      "157/157 - 12s - loss: 4654738.0000\n",
      "Epoch 407/500\n",
      "157/157 - 12s - loss: 4656153.5000\n",
      "Epoch 408/500\n",
      "157/157 - 12s - loss: 4655307.0000\n",
      "Epoch 409/500\n",
      "157/157 - 12s - loss: 4654589.5000\n",
      "Epoch 410/500\n",
      "157/157 - 12s - loss: 4654283.0000\n",
      "Epoch 411/500\n",
      "157/157 - 12s - loss: 4653340.5000\n",
      "Epoch 412/500\n",
      "157/157 - 12s - loss: 4653965.5000\n",
      "Epoch 413/500\n",
      "157/157 - 12s - loss: 4653851.5000\n",
      "Epoch 414/500\n",
      "157/157 - 12s - loss: 4653345.0000\n",
      "Epoch 415/500\n",
      "157/157 - 12s - loss: 4653433.0000\n",
      "Epoch 416/500\n",
      "157/157 - 12s - loss: 4652989.0000\n",
      "Epoch 417/500\n",
      "157/157 - 12s - loss: 4653285.0000\n",
      "Epoch 418/500\n",
      "157/157 - 12s - loss: 4651498.5000\n",
      "Epoch 419/500\n",
      "157/157 - 12s - loss: 4652139.0000\n",
      "Epoch 420/500\n",
      "157/157 - 12s - loss: 4650107.5000\n",
      "Epoch 421/500\n",
      "157/157 - 13s - loss: 4650816.0000\n",
      "Epoch 422/500\n",
      "157/157 - 13s - loss: 4651745.5000\n",
      "Epoch 423/500\n",
      "157/157 - 12s - loss: 4649909.0000\n",
      "Epoch 424/500\n",
      "157/157 - 12s - loss: 4649869.5000\n",
      "Epoch 425/500\n",
      "157/157 - 12s - loss: 4650198.0000\n",
      "Epoch 426/500\n",
      "157/157 - 12s - loss: 4649545.5000\n",
      "Epoch 427/500\n",
      "157/157 - 12s - loss: 4651152.5000\n",
      "Epoch 428/500\n",
      "157/157 - 12s - loss: 4648696.0000\n",
      "Epoch 429/500\n",
      "157/157 - 12s - loss: 4649074.0000\n",
      "Epoch 430/500\n",
      "157/157 - 12s - loss: 4649962.5000\n",
      "Epoch 431/500\n",
      "157/157 - 12s - loss: 4649193.0000\n",
      "Epoch 432/500\n",
      "157/157 - 12s - loss: 4648860.5000\n",
      "Epoch 433/500\n",
      "157/157 - 12s - loss: 4647600.5000\n",
      "Epoch 434/500\n",
      "157/157 - 12s - loss: 4647453.5000\n",
      "Epoch 435/500\n",
      "157/157 - 12s - loss: 4647151.0000\n",
      "Epoch 436/500\n",
      "157/157 - 12s - loss: 4648118.5000\n",
      "Epoch 437/500\n",
      "157/157 - 12s - loss: 4646231.0000\n",
      "Epoch 438/500\n",
      "157/157 - 12s - loss: 4646910.5000\n",
      "Epoch 439/500\n",
      "157/157 - 12s - loss: 4645622.0000\n",
      "Epoch 440/500\n",
      "157/157 - 12s - loss: 4645164.0000\n",
      "Epoch 441/500\n",
      "157/157 - 12s - loss: 4645490.5000\n",
      "Epoch 442/500\n",
      "157/157 - 12s - loss: 4646705.5000\n",
      "Epoch 443/500\n",
      "157/157 - 12s - loss: 4646656.0000\n",
      "Epoch 444/500\n",
      "157/157 - 12s - loss: 4645221.0000\n",
      "Epoch 445/500\n",
      "157/157 - 12s - loss: 4644844.5000\n",
      "Epoch 446/500\n",
      "157/157 - 12s - loss: 4645119.5000\n",
      "Epoch 447/500\n",
      "157/157 - 12s - loss: 4644092.5000\n",
      "Epoch 448/500\n",
      "157/157 - 12s - loss: 4642812.5000\n",
      "Epoch 449/500\n",
      "157/157 - 12s - loss: 4644144.5000\n",
      "Epoch 450/500\n",
      "157/157 - 12s - loss: 4644412.0000\n",
      "Epoch 451/500\n",
      "157/157 - 12s - loss: 4643670.5000\n",
      "Epoch 452/500\n",
      "157/157 - 12s - loss: 4643091.5000\n",
      "Epoch 453/500\n",
      "157/157 - 12s - loss: 4643663.0000\n",
      "Epoch 454/500\n",
      "157/157 - 12s - loss: 4642714.0000\n",
      "Epoch 455/500\n",
      "157/157 - 12s - loss: 4644587.5000\n",
      "Epoch 456/500\n",
      "157/157 - 12s - loss: 4642425.5000\n",
      "Epoch 457/500\n",
      "157/157 - 12s - loss: 4643095.0000\n",
      "Epoch 458/500\n",
      "157/157 - 12s - loss: 4643491.5000\n",
      "Epoch 459/500\n",
      "157/157 - 12s - loss: 4641714.0000\n",
      "Epoch 460/500\n",
      "157/157 - 12s - loss: 4641385.5000\n",
      "Epoch 461/500\n",
      "157/157 - 12s - loss: 4642434.5000\n",
      "Epoch 462/500\n",
      "157/157 - 12s - loss: 4640274.5000\n",
      "Epoch 463/500\n",
      "157/157 - 12s - loss: 4639785.5000\n",
      "Epoch 464/500\n",
      "157/157 - 12s - loss: 4640160.0000\n",
      "Epoch 465/500\n",
      "157/157 - 12s - loss: 4641390.0000\n",
      "Epoch 466/500\n",
      "157/157 - 12s - loss: 4639069.0000\n",
      "Epoch 467/500\n",
      "157/157 - 12s - loss: 4640664.5000\n",
      "Epoch 468/500\n",
      "157/157 - 12s - loss: 4639996.0000\n",
      "Epoch 469/500\n",
      "157/157 - 12s - loss: 4638365.0000\n",
      "Epoch 470/500\n",
      "157/157 - 12s - loss: 4640112.5000\n",
      "Epoch 471/500\n",
      "157/157 - 12s - loss: 4638442.5000\n",
      "Epoch 472/500\n",
      "157/157 - 12s - loss: 4639113.0000\n",
      "Epoch 473/500\n",
      "157/157 - 12s - loss: 4638105.0000\n",
      "Epoch 474/500\n",
      "157/157 - 12s - loss: 4637579.5000\n",
      "Epoch 475/500\n",
      "157/157 - 12s - loss: 4636396.0000\n",
      "Epoch 476/500\n",
      "157/157 - 12s - loss: 4638147.5000\n",
      "Epoch 477/500\n",
      "157/157 - 12s - loss: 4638120.5000\n",
      "Epoch 478/500\n",
      "157/157 - 12s - loss: 4636691.5000\n",
      "Epoch 479/500\n",
      "157/157 - 12s - loss: 4637407.0000\n",
      "Epoch 480/500\n",
      "157/157 - 12s - loss: 4636430.0000\n",
      "Epoch 481/500\n",
      "157/157 - 12s - loss: 4637708.5000\n",
      "Epoch 482/500\n",
      "157/157 - 12s - loss: 4637672.0000\n",
      "Epoch 483/500\n",
      "157/157 - 12s - loss: 4635985.0000\n",
      "Epoch 484/500\n",
      "157/157 - 12s - loss: 4637246.5000\n",
      "Epoch 485/500\n",
      "157/157 - 12s - loss: 4635817.5000\n",
      "Epoch 486/500\n",
      "157/157 - 12s - loss: 4636551.0000\n",
      "Epoch 487/500\n",
      "157/157 - 12s - loss: 4635570.5000\n",
      "Epoch 488/500\n"
     ]
    },
    {
     "name": "stdout",
     "output_type": "stream",
     "text": [
      "157/157 - 12s - loss: 4635161.0000\n",
      "Epoch 489/500\n",
      "157/157 - 12s - loss: 4635200.5000\n",
      "Epoch 490/500\n",
      "157/157 - 12s - loss: 4634160.5000\n",
      "Epoch 491/500\n",
      "157/157 - 12s - loss: 4634389.0000\n",
      "Epoch 492/500\n",
      "157/157 - 12s - loss: 4634448.0000\n",
      "Epoch 493/500\n",
      "157/157 - 12s - loss: 4634904.5000\n",
      "Epoch 494/500\n",
      "157/157 - 12s - loss: 4634292.0000\n",
      "Epoch 495/500\n",
      "157/157 - 12s - loss: 4633112.5000\n",
      "Epoch 496/500\n",
      "157/157 - 12s - loss: 4633441.5000\n",
      "Epoch 497/500\n",
      "157/157 - 12s - loss: 4633317.0000\n",
      "Epoch 498/500\n",
      "157/157 - 12s - loss: 4633793.5000\n",
      "Epoch 499/500\n",
      "157/157 - 12s - loss: 4632679.0000\n",
      "Epoch 500/500\n",
      "157/157 - 12s - loss: 4632559.0000\n"
     ]
    },
    {
     "data": {
      "image/png": "[encoded data removed]",
      "text/plain": [
       "<Figure size 432x288 with 1 Axes>"
      ]
     },
     "metadata": {},
     "output_type": "display_data"
    }
   ],
   "source": [
    "# training\n",
    "\n",
    "#plt.savefig(f'{images_dir}/histogram_'+str(p)+'_'+str(tc)+'.pdf')\n",
    "plt.show()\n",
    "for i in range(1):\n",
    "    model.fit(x=x_train,y=y_train,batch_size=batch_size,epochs=epochs,verbose=2)\n",
    "plt.plot(model.history.history['loss'])\n",
    "plt.title('Learning Process')\n",
    "plt.xlabel('Epochs')\n",
    "plt.ylabel('Loss')\n",
    "plt.yscale('log')\n",
    "plt.savefig(f'{images_dir}/02_loss_over_training.pdf')\n",
    "plt.show()"
   ]
  },
  {
   "cell_type": "markdown",
   "metadata": {
    "id": "2DvRfCVuM3eV"
   },
   "source": [
    "## Validation"
   ]
  },
  {
   "cell_type": "code",
   "execution_count": 21,
   "metadata": {
    "executionInfo": {
     "elapsed": 48416,
     "status": "ok",
     "timestamp": 1627061237133,
     "user": {
      "displayName": "Thomas Krabichler",
      "photoUrl": "",
      "userId": "11825618390445075503"
     },
     "user_tz": -120
    },
    "id": "jr5GVb7-M3eV"
   },
   "outputs": [],
   "source": [
    "performance_train=model.predict(x_train)\n",
    "performance_test=model.predict(x_test)"
   ]
  },
  {
   "cell_type": "code",
   "execution_count": 22,
   "metadata": {
    "colab": {
     "base_uri": "https://localhost:8080/",
     "height": 1000
    },
    "executionInfo": {
     "elapsed": 24582,
     "status": "ok",
     "timestamp": 1627061261716,
     "user": {
      "displayName": "Thomas Krabichler",
      "photoUrl": "",
      "userId": "11825618390445075503"
     },
     "user_tz": -120
    },
    "id": "QljGuKGFM3eV",
    "outputId": "79d8a132-5ca7-4189-acc6-0ae4bc7827c1",
    "scrolled": true
   },
   "outputs": [
    {
     "data": {
      "image/png": "[encoded data removed]",
      "text/plain": [
       "<Figure size 432x288 with 1 Axes>"
      ]
     },
     "metadata": {},
     "output_type": "display_data"
    },
    {
     "data": {
      "image/png": "[encoded data removed]",
      "text/plain": [
       "<Figure size 432x288 with 1 Axes>"
      ]
     },
     "metadata": {},
     "output_type": "display_data"
    },
    {
     "data": {
      "image/png": "[encoded data removed]",
      "text/plain": [
       "<Figure size 432x288 with 1 Axes>"
      ]
     },
     "metadata": {},
     "output_type": "display_data"
    },
    {
     "data": {
      "image/png": "[encoded data removed]",
      "text/plain": [
       "<Figure size 432x288 with 1 Axes>"
      ]
     },
     "metadata": {},
     "output_type": "display_data"
    }
   ],
   "source": [
    "plt.hist(model.predict(x_train)[:,0],density=True,bins=100,color='lightgray',edgecolor='black')\n",
    "plt.axvline(w0*np.exp(target*maturity),color='black',linewidth=3)\n",
    "plt.title('Wealth Distribution (Training)')\n",
    "plt.xlabel('Terminal Wealth')\n",
    "plt.ylabel('Density')\n",
    "plt.xlim((0,150))\n",
    "plt.ylim((0,0.12))\n",
    "plt.savefig(f'{images_dir}/03_hist_training.pdf')\n",
    "plt.show()\n",
    "plt.hist(performance_test[:,0],density=True,bins=100,color='lightgray',edgecolor='black')\n",
    "plt.axvline(w0*np.exp(target*maturity),color='black',linewidth=3)\n",
    "plt.title('Wealth Distribution (Validation)')\n",
    "plt.xlabel('Terminal Wealth')\n",
    "plt.ylabel('Density')\n",
    "plt.xlim((0,150))\n",
    "plt.ylim((0,0.12))\n",
    "plt.savefig(f'{images_dir}/03_hist_validation.pdf')\n",
    "plt.show()\n",
    "plt.scatter(S_T_train,performance_train[:,0],color='lightgray',edgecolor='black')\n",
    "plt.plot(S_grid,payoff_grid,color='black',linewidth=3)\n",
    "plt.title('Payoff Diagram (Training)')\n",
    "plt.xlabel('Performance of Underlying')\n",
    "plt.ylabel('Performance of Strategy')\n",
    "plt.xlim((0,250))\n",
    "plt.ylim((0,200))\n",
    "plt.savefig(f'{images_dir}/04_performance_in_sample.pdf')\n",
    "plt.show()\n",
    "plt.scatter(S_T_test,performance_test[:,0],color='lightgray',edgecolor='black')\n",
    "plt.plot(S_grid,payoff_grid,color='black',linewidth=3)\n",
    "plt.title('Payoff Diagram (Validation)')\n",
    "plt.xlabel('Performance of Underlying')\n",
    "plt.ylabel('Performance of Strategy')\n",
    "plt.xlim((0,250))\n",
    "plt.ylim((0,200))\n",
    "plt.savefig(f'{images_dir}/04_performance_out_of_sample.pdf')\n",
    "plt.show()"
   ]
  },
  {
   "cell_type": "code",
   "execution_count": 23,
   "metadata": {
    "executionInfo": {
     "elapsed": 5,
     "status": "ok",
     "timestamp": 1627061261716,
     "user": {
      "displayName": "Thomas Krabichler",
      "photoUrl": "",
      "userId": "11825618390445075503"
     },
     "user_tz": -120
    },
    "id": "MkKd983vM3eV"
   },
   "outputs": [],
   "source": [
    "#temp=np.column_stack((np.reshape(S_T_train,(-1,1)),benchmark,performance_train[:,0]))\n",
    "#np.savetxt('temp.csv',temp,delimiter=',')"
   ]
  },
  {
   "cell_type": "code",
   "execution_count": 24,
   "metadata": {
    "colab": {
     "base_uri": "https://localhost:8080/"
    },
    "executionInfo": {
     "elapsed": 6,
     "status": "ok",
     "timestamp": 1627061261717,
     "user": {
      "displayName": "Thomas Krabichler",
      "photoUrl": "",
      "userId": "11825618390445075503"
     },
     "user_tz": -120
    },
    "id": "Cy4Hca7BM3eV",
    "outputId": "d97a2b07-90a9-47a5-d028-481c6518b287"
   },
   "outputs": [
    {
     "name": "stdout",
     "output_type": "stream",
     "text": [
      "12:26:46\n"
     ]
    }
   ],
   "source": [
    "print(datetime.now().time().strftime(\"%H:%M:%S\"))"
   ]
  },
  {
   "cell_type": "code",
   "execution_count": 25,
   "metadata": {
    "executionInfo": {
     "elapsed": 4,
     "status": "ok",
     "timestamp": 1627061261718,
     "user": {
      "displayName": "Thomas Krabichler",
      "photoUrl": "",
      "userId": "11825618390445075503"
     },
     "user_tz": -120
    },
    "id": "agw5V9gVM3eW"
   },
   "outputs": [],
   "source": [
    "temp_display_strategies=False\n",
    "if temp_display_strategies==True:\n",
    "    S_T_test=x_test[2]\n",
    "    for k in range(maturity-1):\n",
    "        plt.scatter(S_T_test,performance_test[:,1+k*int(1/dt)])\n",
    "        plt.title('Replication Strategy in the Year '+str(k+1))\n",
    "        plt.xlabel('Performance of Underlying')\n",
    "        plt.ylabel('Investment')\n",
    "        plt.xlim((0,suitable_window_max))\n",
    "        plt.ylim((0,2))\n",
    "        plt.show()\n",
    "        for l in range(k*int(1/dt),(k+1)*int(1/dt)):\n",
    "            S_T_test=S_T_test*x_test[l+3]"
   ]
  },
  {
   "cell_type": "code",
   "execution_count": 26,
   "metadata": {
    "colab": {
     "base_uri": "https://localhost:8080/"
    },
    "executionInfo": {
     "elapsed": 4,
     "status": "ok",
     "timestamp": 1627061261718,
     "user": {
      "displayName": "Thomas Krabichler",
      "photoUrl": "",
      "userId": "11825618390445075503"
     },
     "user_tz": -120
    },
    "id": "D1CT4PK-M3eW",
    "outputId": "a1848cfd-6b27-4e2c-d5ca-4d6b66909262"
   },
   "outputs": [
    {
     "name": "stdout",
     "output_type": "stream",
     "text": [
      "12:26:46\n"
     ]
    }
   ],
   "source": [
    "print(datetime.now().time().strftime(\"%H:%M:%S\"))"
   ]
  },
  {
   "cell_type": "code",
   "execution_count": 27,
   "metadata": {
    "colab": {
     "base_uri": "https://localhost:8080/"
    },
    "executionInfo": {
     "elapsed": 30310,
     "status": "ok",
     "timestamp": 1627061292025,
     "user": {
      "displayName": "Thomas Krabichler",
      "photoUrl": "",
      "userId": "11825618390445075503"
     },
     "user_tz": -120
    },
    "id": "uu5rUId3M3eW",
    "outputId": "f10784ee-2f94-4936-fd2c-c8809c8d6754"
   },
   "outputs": [
    {
     "name": "stdout",
     "output_type": "stream",
     "text": [
      "model saved to disc\n"
     ]
    }
   ],
   "source": [
    "model.save(images_dir+'model_trained.h5')\n",
    "print('model saved to disc')"
   ]
  }
 ],
 "metadata": {
  "colab": {
   "collapsed_sections": [],
   "name": "210723_Hedging_Goals_colab_tc.ipynb",
   "provenance": [
    {
     "file_id": "1rUk2V7DeOEzdSfsJPjZbC_BsNFycqq1C",
     "timestamp": 1627050241081
    },
    {
     "file_id": "1dtbCjSdCODkdK3dso5IPFtPYHhnim4gR",
     "timestamp": 1618411570487
    },
    {
     "file_id": "1AXGslYB8_Fo_08o9sSk7val01JvJbk4o",
     "timestamp": 1618298206561
    },
    {
     "file_id": "1Q4G94BTqeVKsvOYsXC5-rROwxxyH1_VL",
     "timestamp": 1618235567601
    },
    {
     "file_id": "19-H8Eq4HfLFaa_axvAVfL29EFDmMwvEw",
     "timestamp": 1618225406285
    },
    {
     "file_id": "1Bq4fINK3seVdKRSM1rItdL-hN5aMElWs",
     "timestamp": 1618214536759
    }
   ]
  },
  "kernelspec": {
   "display_name": "Python 3",
   "language": "python",
   "name": "python3"
  },
  "language_info": {
   "codemirror_mode": {
    "name": "ipython",
    "version": 3
   },
   "file_extension": ".py",
   "mimetype": "text/x-python",
   "name": "python",
   "nbconvert_exporter": "python",
   "pygments_lexer": "ipython3",
   "version": "3.8.8"
  }
 },
 "nbformat": 4,
 "nbformat_minor": 1
}
