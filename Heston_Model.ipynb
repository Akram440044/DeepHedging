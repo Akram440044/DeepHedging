{
 "cells": [
  {
   "cell_type": "markdown",
   "metadata": {
    "colab_type": "text",
    "id": "view-in-github"
   },
   "source": [
    "<a href=\"https://colab.research.google.com/gist/jteichma/4d9c0079dbf4e9c3cdff3fd1befabd23/deep_hedging_bs_conditionalrewards.ipynb\" target=\"_parent\"><img src=\"https://colab.research.google.com/assets/colab-badge.svg\" alt=\"Open In Colab\"/></a>"
   ]
  },
  {
   "cell_type": "markdown",
   "metadata": {
    "id": "e2AxQWQN59kC"
   },
   "source": [
    "# Simulating Stock Prices under the Heston Model"
   ]
  },
  {
   "cell_type": "markdown",
   "metadata": {},
   "source": [
    "## Heston Model\n",
    "\n",
    "### [Formula](https://en.wikipedia.org/wiki/Heston_model)\n",
    "\n",
    "The price of the asset $S_t$ is determined by a stochastic process:\n",
    "\n",
    "<center> $dS_{t}=\\mu S_{t}\\,dt+{\\sqrt  {\\nu_{t}}}S_{t}\\,dW_{t}^{S}$ </center>\n",
    "\n",
    "The instantaneous variance $\\nu_t$ is a CIR process:\n",
    "\n",
    "<center> $d\\nu_{t}=\\kappa (\\theta -\\nu_{t})\\,dt+\\xi {\\sqrt  {\\nu_{t}}}\\,dW_{t}^{{\\nu }}$ </center>\n",
    "\n",
    "where $W_{t}^{S},W_{t}^{\\nu }$ are Wiener processes (continuous random walks) with correlation $\\rho$.\n",
    "\n",
    "The parameters in the above equations represent the following:\n",
    "- $\\mu$ is the rate of return of the asset.\n",
    "- $\\theta$ is the long variance, or long run average price variance; as $t$ tends to infinity, the expected value of $\\nu_t$ tends to $\\theta$.\n",
    "- $\\kappa$ is the rate at which $\\nu_t$ reverts to $\\theta$.\n",
    "- $\\xi$ is the volatility of the volatility, or 'vol of vol', and determines the variance of $\\nu_t$.\n",
    "\n",
    "If $2\\kappa \\theta >\\xi ^{2}$ (Feller condition), then the process $\\nu_t$ is strictly positive.\n",
    "\n",
    "\n",
    "### Discretization\n",
    "Forward Euler for Heston model\n",
    "\n",
    "<center> $\\nu_{t} = \\nu_{t-1} + \\kappa (\\theta -\\nu_{t-1})\\frac{T}{N} + \\xi{\\sqrt{|\\nu_{t-1}|}}\\sqrt{\\frac{T}{N}} Z_{t}^{\\nu}$ </center>\n",
    "\n",
    "<center> $\\log(S_t)= \\log(S_{t-1}) -\\frac{\\nu_{t}^2}{2} \\frac{T}{N} + \\nu_{t} \\sqrt{\\frac{T}{N}} Z_{t}^{S}$ </center>\n",
    "\n",
    "\n",
    "### Implementation Decisions (to be made)\n",
    "- Initialization - does it matter in our case?\n",
    "- Parameter tuning - maybe it doesn't matter in our case either\n",
    "- What to do when v < 0? abs, trunc? Do we apply it to all v's in the formula?\n",
    "\n",
    "### Some References\n",
    "- https://www.degruyter.com/document/doi/10.1515/math-2017-0058/html#:~:text=The%20main%20parameters%20of%20interest,increases%20the%20prices%20of%20options\n",
    "- https://www.quantstart.com/articles/Heston-Stochastic-Volatility-Model-with-Euler-Discretisation-in-C/\n",
    "- https://arxiv.org/pdf/1502.02963.pdf\n",
    "- https://www.valpo.edu/mathematics-statistics/files/2015/07/Estimating-Option-Prices-with-Heston%E2%80%99s--Stochastic-Volatility-Model.pdf\n",
    "- Heston code (Michele mentioned it in the last meeting): https://github.com/daleroberts/heston/blob/master/heston.r"
   ]
  },
  {
   "cell_type": "code",
   "execution_count": 1,
   "metadata": {},
   "outputs": [],
   "source": [
    "import numpy as np\n",
    "import matplotlib.pyplot as plt"
   ]
  },
  {
   "cell_type": "code",
   "execution_count": 2,
   "metadata": {},
   "outputs": [],
   "source": [
    "## Dimensions\n",
    "m = 1           # dimention of output\n",
    "Ktrain = 10**5  # number of training models\n",
    "\n",
    "N = 100         # time disrectization\n",
    "T = 1           # maturity\n",
    "\n",
    "## Parameters\n",
    "corr = -0.3     # correlation between the two process\n",
    "kappa = 0.9     # kappa: mean reversion rate\n",
    "theta = 0.2     # theta: long-term volatility\n",
    "xi = 0.2        # xi: volatility of volatility\n",
    "\n",
    "## Initialization - could have other values\n",
    "S0 = 1 * np.ones((Ktrain,m))\n",
    "v0 = theta * np.ones((Ktrain,m))\n",
    "S = [S0]\n",
    "v = [v0]\n",
    "\n",
    "## Simulation - generate volatility and stock price from day 0 to day N\n",
    "\n",
    "v_curr = v0; S_curr = S0\n",
    "\n",
    "for i in range(N):\n",
    "    \n",
    "    # Simulate standard normal random variables\n",
    "    Z1_i = np.random.normal(0,1,(Ktrain,m))\n",
    "    Z2_i = np.random.normal(0,1,(Ktrain,m))\n",
    "    \n",
    "    # Generate correlated Brownian motions\n",
    "    WS_curr = np.sqrt(T/N)*Z1_i\n",
    "    Wv_curr = np.sqrt(T/N)*(corr*Z1_i + np.sqrt(1-corr**2)*Z2_i)\n",
    "    \n",
    "    # Calculate volatility and stock price\n",
    "    # Adjustment: np.abs(v_curr) for np.sqrt() in the last term\n",
    "    v_new = v_curr + kappa*(theta-v_curr)*T/N + xi*np.sqrt(np.abs(v_curr))*Wv_curr\n",
    "    S_new = np.exp(np.log(S_curr) - v_new**2/2*T/N + v_new*WS_curr)\n",
    "    \n",
    "    v_curr = v_new; S_curr = S_new\n",
    "    \n",
    "    # Append the results to the arrays of each day's value\n",
    "    v += [v_new]; S += [S_new]\n",
    "    "
   ]
  },
  {
   "cell_type": "code",
   "execution_count": 3,
   "metadata": {},
   "outputs": [
    {
     "name": "stdout",
     "output_type": "stream",
     "text": [
      "0.9736524915789709\n",
      "0.19869749780746856\n"
     ]
    },
    {
     "data": {
      "text/plain": [
       "(array([3.0000e+00, 2.1000e+01, 1.5800e+02, 7.2600e+02, 2.3060e+03,\n",
       "        5.8570e+03, 1.0759e+04, 1.5938e+04, 1.8680e+04, 1.7022e+04,\n",
       "        1.2457e+04, 7.7250e+03, 4.3400e+03, 2.1740e+03, 1.0070e+03,\n",
       "        4.7300e+02, 1.9100e+02, 8.7000e+01, 3.9000e+01, 2.0000e+01,\n",
       "        1.1000e+01, 4.0000e+00, 0.0000e+00, 1.0000e+00, 1.0000e+00]),\n",
       " array([0.18497177, 0.27389178, 0.3628118 , 0.45173181, 0.54065182,\n",
       "        0.62957184, 0.71849185, 0.80741187, 0.89633188, 0.98525189,\n",
       "        1.07417191, 1.16309192, 1.25201193, 1.34093195, 1.42985196,\n",
       "        1.51877198, 1.60769199, 1.696612  , 1.78553202, 1.87445203,\n",
       "        1.96337205, 2.05229206, 2.14121207, 2.23013209, 2.3190521 ,\n",
       "        2.40797211]),\n",
       " <BarContainer object of 25 artists>)"
      ]
     },
     "execution_count": 3,
     "metadata": {},
     "output_type": "execute_result"
    },
    {
     "data": {
      "image/png": "[encoded data removed]",
      "text/plain": [
       "<Figure size 432x288 with 1 Axes>"
      ]
     },
     "metadata": {
      "needs_background": "light"
     },
     "output_type": "display_data"
    }
   ],
   "source": [
    "print(np.mean(S[N]))\n",
    "print(np.std(S[N]))\n",
    "plt.hist(S[N], bins = 25)"
   ]
  },
  {
   "cell_type": "markdown",
   "metadata": {},
   "source": [
    "## Comparison - Constant Volatility"
   ]
  },
  {
   "cell_type": "code",
   "execution_count": 4,
   "metadata": {},
   "outputs": [],
   "source": [
    "## Dimensions\n",
    "m = 1           # dimention of output\n",
    "Ktrain = 10**5  # number of training models\n",
    "\n",
    "N = 100         # time disrectization\n",
    "T = 1           # maturity\n",
    "\n",
    "## Parameters\n",
    "corr = -0.3     # correlation between the two process\n",
    "kappa = 0.7     # kappa: mean reversion rate\n",
    "theta = 0.2     # theta: long-term volatility\n",
    "xi = 0.4        # xi: volatility of volatility\n",
    "\n",
    "\n",
    "## Initialization - could have other values\n",
    "S0 = 1 * np.ones((Ktrain,m))\n",
    "v0 = theta * np.ones((Ktrain,m))\n",
    "S = [S0]\n",
    "v = [v0]\n",
    "\n",
    "## Simulation\n",
    "# generate volatility and stock price from day 0 to day N\n",
    "\n",
    "v_curr = v0; S_curr = S0\n",
    "\n",
    "for i in range(N):\n",
    "    \n",
    "    # Simulate standard normal random variables\n",
    "    Z1_i = np.random.normal(0,1,(Ktrain,m))\n",
    "    WS_curr = np.sqrt(T/N)*Z1_i\n",
    "    S_new = np.exp(np.log(S_curr) - v0**2/2*T/N + v0*WS_curr)\n",
    "    S_curr = S_new\n",
    "    \n",
    "    # Append the results to the arrays of each day's value\n",
    "    S += [S_new]\n",
    "    \n"
   ]
  },
  {
   "cell_type": "code",
   "execution_count": 5,
   "metadata": {},
   "outputs": [
    {
     "name": "stdout",
     "output_type": "stream",
     "text": [
      "0.9995654951401842\n",
      "0.20132038091651966\n"
     ]
    },
    {
     "data": {
      "text/plain": [
       "(array([3.0000e+00, 4.8000e+01, 4.3700e+02, 2.0110e+03, 5.4670e+03,\n",
       "        1.0009e+04, 1.4007e+04, 1.5682e+04, 1.4973e+04, 1.2335e+04,\n",
       "        9.2590e+03, 6.4000e+03, 3.9330e+03, 2.4080e+03, 1.3430e+03,\n",
       "        8.2200e+02, 4.3700e+02, 1.9900e+02, 1.2600e+02, 5.4000e+01,\n",
       "        2.6000e+01, 1.7000e+01, 1.0000e+00, 2.0000e+00, 1.0000e+00]),\n",
       " array([0.3590734 , 0.43527257, 0.51147174, 0.58767091, 0.66387008,\n",
       "        0.74006924, 0.81626841, 0.89246758, 0.96866675, 1.04486592,\n",
       "        1.12106508, 1.19726425, 1.27346342, 1.34966259, 1.42586176,\n",
       "        1.50206093, 1.57826009, 1.65445926, 1.73065843, 1.8068576 ,\n",
       "        1.88305677, 1.95925593, 2.0354551 , 2.11165427, 2.18785344,\n",
       "        2.26405261]),\n",
       " <BarContainer object of 25 artists>)"
      ]
     },
     "execution_count": 5,
     "metadata": {},
     "output_type": "execute_result"
    },
    {
     "data": {
      "image/png": "[encoded data removed]",
      "text/plain": [
       "<Figure size 432x288 with 1 Axes>"
      ]
     },
     "metadata": {
      "needs_background": "light"
     },
     "output_type": "display_data"
    }
   ],
   "source": [
    "print(np.mean(S[N]))\n",
    "print(np.std(S[N]))\n",
    "plt.hist(S[N], bins = 25)"
   ]
  },
  {
   "cell_type": "markdown",
   "metadata": {
    "id": "e2AxQWQN59kC"
   },
   "source": [
    "# The Greeks"
   ]
  },
  {
   "cell_type": "markdown",
   "metadata": {},
   "source": [
    "### Main Reference\n",
    "\n",
    "**Valuing European Option Using the Heston Model in QuantLib Python**\n",
    "\n",
    "http://gouthamanbalaraman.com/blog/valuing-european-option-heston-model-quantLib.html\n",
    "\n",
    "- kappa = 0.1   mean reversion strength \n",
    "- sigma = 0.1   vol of volatility \n",
    "- rho = -0.75   correlation between the asset price and its variance\n",
    "- vol = 0.2     vol of the underlying stock (known to be 20%)\n",
    "- v0 = vol^2 = 0.04   the spot variance \n",
    "- theta = v0    the mean reversion variance\n",
    "\n",
    "### Some Other References\n",
    "\n",
    "- QuantLib: setting up QuantLib-Python and pricing an option: https://www.quantopia.net/quantlib-setting-up-quantlib-python-and-pricing-an-option/\n",
    "- Introducing QuantLib: Black-Scholes and the Greeks: https://mhittesdorf.wordpress.com/2013/07/29/introducing-quantlib-black-scholes-and-the-greeks/\n",
    "- QuantLib, the Greeks and other useful option-related values: https://quantcorner.wordpress.com/2011/02/06/quantlib-the-greeks-and-other-useful-option-related-values/\n",
    "- Heston Model: Formula, Assumptions, Limitations: https://blog.quantinsti.com/heston-model/"
   ]
  },
  {
   "cell_type": "code",
   "execution_count": 6,
   "metadata": {},
   "outputs": [],
   "source": [
    "#!pip install QuantLib-Python"
   ]
  },
  {
   "cell_type": "code",
   "execution_count": 7,
   "metadata": {},
   "outputs": [],
   "source": [
    "import QuantLib as ql"
   ]
  },
  {
   "cell_type": "code",
   "execution_count": 8,
   "metadata": {},
   "outputs": [],
   "source": [
    "# option parameters\n",
    "strike_price = 100.00\n",
    "option_type = ql.Option.Call\n",
    "maturity_date = ql.Date(31, 12, 2020)\n",
    "day_count = ql.Actual365Fixed()\n",
    "calendar = ql.UnitedStates()\n",
    "\n",
    "# construct the European Option\n",
    "payoff = ql.PlainVanillaPayoff(option_type, strike_price)\n",
    "exercise = ql.EuropeanExercise(maturity_date)\n",
    "european_option = ql.VanillaOption(payoff, exercise)\n",
    "\n",
    "# parameters for Heston\n",
    "kappa = 0.1  # mean reversion strength\n",
    "sigma = 0.1  # vol of vol\n",
    "rho = -0.75  # corr between asset price and var\n",
    "vol = 0.20   # historical vols for the stock\n",
    "v0 = vol*vol # spot variance\n",
    "theta = v0   # mean reversion variance"
   ]
  },
  {
   "cell_type": "code",
   "execution_count": 9,
   "metadata": {},
   "outputs": [],
   "source": [
    "def heston_value(calculation_date, v0, spot_price):\n",
    "    # set the evaluation date\n",
    "    ql.Settings.instance().evaluationDate = calculation_date\n",
    "\n",
    "    # construct the yield curve\n",
    "    dividend_rate =  0\n",
    "    risk_free_rate = 0\n",
    "    flat_ts = ql.YieldTermStructureHandle(\n",
    "        ql.FlatForward(calculation_date, risk_free_rate, day_count)\n",
    "    )\n",
    "    dividend_yield = ql.YieldTermStructureHandle(\n",
    "        ql.FlatForward(calculation_date, dividend_rate, day_count)\n",
    "    )\n",
    "\n",
    "    # set the spot price\n",
    "    spot_handle = ql.QuoteHandle(\n",
    "        ql.SimpleQuote(spot_price)\n",
    "    )\n",
    "    \n",
    "    # calculate option price\n",
    "    heston_process = ql.HestonProcess(\n",
    "    flat_ts, dividend_yield, spot_handle,\n",
    "    v0, kappa, theta, sigma, rho\n",
    "    )\n",
    "\n",
    "    engine = ql.AnalyticHestonEngine(ql.HestonModel(heston_process),0.01, 1000)\n",
    "    european_option.setPricingEngine(engine)\n",
    "    h_price = european_option.NPV()\n",
    "    \n",
    "    return h_price"
   ]
  },
  {
   "cell_type": "markdown",
   "metadata": {},
   "source": [
    "### Calculate the Greeks numerically\n",
    "Use central finite difference"
   ]
  },
  {
   "cell_type": "code",
   "execution_count": 10,
   "metadata": {},
   "outputs": [
    {
     "name": "stdout",
     "output_type": "stream",
     "text": [
      "3.9643095229387697\n"
     ]
    },
    {
     "data": {
      "text/plain": [
       "[2.152885079854798, 196.48164768210563]"
      ]
     },
     "execution_count": 10,
     "metadata": {},
     "output_type": "execute_result"
    }
   ],
   "source": [
    "calculation_date = ql.Date(1, 10, 2020)\n",
    "v0 = 0.04\n",
    "spot_price = 100.00\n",
    "price = heston_value(calculation_date, v0, spot_price)\n",
    "print(price)\n",
    "\n",
    "\n",
    "v0_delta = 0.001\n",
    "spot_delta = 1\n",
    "\n",
    "def calc_greeks(calculation_date, v0, spot_price):\n",
    "\n",
    "    v0_plus  = v0 + v0_delta\n",
    "    v0_minus = v0 - v0_delta\n",
    "    spot_price_plus  = spot_price + spot_delta\n",
    "    spot_price_minus = spot_price - spot_delta\n",
    "    \n",
    "    p_curr = heston_value(calculation_date, v0, spot_price)\n",
    "    \n",
    "    p_theta_plus  = heston_value(calculation_date, v0_plus,  spot_price)\n",
    "    p_theta_minus = heston_value(calculation_date, v0_minus, spot_price)\n",
    "    \n",
    "    p_delta_plus  = heston_value(calculation_date, v0, spot_price_plus)\n",
    "    p_delta_minus = heston_value(calculation_date, v0, spot_price_minus)\n",
    "    \n",
    "    delta = (p_delta_plus - p_delta_minus) / spot_delta * 2\n",
    "    theta = (p_theta_plus - p_theta_minus) / v0_delta * 2\n",
    "    \n",
    "    return [delta, theta]\n",
    "\n",
    "calc_greeks(calculation_date, v0, spot_price)"
   ]
  },
  {
   "cell_type": "code",
   "execution_count": null,
   "metadata": {},
   "outputs": [],
   "source": []
  }
 ],
 "metadata": {
  "colab": {
   "collapsed_sections": [],
   "include_colab_link": true,
   "name": "deep_hedging_bs_conditionalrewards.ipynb",
   "provenance": []
  },
  "kernelspec": {
   "display_name": "Python 3",
   "language": "python",
   "name": "python3"
  },
  "language_info": {
   "codemirror_mode": {
    "name": "ipython",
    "version": 3
   },
   "file_extension": ".py",
   "mimetype": "text/x-python",
   "name": "python",
   "nbconvert_exporter": "python",
   "pygments_lexer": "ipython3",
   "version": "3.8.5"
  }
 },
 "nbformat": 4,
 "nbformat_minor": 1
}
