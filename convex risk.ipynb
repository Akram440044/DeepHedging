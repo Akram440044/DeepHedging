{
 "cells": [
  {
   "cell_type": "markdown",
   "id": "enclosed-chair",
   "metadata": {},
   "source": [
    "## Convex risk\n",
    "\n",
    "Convex risk for a payoff $X$ has the following cash invariant property \n",
    "$$\n",
    "\\rho(X+c) = \\rho(X)-c\n",
    "$$\n",
    "and the convex risk with trading \n",
    "$$\n",
    "\\pi(X) = \\inf_{\\delta \\in \\mathcal{H}} \\rho(X + (\\delta \\cdot S)_{T} - C_{T}(\\delta))\n",
    "$$\n",
    "Usually it helps if we consider $X = -Z$. \n",
    "\n",
    "$\\rho(-Z)$ is the cash to accept $-Z$ and $\\pi(-Z)$ is the cash to accept $-Z$ with trading. \n",
    "\n",
    "Consider family of convex risk \n",
    "$$\n",
    "\\rho(X) = \\inf_{w\\in\\mathbb{R}}\\{w + \\mathbb{E}[l(-X-w)]\\}\n",
    "$$\n"
   ]
  }
 ],
 "metadata": {
  "kernelspec": {
   "display_name": "Python [conda env:deephedge] *",
   "language": "python",
   "name": "conda-env-deephedge-py"
  },
  "language_info": {
   "codemirror_mode": {
    "name": "ipython",
    "version": 3
   },
   "file_extension": ".py",
   "mimetype": "text/x-python",
   "name": "python",
   "nbconvert_exporter": "python",
   "pygments_lexer": "ipython3",
   "version": "3.8.8"
  }
 },
 "nbformat": 4,
 "nbformat_minor": 5
}
