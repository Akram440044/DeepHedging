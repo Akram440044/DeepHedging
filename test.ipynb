{
 "cells": [
  {
   "cell_type": "code",
   "execution_count": 36,
   "id": "loaded-iraqi",
   "metadata": {},
   "outputs": [
    {
     "data": {
      "text/plain": [
       "<module 'utils.utils_efficient' from 'C:\\\\SongyanHou\\\\Study\\\\Codes\\\\DeepHedging\\\\utils\\\\utils_efficient.py'>"
      ]
     },
     "execution_count": 36,
     "metadata": {},
     "output_type": "execute_result"
    }
   ],
   "source": [
    "import numpy as np \n",
    "import tensorflow as tf\n",
    "import matplotlib.pyplot as plt\n",
    "from scipy.stats import norm\n",
    "import utils.utils_efficient as utils_efficient\n",
    "from importlib import reload \n",
    "reload(utils_efficient)"
   ]
  },
  {
   "cell_type": "code",
   "execution_count": 37,
   "id": "spanish-rogers",
   "metadata": {},
   "outputs": [],
   "source": [
    "Networks = utils_efficient.build_network(1, 0, 3, 100)"
   ]
  },
  {
   "cell_type": "code",
   "execution_count": 39,
   "id": "tribal-hudson",
   "metadata": {},
   "outputs": [
    {
     "name": "stdout",
     "output_type": "stream",
     "text": [
      "Model: \"functional_1\"\n",
      "_________________________________________________________________\n",
      "Layer (type)                 Output Shape              Param #   \n",
      "=================================================================\n",
      "input_1 (InputLayer)         [(None, 1)]               0         \n",
      "_________________________________________________________________\n",
      "batch_normalization (BatchNo (None, 1)                 4         \n",
      "_________________________________________________________________\n",
      "0step0layer (Dense)          (None, 16)                32        \n",
      "_________________________________________________________________\n",
      "batch_normalization_1 (Batch (None, 16)                64        \n",
      "_________________________________________________________________\n",
      "tf_op_layer_Relu (TensorFlow [(None, 16)]              0         \n",
      "_________________________________________________________________\n",
      "0step1layer (Dense)          (None, 16)                272       \n",
      "_________________________________________________________________\n",
      "batch_normalization_2 (Batch (None, 16)                64        \n",
      "_________________________________________________________________\n",
      "tf_op_layer_Relu_1 (TensorFl [(None, 16)]              0         \n",
      "_________________________________________________________________\n",
      "0step2layer (Dense)          (None, 1)                 17        \n",
      "=================================================================\n",
      "Total params: 453\n",
      "Trainable params: 387\n",
      "Non-trainable params: 66\n",
      "_________________________________________________________________\n"
     ]
    }
   ],
   "source": [
    "Networks[0].summary()"
   ]
  },
  {
   "cell_type": "code",
   "execution_count": 40,
   "id": "optional-training",
   "metadata": {},
   "outputs": [],
   "source": [
    "model = Networks[0]"
   ]
  },
  {
   "cell_type": "code",
   "execution_count": null,
   "id": "cosmetic-serum",
   "metadata": {},
   "outputs": [],
   "source": []
  }
 ],
 "metadata": {
  "kernelspec": {
   "display_name": "Python [conda env:deephedge] *",
   "language": "python",
   "name": "conda-env-deephedge-py"
  },
  "language_info": {
   "codemirror_mode": {
    "name": "ipython",
    "version": 3
   },
   "file_extension": ".py",
   "mimetype": "text/x-python",
   "name": "python",
   "nbconvert_exporter": "python",
   "pygments_lexer": "ipython3",
   "version": "3.8.8"
  }
 },
 "nbformat": 4,
 "nbformat_minor": 5
}
